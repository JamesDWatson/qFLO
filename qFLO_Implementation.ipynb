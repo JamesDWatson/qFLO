{
 "cells": [
  {
   "cell_type": "markdown",
   "id": "5e1ec53a-2f53-4efc-815d-794e77d665d1",
   "metadata": {},
   "source": [
    "# Implementation for the qFLO Algorithm"
   ]
  },
  {
   "cell_type": "markdown",
   "id": "dbf984ec-04ff-41bd-b96c-e90bf51bbc86",
   "metadata": {},
   "source": [
    "### James D. Watson"
   ]
  },
  {
   "cell_type": "markdown",
   "id": "1c9a1223-fa1d-42fa-895f-92142a569e5d",
   "metadata": {},
   "source": [
    "# Table of contents\n",
    "1. [Introduction](#introduction)\n",
    "2. [Methods](#methods)\n",
    "    1. [Linear Algebra Functions](#linalg)\n",
    "    2. [Simulation Functions](#simulation)\n",
    "    3. [Local Observables](#observable)\n",
    "3. [Hamiltonian Input from OpenFermion](#openfermion)\n",
    "4. [qDRIFT Implementation](#qDRIFT)\n",
    "5. [qFLO Implementation](#qFLO)\n",
    "    1. [qFLO Example](#linalg)"
   ]
  },
  {
   "cell_type": "markdown",
   "id": "865a454b-918c-42d0-a483-3c097a123e56",
   "metadata": {},
   "source": [
    "# Introduction <a name=\"introduction\"></a>"
   ]
  },
  {
   "cell_type": "markdown",
   "id": "eb525f6c-ca46-4d2e-9a14-7ff8de4a5c8f",
   "metadata": {},
   "source": [
    "Here we give explicit code for the qFLO algorithm given in https://arxiv.org/abs/2411.04240"
   ]
  },
  {
   "cell_type": "markdown",
   "id": "a9499ddf-6410-43ba-b9fa-2f65b71dd014",
   "metadata": {},
   "source": [
    "# Methods <a name=\"methods\"></a>"
   ]
  },
  {
   "cell_type": "markdown",
   "id": "f4b61024-d16c-4c35-84be-86399cb00133",
   "metadata": {},
   "source": [
    "## Useful Pauli and Qubit Manipulations"
   ]
  },
  {
   "cell_type": "code",
   "execution_count": 1,
   "id": "ba323fb2-e683-4f36-acbc-da831b6fbe93",
   "metadata": {},
   "outputs": [
    {
     "name": "stderr",
     "output_type": "stream",
     "text": [
      "C:\\Users\\05wat\\anaconda3\\Lib\\site-packages\\scipy\\__init__.py:155: UserWarning: A NumPy version >=1.18.5 and <1.26.0 is required for this version of SciPy (detected version 1.26.4\n",
      "  warnings.warn(f\"A NumPy version >={np_minversion} and <{np_maxversion}\"\n"
     ]
    }
   ],
   "source": [
    "# Imports\n",
    "\n",
    "import numpy as np\n",
    "import scipy.interpolate as interp\n",
    "import scipy.linalg as sla\n",
    "import numpy.linalg as nla\n",
    "import matplotlib.pyplot as plt\n",
    "import random as rand\n",
    "import pandas as pd\n",
    "from mpmath import *\n",
    "from datetime import datetime\n",
    "from datetime import date"
   ]
  },
  {
   "cell_type": "code",
   "execution_count": 389,
   "id": "c28e3d02-3672-4267-bee2-488e2f5f0ee9",
   "metadata": {},
   "outputs": [],
   "source": [
    "# Computes Kronecker (tensor) product of a list of matrices\n",
    "# Example:\n",
    "# Input: [X,Y,Z,Y]\n",
    "# Return: X \\ox Y \\ox Z \\ox Y\n",
    "def kron_list(matrix_list):\n",
    "    result = matrix_list[0]\n",
    "    for i in range(1,len(matrix_list)):\n",
    "        result = np.kron(result,matrix_list[i])\n",
    "        \n",
    "    return result\n",
    "\n",
    "# Pauli matrices\n",
    "I = np.array([[1.,0],[0,1.]], dtype='complex')\n",
    "X = np.array([[0,1.],[1.,0]], dtype='complex')\n",
    "Y = np.array([[0,-1.j],[1.j,0]], dtype='complex')\n",
    "Z = np.array([[1.,0],[0,-1.]], dtype='complex')\n",
    "\n",
    "# Converts string representation of paulis to list of matrices,\n",
    "# Example:\n",
    "# Input: \"XYZY\"\n",
    "# Return: [X,Y,Z,Y]\n",
    "def paulistring_to_list(paulistring): \n",
    "    matrix_list = list(paulistring)\n",
    "    translate = {'I':I, 'X':X, 'Y':Y, 'Z':Z}\n",
    "    for p in range(len(paulistring)):\n",
    "        matrix_list[p] = translate[matrix_list[p]]\n",
    "    return matrix_list\n",
    "\n",
    "# Computes generalized pauli matrix, given a string in standard form,\n",
    "# Example:\n",
    "# Input: \"XYZY\"\n",
    "# Return: X \\ox Y \\ox Z \\ox Y\n",
    "def pauli_matrix(paulistring):\n",
    "    return kron_list(paulistring_to_list(paulistring))\n",
    "\n",
    "# Computes generalized pauli matrix, specified by non-identity pieces. Nonidentities encoded as dictionary\n",
    "# of the form {k:'P', ..., } where k is the integer location and P is a pauli\n",
    "# Example:\n",
    "# Input: {0: 'X', 3:'Z', 5:'X'}, 6\n",
    "# Return: X\\ox I \\ox  Z \\ox I \\ox I \\ox X\n",
    "def sparse_pauli(nonidentities, nqubits):\n",
    "    #starting string is all identity\n",
    "    paulilist = []\n",
    "    for i in range(0, nqubits):\n",
    "        paulilist.append('I')\n",
    "    \n",
    "    #Change string to paulis specified by dictionary\n",
    "    for key in nonidentities:\n",
    "        paulilist[key] = nonidentities[key]\n",
    "    paulistring = ''.join(paulilist)\n",
    "    \n",
    "    return pauli_matrix(paulistring) \n",
    "\n",
    "# Returns the matrix of \\sigma . \\sigma between sites i and j\n",
    "# Example:\n",
    "# Input: 0,1,4\n",
    "# Return: X\\ox X \\ox I \\ox I + Y\\ox Y \\ox I \\ox I + Z\\ox Z \\ox I \\ox I\n",
    "def sigma_dot_sigma(i,j,nqubits):\n",
    "    return sparse_pauli({i:'X',j:'X'},nqubits) + sparse_pauli({i:'Y',j:'Y'},nqubits) + sparse_pauli({i:'Z',j:'Z'},nqubits)\n",
    "\n",
    "# Qubit computational basis\n",
    "zero = np.array([1.,0], dtype ='complex')\n",
    "one = np.array([0,1.], dtype ='complex')\n",
    "\n",
    "# Converts a bitstring to list of single-qubit kets\n",
    "# Example: \n",
    "# Input: \"0101\"\n",
    "# Output: list( (1,0), (0,1), (1,0), (0,1) )\n",
    "def bitstring_to_list(bitstring):\n",
    "    bitlist = list(bitstring)\n",
    "    translate = {'0':zero, '1':one}\n",
    "    for b in range(len(bitstring)):\n",
    "        bitlist[b] = translate[bitlist[b]]\n",
    "    return bitlist\n",
    "\n",
    "# Converts a bitstring to full vector/array describing each qubit.\n",
    "# Example: \n",
    "# Input: \"0101\"\n",
    "# Output:  (1,0) \\ox (0,1) \\ox (1,0) \\ox (0,1) \n",
    "def basis_ket(bitstring):\n",
    "    return kron_list(bitstring_to_list(bitstring))\n",
    "\n",
    "\n",
    "# Outputs a bit string with certain positions set to 1, and otherwise set to zero.\n",
    "# Example: \n",
    "# Input: [0,1,2],3\n",
    "# Output:  (0,0,0,0,0,0,0,0,1)\n",
    "def sparse_bitstring(ones, nqubits):\n",
    "    bitlist = ['0']*nqubits\n",
    "    \n",
    "    #Flip certain bits to one, as specified by list of qubit indices\n",
    "    for qubit in ones:\n",
    "        bitlist[qubit] = '1'\n",
    "    \n",
    "    # Convert list to bitstring\n",
    "    bitstring = ''.join(bitlist)\n",
    "    \n",
    "    return basis_ket(bitstring)"
   ]
  },
  {
   "cell_type": "markdown",
   "id": "13d60868-0d43-40c1-bda1-026ff26e4a77",
   "metadata": {},
   "source": [
    "## Linear Algebra Functions <a name=\"linalg\"></a>"
   ]
  },
  {
   "cell_type": "code",
   "execution_count": 3,
   "id": "668054dc-a2b3-4f23-937f-19d38e0538cd",
   "metadata": {},
   "outputs": [],
   "source": [
    "## We are working with large matrix powers. Here we use diagonalisation rather than the repeated square method to compute\n",
    "## large exponents.\n",
    "## Code taken from: https://saturncloud.io/blog/numpys-matrixpower-function-understanding-and-addressing-incorrect-results-for-large-exponents/\n",
    "\n",
    "# Computer n^th power of square, diagonalisable matrix A:\n",
    "def matrix_power_eigenvalue(A, n):\n",
    "    #Adjust precision\n",
    "    #mp.dps = 20\n",
    "    \n",
    "    ## Use in-built hi-precision function:\n",
    "    output =  np.array(mp.powm(A, n).tolist(), dtype=complex)\n",
    "    \n",
    "    return output\n",
    "\n",
    "def matrix_power_eigenvalue_precise(A, n, precision=20):\n",
    "    #Adjust precision\n",
    "    mp.dps = precision\n",
    "    \n",
    "    \n",
    "    ## Use in-built hi-precision function:\n",
    "    #output =  np.array(mp.powm(A, n).tolist(), dtype=complex)\n",
    "    output =  mp.powm(A, n)\n",
    "   \n",
    "    return output\n",
    "\n",
    "# The old function\n",
    "def matrix_power_eigenvalue_old(A, n):\n",
    "   \n",
    "    \n",
    "    eigenvalues, eigenvectors = np.linalg.eig(A)\n",
    "    D = np.diag(eigenvalues**n)\n",
    "    print(D)\n",
    "    output = fp.matrix( eigenvectors @ D @ np.linalg.inv(eigenvectors))\n",
    "    \n",
    "    \n",
    "    return output"
   ]
  },
  {
   "cell_type": "markdown",
   "id": "23adf0a1-b723-475f-b436-639aa560b74f",
   "metadata": {},
   "source": [
    "### Simulation Functions <a name=\"simulation\"></a>"
   ]
  },
  {
   "cell_type": "code",
   "execution_count": 4,
   "id": "cf6b1937-766a-4e00-8175-c4877e2bd08a",
   "metadata": {},
   "outputs": [],
   "source": [
    "# Given: a positive integer, nqubits, and a list of n floats, hlist\n",
    "# Generates the 1D Heisenberg chain Hamiltonian specified in the introduction.\n",
    "def heisenbergH(nqubits, hlist):\n",
    "    H = sigma_dot_sigma(0,1,nqubits) + hlist[0]*sparse_pauli({0:'Z'}, nqubits)\n",
    "    for j in range(1, nqubits):\n",
    "        H += sigma_dot_sigma(j, (j+1)%nqubits, nqubits) + hlist[j]*sparse_pauli({j:'Z'}, nqubits)\n",
    "    return H\n",
    "\n",
    "# Given a square matrix H and float T\n",
    "# Returns the exact time evolution operator e^{-i H T} \n",
    "def Uexact(H, T):\n",
    "    return sla.expm(-1.j*H*T)\n",
    "\n",
    "## Returns the matrix with high precision exponentiation.\n",
    "def Uexact_precise(H, T):\n",
    "    \n",
    "    #Adjust precision\n",
    "    mp.dps = 20\n",
    "    \n",
    "    Uexact = mp.expm( -1.j*H*T , method='taylor')\n",
    "    \n",
    "    \n",
    "    ## Use in-built hi-precision function:\n",
    "    output =  np.array(Uexact.tolist(), dtype=complex)\n",
    "    \n",
    "    return output\n",
    "\n",
    "\n",
    "# Computes a single time step of first or second order Trotter\n",
    "# Terms in Hterms are applied to the state in increasing index (0,1,...,m)\n",
    "def Utrot_short(Hterms, t, order = 1):\n",
    "    m = len(Hterms) # number of terms\n",
    "    result = sla.expm(-1.j*Hterms[m-1]*t)\n",
    "    if order == 1:  \n",
    "        for k in range(m-2,-1,-1):\n",
    "            result = result @ sla.expm(-1.j*Hterms[k]*t)\n",
    "    \n",
    "    elif order == 2: \n",
    "        for k in range(m-2, -1, -1):\n",
    "            result = sla.expm(-1.j*Hterms[k]*t/2) @ result @ sla.expm(-1.j*Hterms[k]*t/2)\n",
    "    else:\n",
    "        raise ValueError(\"Not a valid order of Trotter formula: must be 1 or 2\")\n",
    "    return result\n",
    "\n",
    "# Computes a single time step of first or second order Trotter\n",
    "# Terms in Hterms are applied to the state in increasing index (0,1,...,m)\n",
    "def Utrot_short_precise(Hterms, t, order = 1, precision =20):\n",
    "    \n",
    "    #Adjust precision\n",
    "    mp.dps = precision\n",
    "    \n",
    "    m = len(Hterms) # number of terms\n",
    "    result = mp.expm(-1.j*Hterms[m-1]*t)\n",
    "    if order == 1:  \n",
    "        for k in range(m-2,-1,-1):\n",
    "            result = result @ mp.expm(-1.j*Hterms[k]*t)\n",
    "    \n",
    "    elif order == 2: \n",
    "        for k in range(m-2, -1, -1):\n",
    "            result = mp.expm(-1.j*Hterms[k]*t/2) @ result @ mp.expm(-1.j*Hterms[k]*t/2)\n",
    "    else:\n",
    "        raise ValueError(\"Not a valid order of Trotter formula: must be 1 or 2\")\n",
    "    return result\n",
    "    \n",
    "# Given: a list Hterms of square matrices of same dimension, float T, a (possibly noninteger) number of steps, and order =1,2\n",
    "# Returns a Trotter evolution of given order and step number, for time T\n",
    "def Utrot_long(Hterms, T, steps, order = 1):\n",
    "    single_step = Utrot_short(Hterms, T/steps, order)\n",
    "    \n",
    "    integer_steps = int( np.floor(steps) )\n",
    "    fractional_step = steps - integer_steps\n",
    "    \n",
    "    integer_step_evolve = matrix_power_eigenvalue(single_step, integer_steps)\n",
    "    fractional_step_evolve = sla.fractional_matrix_power(single_step, fractional_step)\n",
    "    \n",
    "    total_evolution = integer_step_evolve @ fractional_step_evolve \n",
    "    \n",
    "    return total_evolution\n",
    "\n",
    "## Above, but high precision\n",
    "def Utrot_long_precise(Hterms, T, steps, order = 1, precision =20):\n",
    "    \n",
    "    #Adjust precision\n",
    "    mp.dps = precision\n",
    "    \n",
    "    \n",
    "    single_step = Utrot_short_precise(Hterms, T/steps, order)\n",
    "    \n",
    "    step_evolve = matrix_power_eigenvalue(single_step, steps)\n",
    "    #fractional_step_evolve = sla.fractional_matrix_power(single_step, fractional_step)\n",
    "    \n",
    "    total_evolution = step_evolve \n",
    "    \n",
    "    return total_evolution"
   ]
  },
  {
   "cell_type": "markdown",
   "id": "29c76831-c8d2-4e7e-9186-efb1abff757c",
   "metadata": {},
   "source": [
    "# Local Observable and Expectation Value Functions <a name=\"observable\"></a>"
   ]
  },
  {
   "cell_type": "code",
   "execution_count": 388,
   "id": "d07226d1-c87a-4db6-89cc-9932ca0ba854",
   "metadata": {},
   "outputs": [],
   "source": [
    "## Define a Local Observable:\n",
    "\n",
    "## Computes  Hermitian observable, specified by Pauli strings. Input is a list of dictionaries: nonidentities encoded as dictionary\n",
    "## of the form {k:'P', ..., } where k is the integer location and P is a pauli. Pauli strings are then input as list.\n",
    "# Example:\n",
    "# Input: [{0: 'X', 3:'Z', 5:'X'}, {1: 'X'}], 6\n",
    "# Return: X\\ox I \\ox  Z \\ox I \\ox I \\ox X + I\\ox X \\ox  I \\ox I \\ox I \\ox I\n",
    "def intialise_observable(List_Pauli_strings, nqubits):\n",
    "\n",
    "    local_observable = 0\n",
    "    for k in range(len(List_Pauli_strings)):\n",
    "        local_observable +=  sparse_pauli( List_Pauli_strings[k], nqubits )\n",
    "    \n",
    "    return local_observable\n",
    "\n",
    "## Take expectation value of 'observable' with respect to to 'state'\n",
    "# Example:\n",
    "# Input: sparse_bitstring([0], 1), observable([{0: 'Z'}], 1) \n",
    "# Output: -1\n",
    "def expectation_value(state, observable):\n",
    "    \n",
    "    normalisation =   np.vdot(state, state )  \n",
    "    # Throw an exception if the state is not normalised.\n",
    "    if (normalisation -1) > 0.00001:\n",
    "        raise ValueError(\"State is not normalised\")\n",
    "    \n",
    "    # Calculate the expectation of the state. Use vdot to get complex conjugate.\n",
    "    expectation = np.vdot(state, observable.dot(state) )\n",
    "    \n",
    "    # Throw an exception if there is a significant imaginary part to the expectation value.\n",
    "    if np.abs(expectation.imag) > 0.00001:\n",
    "        raise ValueError(\"Expectation value should be entirely real\")\n",
    "        \n",
    "    # Return only the real part of the expectation value (imaginary part should be zero).\n",
    "    return np.real(expectation)\n",
    "\n",
    "## Finds the expectation value with respect to the Trotterized time evolution. Define the function in terms of s = 1/steps.\n",
    "# Example: \n",
    "# Input: [Even, Odd, Potential], sparse_bitstring([0,1], 2), 10, 0.01, observable([{0: 'Z'}], 2) \n",
    "# Output: -1 + 0.j\n",
    "def Trotterized_Expectation(Hterms, initial_state, time, s, observable, order = 1):\n",
    "    \n",
    "    steps = 1/s\n",
    "    \n",
    "    # Calculate the Trotterized time-evolution operator and apply to the initial state.\n",
    "    Trotterized_evolution_operator = Utrot_long(Hterms, time, steps, order)\n",
    "    time_evolved_state = Trotterized_evolution_operator @ initial_state\n",
    "    \n",
    "    return expectation_value(time_evolved_state, observable)\n",
    "\n",
    "## High Precision Version of above.\n",
    "def Trotterized_Expectation_precise(Hterms, initial_state, time, s, observable, order = 1):\n",
    "    \n",
    "    steps = 1/s\n",
    "    \n",
    "    # Calculate the Trotterized time-evolution operator and apply to the initial state.\n",
    "    Trotterized_evolution_operator = Utrot_long_precise(Hterms, time, steps, order)\n",
    "    time_evolved_state = Trotterized_evolution_operator @ initial_state\n",
    "    \n",
    "    return expectation_value(time_evolved_state, observable)\n",
    "    \n",
    "## Computes the time-evolved expectation value from the *exact* evolution.  \n",
    "# Example: \n",
    "# Input: heisenbergH(nqubits, hlist), sparse_bitstring([0,1], 2), 10, observable([{0: 'Z'}], 2) \n",
    "# Output: -1 + 0.j\n",
    "def Exact_Expectation(Hamiltonian, initial_state, time, observable):\n",
    "    \n",
    "    # Calculate the exact evolution operator.\n",
    "    evolution_operator = Uexact(Hamiltonian, time)\n",
    "    # Apply the exact evolution to the initial state.\n",
    "    time_evolved_state = evolution_operator @ initial_state\n",
    "    \n",
    "    return expectation_value(time_evolved_state, observable)\n",
    "\n",
    "\n",
    "## Precise version of the above.\n",
    "def Exact_Expectation_Precise(Hamiltonian, initial_state, time, observable):\n",
    "    \n",
    "    # Calculate the exact evolution operator.\n",
    "    evolution_operator = Uexact_precise(Hamiltonian, time)\n",
    "    # Apply the exact evolution to the initial state.\n",
    "    time_evolved_state = evolution_operator @ initial_state\n",
    "    \n",
    "    return expectation_value(time_evolved_state, observable)\n",
    "\n",
    "\n",
    "## Computes the magnetisation as a matrix.\n",
    "# Example:\n",
    "# Input: 5\n",
    "# Output: (1/5)\\sum_{i=1}^5 Z_i\n",
    "def Magnetisation(nqubits):\n",
    "    \n",
    "    magnetisation_list = []\n",
    "    \n",
    "    # For each qubit we want to measure Z on that qubit and then add them together. Generate the Pauli string\n",
    "    # representing this operator.\n",
    "    for k in range(nqubits):\n",
    "        magnetisation_list.append( { k : 'Z'} )\n",
    "        \n",
    "    # Calculate the matrix form of the local observable.\n",
    "    magnetisation_matrix = (1/nqubits)*observable(magnetisation_list, nqubits)\n",
    "    \n",
    "    return magnetisation_matrix"
   ]
  },
  {
   "cell_type": "markdown",
   "id": "d2c51716-b5ea-436b-ae36-4f191b633481",
   "metadata": {},
   "source": [
    "# Hamiltonian Input from OpenFermion <a name=\"openfermion\"></a>"
   ]
  },
  {
   "cell_type": "code",
   "execution_count": 6,
   "id": "a9a30073-b517-4929-981b-3d887b9f8c07",
   "metadata": {},
   "outputs": [],
   "source": [
    "### This takes the values stored without going through OpenFermion\n",
    "\n",
    "#H2\n",
    "H2_operator = [['-0.16733398905695251', ''], ['-0.046156695889015324', 'X0 X1 Y2 Y3'], ['0.046156695889015324', 'X0 Y1 Y2 X3'], ['0.046156695889015324', 'Y0 X1 X2 Y3'], ['-0.046156695889015324', 'Y0 Y1 X2 X3'], ['0.16251648748871642', 'Z0'], ['0.16583253721590402', 'Z0 Z1'], ['0.11720364720195847', 'Z0 Z2'], ['0.1633603430909738', 'Z0 Z3'], ['0.16251648748871642', 'Z1'], ['0.1633603430909738', 'Z1 Z2'], ['0.11720364720195847', 'Z1 Z3'], ['-0.19744293699755816', 'Z2'], ['0.17169788392286725', 'Z2 Z3'], ['-0.19744293699755816', 'Z3']]\n",
    "\n",
    "#LiH\n",
    "LiH_operator = [['-7.49894690201071', ''], ['-0.0029329964409502266', 'X0 X1 Y2 Y3'], ['0.0029329964409502266', 'X0 Y1 Y2 X3'], ['0.01291078027311749', 'X0 Z1 X2'], ['-0.0013743761078958677', 'X0 Z1 X2 Z3'], ['0.011536413200774975', 'X0 X2'], ['0.0029329964409502266', 'Y0 X1 X2 Y3'], ['-0.0029329964409502266', 'Y0 Y1 X2 X3'], ['0.01291078027311749', 'Y0 Z1 Y2'], ['-0.0013743761078958677', 'Y0 Z1 Y2 Z3'], ['0.011536413200774975', 'Y0 Y2'], ['0.16199475388004184', 'Z0'], ['0.011536413200774975', 'Z0 X1 Z2 X3'], ['0.011536413200774975', 'Z0 Y1 Z2 Y3'], ['0.12444770133137588', 'Z0 Z1'], ['0.054130445793298836', 'Z0 Z2'], ['0.05706344223424907', 'Z0 Z3'], ['0.012910780273117487', 'X1 Z2 X3'], ['-0.0013743761078958677', 'X1 X3'], ['0.012910780273117487', 'Y1 Z2 Y3'], ['-0.0013743761078958677', 'Y1 Y3'], ['0.16199475388004186', 'Z1'], ['0.05706344223424907', 'Z1 Z2'], ['0.054130445793298836', 'Z1 Z3'], ['-0.013243698330265966', 'Z2'], ['0.08479609543670981', 'Z2 Z3'], ['-0.013243698330265952', 'Z3']]"
   ]
  },
  {
   "cell_type": "code",
   "execution_count": 7,
   "id": "58c74cc7-6b59-4d1b-944e-de01883ae0c2",
   "metadata": {},
   "outputs": [],
   "source": [
    "## Functions for converting outputs of the Hamiltonian to the \n",
    "\n",
    "# Remove the identity terms to get only the non-trivial terms.\n",
    "def remove_identity(Hamiltonian):\n",
    "    reduced_Hamiltonian = Hamiltonian\n",
    "    for element in reduced_Hamiltonian:\n",
    "        if element[1]=='':\n",
    "            reduced_Hamiltonian.remove(element)\n",
    "\n",
    "    return reduced_Hamiltonian\n",
    "            \n",
    "# Convert the openfermion operator to our form.\n",
    "# Input: [['-0.5', 'X0 X1 Y2 Y3'], ['2', 'X0 Y1 Y2 X3']]\n",
    "# Output: [[-0.5, {0: 'X', 1: 'X', 2: 'Y', 3: 'Y'}], [2, {0: 'X', 1: 'Y', 2: 'Y', 3: 'X'}]]\n",
    "def openfermion_to_local_rep(of_Hamiltonian):\n",
    "    local_representation = []\n",
    "    for element in of_Hamiltonian:\n",
    "        coefficient     = float(element[0]) \n",
    "        element_strings = element[1].split(' ')\n",
    "        local_operator  = {}\n",
    "        for op_string in element_strings:\n",
    "            local_operator[int(op_string[1])]=op_string[0]\n",
    "\n",
    "        local_representation.append( [ coefficient, local_operator  ] )\n",
    "\n",
    "    return local_representation\n",
    "\n",
    "# Transforms into explicit matrix representation.\n",
    "# Takes input from openfermion_to_local_rep\n",
    "def local_matrix_representation(local_rep_Hamiltonian, nqubits):\n",
    "    matrix_representation = []\n",
    "    for element in local_rep_Hamiltonian:\n",
    "        matrix_representation.append( [element[0], sparse_pauli(element[1], nqubits)])\n",
    "\n",
    "    return matrix_representation\n",
    "\n",
    "# Generates the full explicit matrix of the Hamiltonian.\n",
    "def explicit_Hamiltonian_matrix(local_matrix_representation):\n",
    "    Hamiltonian_matrix = 0\n",
    "    for element in local_matrix_representation:\n",
    "        Hamiltonian_matrix += element[0]*element[1]\n",
    "\n",
    "    return Hamiltonian_matrix\n"
   ]
  },
  {
   "cell_type": "code",
   "execution_count": 8,
   "id": "461f56c5-fe5a-4185-9f7c-1b71386c5bbc",
   "metadata": {},
   "outputs": [],
   "source": [
    "## Tests\n",
    "test_op = remove_identity(H2_operator)\n",
    "\n",
    "new_rep = openfermion_to_local_rep(test_op)\n",
    "\n",
    "local_mat_rep = local_matrix_representation(new_rep, 4)\n",
    "\n",
    "Hamiltonian_matrix = explicit_Hamiltonian_matrix(local_mat_rep)\n",
    "#print(len(test_op))\n",
    "#print(Hamiltonian_matrix)"
   ]
  },
  {
   "cell_type": "markdown",
   "id": "40b2c59d-fc56-4d26-8bff-46bf52deb51d",
   "metadata": {},
   "source": [
    "# qDRIFT Implementation <a name=\"qDRIFT\"></a>"
   ]
  },
  {
   "cell_type": "code",
   "execution_count": 610,
   "id": "ba898ec5-06b9-4101-a39e-5b6003e54307",
   "metadata": {},
   "outputs": [],
   "source": [
    "import random\n",
    "\n",
    "## Takes a list of coefficients and terms and then sums them cummulatively.\n",
    "def cumulative_Hamiltonian_rep(local_rep_Hamiltonian):\n",
    "    running_total = 0\n",
    "    cumulative_representation = []\n",
    "    \n",
    "    for element in local_rep_Hamiltonian:\n",
    "        running_total += np.abs( element[0] )\n",
    "        cumulative_representation.append( [ running_total,  element[1] ] )\n",
    "\n",
    "    return cumulative_representation\n",
    "\n",
    "\n",
    "# Samples an index with probability proportional to weight.\n",
    "def sample_local_index(local_rep_Hamiltonian, no_samples):\n",
    "    \"\"\"\n",
    "    Samples an index from the array with a probability proportional to the absolute value of the number.\n",
    "\n",
    "    Parameters:\n",
    "        arr (list): List of numbers (can be positive or negative).\n",
    "\n",
    "    Returns:\n",
    "        int: Index of the sampled number.\n",
    "    \"\"\"\n",
    "    \n",
    "    # Compute the absolute values\n",
    "    abs_values = [abs(x[0]) for x in local_rep_Hamiltonian]\n",
    "    \n",
    "\n",
    "    # Compute the total sum of absolute values\n",
    "    total_abs = sum(abs_values)\n",
    "\n",
    "    if total_abs == 0:\n",
    "        raise ValueError(\"The sum of absolute values in the array must not be zero.\")\n",
    "\n",
    "    # Compute probabilities\n",
    "    probabilities = [value / total_abs for value in abs_values]\n",
    "\n",
    "    # Sample an index based on probabilities\n",
    "    sampled_index = random.choices(range(len(abs_values)), weights=probabilities, k=no_samples)\n",
    "\n",
    "    return sampled_index \n",
    "\n",
    "\n",
    "# Single shot calculation of expectation values.\n",
    "def qDRIFT_observable(local_rep_Hamiltonian, initial_state, observable, nqubits, time, no_timesteps, matrix_input = 0):\n",
    "\n",
    "    if matrix_input == 1:\n",
    "        local_mat_rep = local_rep_Hamiltonian\n",
    "    elif matrix_input ==0:\n",
    "        #local_mat_rep = local_rep_Hamiltonian \n",
    "        local_mat_rep = local_matrix_representation(local_rep_Hamiltonian, nqubits)\n",
    "               \n",
    "    temp = [abs(element[0]) for element in local_mat_rep]\n",
    "    lambda_param = sum(temp)\n",
    "    \n",
    "    # Now generate the corresponding terms.\n",
    "    list_of_indicies = sample_local_index(local_mat_rep, int(no_timesteps) )\n",
    "\n",
    "    state = initial_state\n",
    "    timestep = time/no_timesteps\n",
    "    \n",
    "    for index in list_of_indicies:\n",
    "        state = sla.expm(-(1j)*timestep*lambda_param*np.sign(local_mat_rep[index][0])*(local_mat_rep[index][1])) @ state\n",
    "\n",
    "    expectation = expectation_value(state, observable)\n",
    "\n",
    "    return expectation\n",
    "\n",
    "\n",
    "# Average the qDRIFT values over multiple runs.\n",
    "def qDRIFT_average(local_rep_Hamiltonian, initial_state, observable, nqubits, time, no_timesteps, shot_no, matrix_input = 0):\n",
    "    \"\"\"\n",
    "    Takes average over multiple qDRIFT runs.\n",
    "    \"\"\"\n",
    "    results_array = []\n",
    "    j = 0\n",
    "    while j<= shot_no:\n",
    "        results_array.append(qDRIFT_observable(local_rep_Hamiltonian, initial_state, observable, nqubits, time, no_timesteps, matrix_input = matrix_input))\n",
    "        j += 1\n",
    "\n",
    "    mean = sum(results_array)/len(results_array)\n",
    "\n",
    "    return mean\n",
    "\n",
    "    "
   ]
  },
  {
   "cell_type": "markdown",
   "id": "702c0054-79a4-4732-9226-6208848bded1",
   "metadata": {},
   "source": [
    "#### Short Test Case for qDRIFT"
   ]
  },
  {
   "cell_type": "code",
   "execution_count": 677,
   "id": "ac5eb6d3-a6e6-4602-82ab-f75732c1b257",
   "metadata": {},
   "outputs": [
    {
     "name": "stdout",
     "output_type": "stream",
     "text": [
      "avg: 0.9969838120524056\n"
     ]
    }
   ],
   "source": [
    "### Implement H2 Time evolution.\n",
    "\n",
    "H2_operator  = remove_identity(H2_operator)\n",
    "H2_local_rep = openfermion_to_local_rep(H2_operator)\n",
    "\n",
    "\n",
    "cumulative_H2_Hamiltonian = cumulative_Hamiltonian_rep(H2_local_rep)\n",
    "lambda_param = cumulative_H2_Hamiltonian[-1][0]\n",
    "\n",
    "nqubits = 4\n",
    "time =0.5\n",
    "#observable = intialise_observable([{0: 'X', 2:'Z', 3:'Z'}, {1: 'X'}, {2:'Y'},{3:'Y'}, {3:'Z'}, {0:'Z', 1:'X'}, {0:'Z', 2:'Z'}], nqubits)\n",
    "observable = intialise_observable([{0:'Y', 1:'Y'}, {1:'Z'}, {2:'Y', 3:'Z'}, {3:'Z'}], nqubits)\n",
    "state = (1/np.sqrt(2))*np.array(sparse_bitstring([nqubits//2], nqubits))+ (1/np.sqrt(2))*np.array(sparse_bitstring([1], nqubits))\n",
    "#state = (1/np.sqrt(2))*np.array(sparse_bitstring([0,2], 4))+(1/np.sqrt(2))*np.array(sparse_bitstring([1,3], 4))\n",
    "#state  = np.array(sparse_bitstring([0,2], 4))\n",
    "epsilon = 0.03\n",
    "no_timesteps = np.ceil( 2*time**2*lambda_param**2/epsilon )\n",
    "\n",
    "\n",
    "#test_val = qDRIFT_observable(H2_local_rep , state, observable, nqubits, time, no_timesteps )\n",
    "\n",
    "test_avg = qDRIFT_average(H2_local_rep , state, observable, nqubits, time, no_timesteps, 50 )\n",
    "print(\"avg:\", test_avg)"
   ]
  },
  {
   "cell_type": "code",
   "execution_count": 678,
   "id": "56d34f39-2f6e-4e40-a610-23118cc90c44",
   "metadata": {},
   "outputs": [
    {
     "name": "stdout",
     "output_type": "stream",
     "text": [
      "Ideal value: 0.9999999999999998\n"
     ]
    }
   ],
   "source": [
    "## True value from perfect evolution:\n",
    "#state = (1/np.sqrt(2))*np.array(sparse_bitstring([nqubits//2], nqubits))+ (1/np.sqrt(2))*np.array(sparse_bitstring([1], nqubits))\n",
    "#state = np.array(sparse_bitstring([0,2], 4))\n",
    "#state = (1/np.sqrt(2))*np.array(sparse_bitstring([0,2], 4))+(1/np.sqrt(2))*np.array(sparse_bitstring([1,3], 4))\n",
    "full_H2_Hamiltonian = 0\n",
    "H2_list = local_matrix_representation(H2_local_rep, nqubits)\n",
    "for element in H2_list:\n",
    "    full_H2_Hamiltonian += element[0]*element[1]\n",
    "\n",
    "\n",
    "final_state = sla.expm(-(1j)*time*np.matrix(full_H2_Hamiltonian)) @ state\n",
    "perfect_val  = expectation_value(final_state, observable)\n",
    "\n",
    "print(\"Ideal value:\", perfect_val)"
   ]
  },
  {
   "cell_type": "code",
   "execution_count": 679,
   "id": "fed32214-d8f5-4b4e-b007-7463bd85f9de",
   "metadata": {},
   "outputs": [
    {
     "name": "stdout",
     "output_type": "stream",
     "text": [
      "Value from Trotterization: 1.0000000000000497\n"
     ]
    }
   ],
   "source": [
    "## Check against Trotterisation\n",
    "\n",
    "hterms = [ x[0]*x[1] for x in  local_mat_rep ]\n",
    "\n",
    "print(\"Value from Trotterization:\", Trotterized_Expectation(hterms, state, time, 1/no_timesteps, observable, order = 1))"
   ]
  },
  {
   "cell_type": "markdown",
   "id": "675faf7f-6d54-41bf-82ba-bd75055b2823",
   "metadata": {},
   "source": [
    "# qFLO Implementation <a name=\"qFLO\"></a>"
   ]
  },
  {
   "cell_type": "code",
   "execution_count": 715,
   "id": "3d2370cd-4964-4f2e-8441-f3b16f886f32",
   "metadata": {},
   "outputs": [],
   "source": [
    "### Here implement the qFLO procedure.    \n",
    "def richardson_points(order, s_min, type = \"standard\"):\n",
    "    \n",
    "    #Generate the array of points we wish to use:\n",
    "    points_array = []\n",
    "    values_array = []\n",
    "    coefficient_array = []\n",
    "    estimate_array = []\n",
    "    estimate = 0\n",
    "    x_array = []\n",
    "    y_array = []\n",
    "    R_scale = np.sqrt(8)*order/np.pi\n",
    "\n",
    "    if type ==  \"standard\":\n",
    "        for j in range( order):\n",
    "            counter = j+1\n",
    "            #Generate points to be sampled from.\n",
    "            ## Define parameters used for rescaling:\n",
    "            x0 = (np.sin(np.pi*(2*order-1)/(4*2*order) ))**2\n",
    "            y0 = np.ceil( np.ceil(  R_scale/np.sqrt(x0))**2 )\n",
    "        \n",
    "            # Calculate the points to sample from.\n",
    "            x_array.append( (np.sin(np.pi*(2*counter-1)/(4*2*order) ))**2 )\n",
    "            y_array.append( np.ceil( (1/s_min)*np.ceil(  R_scale/np.sqrt(x_array[j]) )**2 /y0  )) \n",
    "            print(x_array, \"Sampled points\",y_array)\n",
    "            #Generate expectation values at those points.\n",
    "    elif type == \"short\":\n",
    "        for j in range( order):\n",
    "            counter = j+1\n",
    "            #Generate points to be sampled from.\n",
    "            ## Define parameters used for rescaling:\n",
    "            x0 = (np.sin(np.pi*(2*order-1)/(4*2*order) ))**2\n",
    "            y0 = np.ceil( np.ceil(  R_scale/np.sqrt(x0)) )\n",
    "        \n",
    "            # Calculate the points to sample from.\n",
    "            x_array.append( (np.sin(np.pi*(2*counter-1)/(4*2*order) ))**2 )\n",
    "            y_array.append( np.ceil( (1/s_min)*np.ceil(  R_scale/np.sqrt(x_array[j]) ) /y0  )) \n",
    "            print(x_array, \"Sampled points\",y_array)\n",
    "            #Generate expectation values at those points.\n",
    "\n",
    "    return y_array\n",
    "\n",
    "def richardson_estimate(order, s_min, Hamiltonian_local_rep, initial_state, time, observable, nqubits , shot_no, sample_points = \"standard\", circuit_depth_flag= 0, matrix_flag  = 0):\n",
    "    '''\n",
    "    Construct a Richardson estimator using the terms starting from s_min. \n",
    "    '''\n",
    "    #Generate the array of points we wish to use:\n",
    "    points_array = []\n",
    "    values_array = []\n",
    "    coefficient_array = []\n",
    "    estimate_array = []\n",
    "    estimate = 0\n",
    "    x_array = []\n",
    "    y_array = []\n",
    "    R_scale = np.sqrt(8)*order/np.pi\n",
    "\n",
    "    # Evaluate function at generated points\n",
    "    y_array = richardson_points(order, s_min, type = sample_points)\n",
    "    for no_timesteps in y_array:\n",
    "        #print(\"Number timesteps:\", no_timesteps)\n",
    "        points_array.append(no_timesteps)\n",
    "        if matrix_flag == 1:\n",
    "            qDRIFT_val   = qDRIFT_average( Hamiltonian_local_rep, initial_state, observable, nqubits, time, no_timesteps, shot_no, matrix_input = 1 )\n",
    "        elif matrix_flag == 0:\n",
    "            qDRIFT_val   = qDRIFT_average( Hamiltonian_local_rep, initial_state, observable, nqubits, time, no_timesteps, shot_no, matrix_input = 0 )\n",
    "        print(\"qDRIFT value:\",qDRIFT_val)\n",
    "        values_array.append( qDRIFT_val )\n",
    "        maximum_circuit_depth = max(points_array)\n",
    "    \n",
    "    #Now generate the coefficients (b_j)\n",
    "    coefficient_array = Richardson_coefficient_finder(points_array, order)\n",
    "    #print(\"Coeff array\", coefficient_array)\n",
    "    print(\"Depth array\",points_array)\n",
    "    '''\n",
    "    #Now generate the coefficients (b_j).\n",
    "    for j in range(order):\n",
    "        counter = j+1\n",
    "        coefficient = 1\n",
    "        for k in range(order):\n",
    "            if k != j:\n",
    "                print(y_array[k],y_array[j])\n",
    "                coefficient = coefficient*(1/(1-y_array[k]/y_array[j]))\n",
    "        coefficient_array.append( coefficient )\n",
    "    '''\n",
    "\n",
    "    # Compute the Richardson estimator.\n",
    "    for j in range(order):\n",
    "        estimate += coefficient_array[j]*values_array[j]\n",
    "        estimate_array.append(estimate)\n",
    "\n",
    "    print(\"coefficient array:\", coefficient_array)\n",
    "    \n",
    "    if circuit_depth_flag == 0:\n",
    "        return estimate\n",
    "\n",
    "    if circuit_depth_flag == 1:\n",
    "        return [estimate, maximum_circuit_depth]\n",
    "\n",
    "\n",
    "# Given a list of sample points, returns the Vandermode matrix.\n",
    "def Vandermode_generator(points_list, order):\n",
    "\n",
    "    Vandermode_matrix = []\n",
    "\n",
    "    inverse_list = [1/x for x in points_list]\n",
    "    \n",
    "    # Now fill in the samples.\n",
    "    for j in range(order):\n",
    "        Vandermode_matrix.append([])\n",
    "        [Vandermode_matrix[j].append(x**(j)) for x in inverse_list ]\n",
    "\n",
    "    Vandermode_matrix = np.array( Vandermode_matrix )\n",
    "    return Vandermode_matrix\n",
    "\n",
    "\n",
    "# Find Richardson extrapolation coefficients.\n",
    "def Richardson_coefficient_finder(points_list, order):\n",
    "    \n",
    "    # Generate the Vandermode matrix.\n",
    "    V = Vandermode_generator(points_list, order)\n",
    "\n",
    "    # Now solve for vector of a's.\n",
    "    single_element    = [0]*order\n",
    "    single_element[0] = 1\n",
    "    single_element    = np.array(single_element)\n",
    "\n",
    "    a_array = np.linalg.inv(V) @ single_element\n",
    "\n",
    "    return a_array"
   ]
  },
  {
   "cell_type": "markdown",
   "id": "3e9873a2-8037-460f-b11a-de41edea1c31",
   "metadata": {},
   "source": [
    "## Alternative Implementation using code from ChatGPT"
   ]
  },
  {
   "cell_type": "code",
   "execution_count": 342,
   "id": "1dcae21a-739c-4765-a987-00b23a6d503e",
   "metadata": {},
   "outputs": [],
   "source": [
    "## From chatgpt\n",
    "\n",
    "def richardson_extrapolation_gpt(x_values, f_values):\n",
    "    \"\"\"\n",
    "    Estimate the value of f(0) using Richardson extrapolation.\n",
    "\n",
    "    Parameters:\n",
    "        x_values (list or numpy array): Non-zero x values.\n",
    "        f_values (list or numpy array): Corresponding evaluations of f(x).\n",
    "\n",
    "    Returns:\n",
    "        float: The estimated value of f(0).\n",
    "    \"\"\"\n",
    "  \n",
    "    \n",
    "    if len(x_values) != len(f_values):\n",
    "        raise ValueError(\"x_values and f_values must have the same length.\")\n",
    "\n",
    "    n = len(x_values)\n",
    "    if n < 2:\n",
    "        raise ValueError(\"At least two points are required for Richardson extrapolation.\")\n",
    "\n",
    "    # Sort x_values and f_values by the absolute value of x_values\n",
    "    indices = np.argsort(np.abs(x_values))\n",
    "    x_values = np.array(x_values)[indices]\n",
    "    f_values = np.array(f_values)[indices]\n",
    "\n",
    "    # Create a matrix for extrapolation\n",
    "    table = np.zeros((n, n))\n",
    "    table[:, 0] = f_values\n",
    "\n",
    "    for j in range(1, n):\n",
    "        for i in range(n - j):\n",
    "            factor = (x_values[i + j] / x_values[i])**(2 * j)\n",
    "            table[i, j] = (factor * table[i + 1, j - 1] - table[i, j - 1]) / (factor - 1)\n",
    "\n",
    "    # The top-left corner of the table is the extrapolated value for f(0)\n",
    "    return table[0, n - 1]\n",
    "\n",
    "\n",
    "## Generates the samples\n",
    "def gpt_estimator(order, s_min, Hamiltonian_local_rep, initial_state, time, observable, nqubits , shot_no, circuit_depth_flag= 0):\n",
    "\n",
    "    #Generate the array of points we wish to use:\n",
    "    points_array = []\n",
    "    values_array = []\n",
    "    coefficient_array = []\n",
    "    estimate_array = []\n",
    "    estimate = 0\n",
    "    x_array = []\n",
    "    y_array = []\n",
    "    R_scale = np.sqrt(8)*order/np.pi\n",
    "\n",
    "    # Evaluate function at generated points\n",
    "    y_array = richardson_points(order, s_min)\n",
    "    for no_timesteps in y_array:\n",
    "        print(\"Number timesteps:\", no_timesteps)\n",
    "        points_array.append(no_timesteps)\n",
    "        qDRIFT_val   = qDRIFT_average( Hamiltonian_local_rep, initial_state, observable, nqubits, time, no_timesteps, shot_no )\n",
    "        print(\"qDRIFT value:\",qDRIFT_val)\n",
    "        values_array.append( qDRIFT_val )\n",
    "        maximum_circuit_depth = max(points_array)\n",
    "\n",
    "    x_values = y_array\n",
    "    f_values = values_array\n",
    "\n",
    "    estimator = richardson_extrapolation_gpt(x_values, f_values)\n",
    "    return estimator\n",
    "    "
   ]
  },
  {
   "cell_type": "code",
   "execution_count": 695,
   "id": "529fe21a-a633-42e0-af9e-586e3e80baae",
   "metadata": {},
   "outputs": [
    {
     "name": "stdout",
     "output_type": "stream",
     "text": [
      "[0.03806023374435662] Sampled points [35.0]\n",
      "[0.03806023374435662, 0.3086582838174551] Sampled points [35.0, 6.0]\n",
      "qDRIFT value: -0.00036195785507477\n",
      "qDRIFT value: 0.00025916747211959167\n",
      "Depth array [35.0, 6.0]\n",
      "coefficient array: [ 1.20689655 -0.20689655]\n",
      "qFLO Estimate: -0.0004904665434598103\n"
     ]
    }
   ],
   "source": [
    "# Test Richardson Extrapolation with H2 Hamiltonian.\n",
    "no_timesteps = np.ceil( 2*time**2*lambda_param**2/epsilon )\n",
    "s_min   = 10/no_timesteps\n",
    "shot_no = 2000\n",
    "order = 2\n",
    "#state = (1/np.sqrt(2))*np.array(sparse_bitstring([nqubits//2], nqubits))+ (1/np.sqrt(2))*np.array(sparse_bitstring([1], nqubits))\n",
    "state = (1/np.sqrt(2))*np.array(sparse_bitstring([0,2], 4))+(1/np.sqrt(2))*np.array(sparse_bitstring([1,3], 4))\n",
    "\n",
    "\n",
    "qFLO_estimate = richardson_estimate(order, s_min, H2_local_rep, state, time, observable, nqubits , shot_no)\n",
    "print(\"qFLO Estimate:\", qFLO_estimate)"
   ]
  },
  {
   "cell_type": "code",
   "execution_count": 696,
   "id": "e28155f9-f8db-4150-bf2b-0524b3fe3702",
   "metadata": {},
   "outputs": [],
   "source": [
    "#order = 2, depth =35\n",
    "order2 = np.mean([0.0016889253945332424, 0.0007455795529319857, -0.0004904665434598103])\n",
    "#order = 4, depth =210\n",
    "#order = 3, depth =98\n",
    "order3 = np.mean([-0.0003229052959175927, -0.0002581859115869328, 0.0003344804204041113])\n",
    "#order = 4, depth =210\n",
    "order4 = np.mean([0.0003499931879853918, 0.0001538310742211319, -0.0004434020267358443])"
   ]
  },
  {
   "cell_type": "code",
   "execution_count": 697,
   "id": "08feb5e1-80ca-4f38-acd9-cf3f2010c3b5",
   "metadata": {},
   "outputs": [
    {
     "name": "stdout",
     "output_type": "stream",
     "text": [
      "0.0006480128013351393 -8.220359570013803e-05 2.014074515689313e-05\n"
     ]
    }
   ],
   "source": [
    "print(order2, order3, order4)"
   ]
  },
  {
   "cell_type": "markdown",
   "id": "6da146c7-0c5d-49c0-9fbc-ef4b369a6f45",
   "metadata": {},
   "source": [
    "## qFLO Example Usage: LiH <a name=\"example\"></a>"
   ]
  },
  {
   "cell_type": "code",
   "execution_count": 669,
   "id": "acc10407-08f3-457b-bf9c-65d7870f9aea",
   "metadata": {},
   "outputs": [
    {
     "name": "stdout",
     "output_type": "stream",
     "text": [
      "Ideal value: 2.999999999999999\n"
     ]
    }
   ],
   "source": [
    "# Here we provide an example with the correct parameters to evaluate performance.\n",
    "\n",
    "LiH_operator  = remove_identity(LiH_operator)\n",
    "LiH_local_rep = openfermion_to_local_rep(LiH_operator)\n",
    "cumulative_LiH_Hamiltonian = cumulative_Hamiltonian_rep(LiH_local_rep)\n",
    "lambda_param = cumulative_LiH_Hamiltonian[-1][0]\n",
    "\n",
    "## Parameters to use.\n",
    "qubits = 4\n",
    "epsilon = 0.05\n",
    "time    = 1\n",
    "shot_no = 1000\n",
    "#shot_no = 1/epsilon**2\n",
    "s_min   = 1/np.ceil( 2*time**2*lambda_param**2/epsilon )\n",
    "observable = intialise_observable([{0: 'X', 2:'Z', 3:'Z'}, {1: 'X'}, {2:'X'},{3:'X'}, {3:'Z'}, {0:'Z', 1:'X'}], nqubits)\n",
    "#state   = (1/np.sqrt(2))*np.array(sparse_bitstring([nqubits//2], nqubits))+ (1/np.sqrt(2))*np.array(sparse_bitstring([1], nqubits))\n",
    "state = (1/np.sqrt(2))*np.array(sparse_bitstring([0,2], 4))+(1/np.sqrt(2))*np.array(sparse_bitstring([1,3], 4))\n",
    "max_order = 3\n",
    "\n",
    "\n",
    "\n",
    "## Compute ideal expectation value:\n",
    "state   = (1/np.sqrt(2))*np.array(sparse_bitstring([nqubits//2], nqubits))+ (1/np.sqrt(2))*np.array(sparse_bitstring([1], nqubits))\n",
    "#state = (1/np.sqrt(2))*np.array(sparse_bitstring([0,2], 4))+(1/np.sqrt(2))*np.array(sparse_bitstring([1,3], 4))\n",
    "full_LiH_Hamiltonian = 0\n",
    "for element in H2_list:\n",
    "    full_LiH_Hamiltonian += element[0]*element[1]\n",
    "\n",
    "final_state  = sla.expm(-(1j)*time*np.matrix(full_LiH_Hamiltonian)) @ state\n",
    "#perfect_val  = expectation_value(final_state, observable)\n",
    "perfect_val  = expectation_value(final_state, local_obs)\n",
    "\n",
    "print(\"Ideal value:\", perfect_val)"
   ]
  },
  {
   "cell_type": "code",
   "execution_count": 673,
   "id": "6dfa666f-6042-4fb1-9f38-73aa1328042a",
   "metadata": {},
   "outputs": [
    {
     "name": "stdout",
     "output_type": "stream",
     "text": [
      "[0.14644660940672624] Sampled points [33.0]\n",
      "qDRIFT value: 2.989807194703638\n",
      "Depth array [33.0]\n",
      "coefficient array: [1.]\n",
      "qFLO Estimate 2.989807194703638\n",
      "[0.03806023374435662] Sampled points [207.0]\n",
      "[0.03806023374435662, 0.3086582838174551] Sampled points [207.0, 33.0]\n",
      "qDRIFT value: 2.9948384367565466\n",
      "qDRIFT value: 2.989051946979186\n",
      "Depth array [207.0, 33.0]\n",
      "coefficient array: [ 1.18965517 -0.18965517]\n",
      "qFLO Estimate 2.9959358744729427\n",
      "[0.01703708685546585] Sampled points [583.0]\n",
      "[0.01703708685546585, 0.14644660940672624] Sampled points [583.0, 85.0]\n",
      "[0.01703708685546585, 0.14644660940672624, 0.37059047744873963] Sampled points [583.0, 85.0, 33.0]\n",
      "qDRIFT value: 2.99544363753619\n",
      "qDRIFT value: 2.993216625466947\n",
      "qDRIFT value: 2.9891317678534\n",
      "Depth array [583.0, 85.0, 33.0]\n",
      "coefficient array: [ 1.24092369 -0.27900062  0.03807692]\n",
      "qFLO Estimate 2.9958246387030987\n"
     ]
    }
   ],
   "source": [
    "error_array = []\n",
    "circuit_depth_array = []\n",
    "shot_no = 1000\n",
    "\n",
    "for order in range(1,max_order+1):\n",
    "    [LiH_qFLO_estimate, max_circuit_depth] = richardson_estimate(order, s_min, LiH_local_rep, state, time, local_obs, nqubits , shot_no, circuit_depth_flag=1)\n",
    "    print(\"qFLO Estimate\", LiH_qFLO_estimate)\n",
    "    circuit_depth_array.append(max_circuit_depth)\n",
    "    error = abs(perfect_val - LiH_qFLO_estimate)\n",
    "    error_array.append(error)"
   ]
  },
  {
   "cell_type": "code",
   "execution_count": 675,
   "id": "4887f98b-c392-48d3-90ab-d8afed35d590",
   "metadata": {},
   "outputs": [
    {
     "data": {
      "image/png": "[encoded data removed]",
      "text/plain": [
       "<Figure size 640x480 with 1 Axes>"
      ]
     },
     "metadata": {},
     "output_type": "display_data"
    },
    {
     "data": {
      "image/png": "[encoded data removed]",
      "text/plain": [
       "<Figure size 640x480 with 1 Axes>"
      ]
     },
     "metadata": {},
     "output_type": "display_data"
    }
   ],
   "source": [
    "import matplotlib.pyplot as plt\n",
    "\n",
    "fig = plt.plot(circuit_depth_array, error_array)  # Plot the chart\n",
    "fig = plt.figure()\n",
    "ax = fig.add_subplot(2,1,1)\n",
    "\n",
    "line, = ax.semilogy(circuit_depth_array,error_array, color='blue', lw=2)\n"
   ]
  },
  {
   "cell_type": "code",
   "execution_count": 372,
   "id": "68f01df1-55f3-4913-8ec2-5a0bea465299",
   "metadata": {},
   "outputs": [
    {
     "name": "stdout",
     "output_type": "stream",
     "text": [
      "0.9619397662556434 53.0 0.9619397662556434 53.0 4.0\n"
     ]
    }
   ],
   "source": [
    "counter = 4\n",
    "order = 4\n",
    "R_scale = np.sqrt(8)*order/np.pi\n",
    "x0 = (np.sin(np.pi*(2*order-1)/(4*order) ))**2\n",
    "y0 = np.ceil( (1/s_min)*np.ceil(  R_scale/x0)**2 )\n",
    "x= (np.sin(np.pi*(2*counter-1)/(4*order) ))**2\n",
    "y = np.ceil( (1/s_min)*np.ceil(  R_scale/x)**2 ) \n",
    "\n",
    "y_correct = np.ceil( (1/s_min)*np.ceil( np.ceil(  R_scale/x)**2 )/np.ceil( np.ceil(  R_scale/x0)**2 ) )\n",
    "\n",
    "print(x,y, x0, y0, y_correct) ## Smaller counter values give larger numbers of steps."
   ]
  },
  {
   "cell_type": "code",
   "execution_count": 211,
   "id": "e7c47c47-7683-4262-9fa9-04d3b79b1471",
   "metadata": {},
   "outputs": [
    {
     "name": "stdout",
     "output_type": "stream",
     "text": [
      "33.0\n"
     ]
    }
   ],
   "source": [
    "\n",
    "\n",
    "\n",
    "x0 = (np.sin(np.pi*(2*order-1)/(4*order) ))**2\n",
    "y0 =  np.ceil( np.ceil(  R_scale/x0)**2 )\n",
    "\n",
    "# Calculate the points to sample from.\n",
    "x=(np.sin(np.pi*(2*counter-1)/(4*order) ))**2 \n",
    "y= np.ceil( (1/s_min)*np.ceil( np.ceil(  R_scale/x)**2 )/y0  ) \n",
    "\n",
    "print(y)"
   ]
  },
  {
   "cell_type": "code",
   "execution_count": 227,
   "id": "35541f57-be68-42db-8316-eccee3239b38",
   "metadata": {},
   "outputs": [
    {
     "data": {
      "text/plain": [
       "[0.0032639971573619198, 0.0026811819855505625, 0.0026235616575915888]"
      ]
     },
     "execution_count": 227,
     "metadata": {},
     "output_type": "execute_result"
    }
   ],
   "source": [
    "error_array"
   ]
  },
  {
   "cell_type": "code",
   "execution_count": 245,
   "id": "a063a711-4f16-4701-99e9-a22cba593313",
   "metadata": {},
   "outputs": [],
   "source": [
    "## The qFLO algorithm seems to be failing. Try to use the explicit Vandermode matrix inversion from the Trotterised case."
   ]
  },
  {
   "cell_type": "markdown",
   "id": "394027be-9f23-4375-8f55-d32265fe4e3e",
   "metadata": {},
   "source": [
    "## Defining Heisenberg Hamiltonian"
   ]
  },
  {
   "cell_type": "code",
   "execution_count": 381,
   "id": "1e9e3378-5f27-44b6-aeae-8375646447d4",
   "metadata": {},
   "outputs": [],
   "source": [
    "## Define the even, odd and potential terms for an arbitrary nunber of qubits and a given hlist.\n",
    "\n",
    "def Even_Heisenberg_Terms(nqubits):\n",
    "    Even = sigma_dot_sigma(0, 1, nqubits)\n",
    "    for j in range(2,nqubits,2):\n",
    "        Even += sigma_dot_sigma(j, (j+1)%nqubits, nqubits)\n",
    "        \n",
    "    return Even\n",
    "\n",
    "def Odd_Heisenberg_Terms(nqubits):\n",
    "    \n",
    "    Odd = sigma_dot_sigma(1, 2%nqubits, nqubits)\n",
    "    for j in range(3,nqubits,2):\n",
    "        Odd += sigma_dot_sigma(j, (j+1)%nqubits, nqubits)\n",
    "        \n",
    "        \n",
    "    return Odd\n",
    "\n",
    "def Potential_Heisenberg_Terms(nqubits, hlist):\n",
    "    \n",
    "    Potential = np.sum([hlist[j]*sparse_pauli({j:'Z'}, nqubits) for j in range(nqubits)], axis = 0)\n",
    "        \n",
    "    return Potential\n",
    "\n",
    "\n",
    "\n"
   ]
  },
  {
   "cell_type": "markdown",
   "id": "1500aace-6f07-4fce-b1d9-6f7773689190",
   "metadata": {},
   "source": [
    "# Trial With Heisenberg Hamiltonian"
   ]
  },
  {
   "cell_type": "markdown",
   "id": "7e661a41-57ed-41a9-b223-77eeb0d59da5",
   "metadata": {},
   "source": [
    "## Initialise the Heisenberg Hamiltonian"
   ]
  },
  {
   "cell_type": "code",
   "execution_count": 700,
   "id": "e86455f5-ff81-469a-8dc4-7076eb12d67a",
   "metadata": {},
   "outputs": [],
   "source": [
    "## Initialise a set of Hamiltonian \n",
    "\n",
    "# System parameters.\n",
    "nqubits = 3\n",
    "h = 3 # Maximum single qubit potential strength\n",
    "\n",
    "# Define the Hamiltonian and the groupings of its terms.\n",
    "hlist = (np.random.rand(nqubits)*2 -1)*h\n",
    "Hterms_Heisenberg = [Even_Heisenberg_Terms(nqubits), Odd_Heisenberg_Terms(nqubits), Potential_Heisenberg_Terms(nqubits, hlist)]\n",
    "Htot = np.sum(Hterms_Heisenberg, axis = 0)\n",
    "\n",
    "\n",
    "# Choose local observable and initial state\n",
    "state = sparse_bitstring([nqubits//2], nqubits)\n",
    "#local_obs = Htot \n",
    "\n",
    "local_obs_array1= [{0: 'Z'},{nqubits-1: 'Z'}, {1: 'X'} ]\n",
    "local_obs_array2= [{0: 'X'}, {1:'Y'}, {nqubits-1: 'I'}]\n",
    "local_obs = intialise_observable(local_obs_array1, nqubits) + intialise_observable(local_obs_array2, nqubits)\n",
    "#local_obs_array= [{0: 'X'}, {1:'Y'}, {nqubits-1: 'I'}]\n",
    "#local_obs = intialise_observable(local_obs_array, nqubits)"
   ]
  },
  {
   "cell_type": "code",
   "execution_count": 702,
   "id": "e5857f02-8e9d-4a99-9be4-8862dc1f604f",
   "metadata": {},
   "outputs": [
    {
     "name": "stdout",
     "output_type": "stream",
     "text": [
      "Ideal value: 2.8485479319264555\n"
     ]
    }
   ],
   "source": [
    "time = 0.1\n",
    "\n",
    "final_state = sla.expm(-(1j)*time*np.array(Htot)) @ state\n",
    "perfect_val_Heisenberg  = expectation_value(final_state, local_obs)\n",
    "\n",
    "print(\"Ideal value:\", perfect_val_Heisenberg) "
   ]
  },
  {
   "cell_type": "code",
   "execution_count": 703,
   "id": "b347cbc0-454d-4b70-bb53-b2edab73154a",
   "metadata": {},
   "outputs": [
    {
     "name": "stdout",
     "output_type": "stream",
     "text": [
      "Value from Trotterization: 2.8485478430787454\n"
     ]
    }
   ],
   "source": [
    "## Check against Trotterisation\n",
    "lambda_param = 0\n",
    "for element in Heisenberg_matrix_rep:\n",
    "    lambda_param += element[0]\n",
    "\n",
    "time = 0.1\n",
    "no_timesteps = np.ceil( 2*time**2*lambda_param**2/epsilon )\n",
    "s_min   = 1/no_timesteps\n",
    "\n",
    "\n",
    "print(\"Value from Trotterization:\", Trotterized_Expectation(Hterms_Heisenberg, state, time, 1/no_timesteps, local_obs, order = 1))"
   ]
  },
  {
   "cell_type": "markdown",
   "id": "2bdea198-c6d1-431a-9283-766238b15c84",
   "metadata": {},
   "source": [
    "## Give an alternative Hamiltonian breakdown"
   ]
  },
  {
   "cell_type": "code",
   "execution_count": 704,
   "id": "e53555da-aa9a-471a-9451-3407668ecb03",
   "metadata": {},
   "outputs": [],
   "source": [
    "## qDRIFT Simulation Attempt 2\n",
    "# Add the Heisenberg terms separately to the list (i.e. using the standard qDRIFT representation).\n",
    "\n",
    "\n",
    "new_Heis_rep = []\n",
    "for j in range(nqubits):\n",
    "    new_Heis_rep.append(  [1 ,sparse_pauli({j:'X',(j+1)%nqubits:'X'},nqubits)])\n",
    "    new_Heis_rep.append([1 ,sparse_pauli({j:'Y',(j+1)%nqubits:'Y'},nqubits)])\n",
    "    new_Heis_rep.append([1 ,sparse_pauli({j:'Z',(j+1)%nqubits:'Z'},nqubits)])\n",
    "\n",
    "counter = 0\n",
    "for entry in hlist:\n",
    "    new_Heis_rep.append( [entry, sparse_pauli({counter:'Z'},nqubits)] )\n",
    "    counter += 1\n"
   ]
  },
  {
   "cell_type": "code",
   "execution_count": 705,
   "id": "c7ae5c04-90c9-4478-85c9-acbabb634ba9",
   "metadata": {},
   "outputs": [
    {
     "name": "stdout",
     "output_type": "stream",
     "text": [
      "qDRIFT Value: 2.835366658540332\n"
     ]
    }
   ],
   "source": [
    "shot_no = 100\n",
    "lambda_param = 0\n",
    "for element in new_Heis_rep:\n",
    "    lambda_param += abs(element[0])\n",
    "\n",
    "Heis_val_new = qDRIFT_average(new_Heis_rep, state, local_obs, nqubits, time, no_timesteps, shot_no, matrix_input = 1)\n",
    "\n",
    "\n",
    "print(\"qDRIFT Value:\", Heis_val_new)"
   ]
  },
  {
   "cell_type": "code",
   "execution_count": 706,
   "id": "c6a2fe9e-4674-4cda-ad63-bba11c9258b2",
   "metadata": {},
   "outputs": [
    {
     "name": "stdout",
     "output_type": "stream",
     "text": [
      "Value from Trotterization: 2.848547852971072\n"
     ]
    }
   ],
   "source": [
    "# Compare the above to Trotterized Implementation\n",
    "\n",
    "Heis_terms_Trotter = [ term[0]*term[1] for term in new_Heis_rep]\n",
    "\n",
    "trotter_val_2 = Trotterized_Expectation(Heis_terms_Trotter, state, time, 1/no_timesteps, local_obs, order = 1)\n",
    "print(\"Value from Trotterization:\", trotter_val_2)"
   ]
  },
  {
   "cell_type": "code",
   "execution_count": 707,
   "id": "ec9015e1-05da-4c6c-ba45-35d0d4687853",
   "metadata": {},
   "outputs": [
    {
     "name": "stdout",
     "output_type": "stream",
     "text": [
      "Ideal value: 2.8485479319264555\n"
     ]
    }
   ],
   "source": [
    "# Compare with the idealised evolution.\n",
    "\n",
    "Htot3 = np.sum(Heis_terms_Trotter, axis = 0)\n",
    "\n",
    "final_state = sla.expm(-(1j)*time*np.array(Htot3)) @ state\n",
    "perfect_Heis_val  = expectation_value(final_state, local_obs)\n",
    "\n",
    "print(\"Ideal value:\", perfect_Heis_val) "
   ]
  },
  {
   "cell_type": "markdown",
   "id": "314fbaff-5177-4b4f-8642-e42ef4d6704f",
   "metadata": {},
   "source": [
    "## qFLO Applied to Heisenberg Model"
   ]
  },
  {
   "cell_type": "code",
   "execution_count": 830,
   "id": "a60c4cb2-d557-41a5-8aac-de42b39111b7",
   "metadata": {},
   "outputs": [
    {
     "name": "stdout",
     "output_type": "stream",
     "text": [
      "Ideal value: 2.9984008843438854\n"
     ]
    }
   ],
   "source": [
    "lambda_param = 0\n",
    "for element in Heisenberg_matrix_rep:\n",
    "    lambda_param += element[0]\n",
    "\n",
    "time = 0.01\n",
    "epsilon = 0.0003\n",
    "no_timesteps = np.ceil( 2*time**2*lambda_param**2/epsilon )\n",
    "s_min   = 1/no_timesteps\n",
    "# Choose local observable and initial state\n",
    "state = sparse_bitstring([nqubits//2], nqubits)\n",
    "#local_obs = Htot \n",
    "\n",
    "Htot3 = np.sum(Heis_terms_Trotter, axis = 0)\n",
    "\n",
    "final_state = sla.expm(-(1j)*time*np.array(Htot3)) @ state\n",
    "perfect_Heis_val  = expectation_value(final_state, local_obs)\n",
    "\n",
    "print(\"Ideal value:\", perfect_Heis_val) "
   ]
  },
  {
   "cell_type": "code",
   "execution_count": 801,
   "id": "6c663ee0-aca1-4952-9ed6-42ddfc24bce7",
   "metadata": {},
   "outputs": [
    {
     "name": "stdout",
     "output_type": "stream",
     "text": [
      "[0.14644660940672624] Sampled points [1017.0]\n",
      "qDRIFT value: 2.9983873288687737\n",
      "Depth array [1017.0]\n",
      "coefficient array: [1.]\n",
      "qFLO Estimate 2.99838202864841\n",
      "[0.03806023374435662] Sampled points [6357.0]\n",
      "[0.03806023374435662, 0.3086582838174551] Sampled points [6357.0, 1017.0]\n",
      "qDRIFT value: 2.998395098595048\n",
      "qDRIFT value: 2.9983822107615836\n",
      "Depth array [6357.0, 1017.0]\n",
      "coefficient array: [ 1.19044944 -0.19044944]\n",
      "qFLO Estimate 2.99838202864841\n",
      "[0.01703708685546585] Sampled points [17940.0]\n",
      "[0.01703708685546585, 0.14644660940672624] Sampled points [17940.0, 2604.0]\n",
      "[0.01703708685546585, 0.14644660940672624, 0.37059047744873963] Sampled points [17940.0, 2604.0, 1017.0]\n",
      "qDRIFT value: 2.998390458978316\n",
      "qDRIFT value: 2.9983840990253814\n",
      "qDRIFT value: 2.998391427864963\n",
      "Depth array [17940.0, 2604.0, 1017.0]\n",
      "coefficient array: [ 1.24009633 -0.27860758  0.03851125]\n",
      "qFLO Estimate 2.99838202864841\n",
      "[0.009607359798384776] Sampled points [38675.0]\n",
      "[0.009607359798384776, 0.08426519384872735] Sampled points [38675.0, 4775.0]\n",
      "[0.009607359798384776, 0.08426519384872735, 0.22221488349019888] Sampled points [38675.0, 4775.0, 1808.0]\n",
      "[0.009607359798384776, 0.08426519384872735, 0.22221488349019888, 0.40245483899193585] Sampled points [38675.0, 4775.0, 1808.0, 1017.0]\n",
      "qDRIFT value: 2.9983998707590693\n",
      "qDRIFT value: 2.998392476709777\n",
      "qDRIFT value: 2.9983880523273254\n",
      "qDRIFT value: 2.998375557374063\n",
      "Depth array [38675.0, 4775.0, 1808.0, 1017.0]\n",
      "coefficient array: [ 1.22912547 -0.28803556  0.06830672 -0.00939663]\n",
      "qFLO Estimate 2.99838202864841\n"
     ]
    }
   ],
   "source": [
    "error_array_3 = []\n",
    "circuit_depth_array = []\n",
    "shot_no = 100\n",
    "max_order = 4\n",
    "\n",
    "for order in range(1,max_order+1):\n",
    "    [Heis_qFLO_estimate_est, max_circuit_depth] = richardson_estimate(order, s_min, new_Heis_rep, state, time, local_obs, nqubits , shot_no, circuit_depth_flag=1, matrix_flag = 1)\n",
    "    print(\"qFLO Estimate\", Heis_qFLO_estimate)\n",
    "    circuit_depth_array.append(max_circuit_depth)\n",
    "    error = abs(perfect_Heis_val - Heis_qFLO_estimate)\n",
    "    error_array_3.append(error)\n"
   ]
  },
  {
   "cell_type": "code",
   "execution_count": 767,
   "id": "e9dc8e6e-01ea-427b-aee6-62e5b47c5f28",
   "metadata": {},
   "outputs": [
    {
     "ename": "ValueError",
     "evalue": "x and y must have same first dimension, but have shapes (4,) and (3,)",
     "output_type": "error",
     "traceback": [
      "\u001b[1;31m---------------------------------------------------------------------------\u001b[0m",
      "\u001b[1;31mValueError\u001b[0m                                Traceback (most recent call last)",
      "Cell \u001b[1;32mIn[767], line 1\u001b[0m\n\u001b[1;32m----> 1\u001b[0m plt\u001b[38;5;241m.\u001b[39msemilogy(circuit_depth_array, qDRIFT_error_array, label\u001b[38;5;241m=\u001b[39m\u001b[38;5;124m\"\u001b[39m\u001b[38;5;124mDirectly Measured Error\u001b[39m\u001b[38;5;124m\"\u001b[39m, marker \u001b[38;5;241m=\u001b[39m \u001b[38;5;124m'\u001b[39m\u001b[38;5;124m+\u001b[39m\u001b[38;5;124m'\u001b[39m)\n\u001b[0;32m      2\u001b[0m plt\u001b[38;5;241m.\u001b[39msemilogy(circuit_depth_array, error_array,  label\u001b[38;5;241m=\u001b[39m\u001b[38;5;124m\"\u001b[39m\u001b[38;5;124mRichardson Extrapolation\u001b[39m\u001b[38;5;124m\"\u001b[39m, marker \u001b[38;5;241m=\u001b[39m \u001b[38;5;124m'\u001b[39m\u001b[38;5;124mx\u001b[39m\u001b[38;5;124m'\u001b[39m)\n\u001b[0;32m      4\u001b[0m plt\u001b[38;5;241m.\u001b[39mxlabel(\u001b[38;5;124m'\u001b[39m\u001b[38;5;124mNumber of Trotter Steps\u001b[39m\u001b[38;5;124m'\u001b[39m)\n",
      "File \u001b[1;32m~\\anaconda3\\Lib\\site-packages\\matplotlib\\pyplot.py:3717\u001b[0m, in \u001b[0;36msemilogy\u001b[1;34m(*args, **kwargs)\u001b[0m\n\u001b[0;32m   3715\u001b[0m \u001b[38;5;129m@_copy_docstring_and_deprecators\u001b[39m(Axes\u001b[38;5;241m.\u001b[39msemilogy)\n\u001b[0;32m   3716\u001b[0m \u001b[38;5;28;01mdef\u001b[39;00m \u001b[38;5;21msemilogy\u001b[39m(\u001b[38;5;241m*\u001b[39margs, \u001b[38;5;241m*\u001b[39m\u001b[38;5;241m*\u001b[39mkwargs) \u001b[38;5;241m-\u001b[39m\u001b[38;5;241m>\u001b[39m \u001b[38;5;28mlist\u001b[39m[Line2D]:\n\u001b[1;32m-> 3717\u001b[0m     \u001b[38;5;28;01mreturn\u001b[39;00m gca()\u001b[38;5;241m.\u001b[39msemilogy(\u001b[38;5;241m*\u001b[39margs, \u001b[38;5;241m*\u001b[39m\u001b[38;5;241m*\u001b[39mkwargs)\n",
      "File \u001b[1;32m~\\anaconda3\\Lib\\site-packages\\matplotlib\\axes\\_axes.py:1956\u001b[0m, in \u001b[0;36mAxes.semilogy\u001b[1;34m(self, *args, **kwargs)\u001b[0m\n\u001b[0;32m   1952\u001b[0m d \u001b[38;5;241m=\u001b[39m {k: v \u001b[38;5;28;01mfor\u001b[39;00m k, v \u001b[38;5;129;01min\u001b[39;00m kwargs\u001b[38;5;241m.\u001b[39mitems()\n\u001b[0;32m   1953\u001b[0m      \u001b[38;5;28;01mif\u001b[39;00m k \u001b[38;5;129;01min\u001b[39;00m [\u001b[38;5;124m'\u001b[39m\u001b[38;5;124mbase\u001b[39m\u001b[38;5;124m'\u001b[39m, \u001b[38;5;124m'\u001b[39m\u001b[38;5;124msubs\u001b[39m\u001b[38;5;124m'\u001b[39m, \u001b[38;5;124m'\u001b[39m\u001b[38;5;124mnonpositive\u001b[39m\u001b[38;5;124m'\u001b[39m,\n\u001b[0;32m   1954\u001b[0m               \u001b[38;5;124m'\u001b[39m\u001b[38;5;124mbasey\u001b[39m\u001b[38;5;124m'\u001b[39m, \u001b[38;5;124m'\u001b[39m\u001b[38;5;124msubsy\u001b[39m\u001b[38;5;124m'\u001b[39m, \u001b[38;5;124m'\u001b[39m\u001b[38;5;124mnonposy\u001b[39m\u001b[38;5;124m'\u001b[39m]}\n\u001b[0;32m   1955\u001b[0m \u001b[38;5;28mself\u001b[39m\u001b[38;5;241m.\u001b[39mset_yscale(\u001b[38;5;124m'\u001b[39m\u001b[38;5;124mlog\u001b[39m\u001b[38;5;124m'\u001b[39m, \u001b[38;5;241m*\u001b[39m\u001b[38;5;241m*\u001b[39md)\n\u001b[1;32m-> 1956\u001b[0m \u001b[38;5;28;01mreturn\u001b[39;00m \u001b[38;5;28mself\u001b[39m\u001b[38;5;241m.\u001b[39mplot(\n\u001b[0;32m   1957\u001b[0m     \u001b[38;5;241m*\u001b[39margs, \u001b[38;5;241m*\u001b[39m\u001b[38;5;241m*\u001b[39m{k: v \u001b[38;5;28;01mfor\u001b[39;00m k, v \u001b[38;5;129;01min\u001b[39;00m kwargs\u001b[38;5;241m.\u001b[39mitems() \u001b[38;5;28;01mif\u001b[39;00m k \u001b[38;5;129;01mnot\u001b[39;00m \u001b[38;5;129;01min\u001b[39;00m d})\n",
      "File \u001b[1;32m~\\anaconda3\\Lib\\site-packages\\matplotlib\\axes\\_axes.py:1721\u001b[0m, in \u001b[0;36mAxes.plot\u001b[1;34m(self, scalex, scaley, data, *args, **kwargs)\u001b[0m\n\u001b[0;32m   1478\u001b[0m \u001b[38;5;250m\u001b[39m\u001b[38;5;124;03m\"\"\"\u001b[39;00m\n\u001b[0;32m   1479\u001b[0m \u001b[38;5;124;03mPlot y versus x as lines and/or markers.\u001b[39;00m\n\u001b[0;32m   1480\u001b[0m \n\u001b[1;32m   (...)\u001b[0m\n\u001b[0;32m   1718\u001b[0m \u001b[38;5;124;03m(``'green'``) or hex strings (``'#008000'``).\u001b[39;00m\n\u001b[0;32m   1719\u001b[0m \u001b[38;5;124;03m\"\"\"\u001b[39;00m\n\u001b[0;32m   1720\u001b[0m kwargs \u001b[38;5;241m=\u001b[39m cbook\u001b[38;5;241m.\u001b[39mnormalize_kwargs(kwargs, mlines\u001b[38;5;241m.\u001b[39mLine2D)\n\u001b[1;32m-> 1721\u001b[0m lines \u001b[38;5;241m=\u001b[39m [\u001b[38;5;241m*\u001b[39m\u001b[38;5;28mself\u001b[39m\u001b[38;5;241m.\u001b[39m_get_lines(\u001b[38;5;28mself\u001b[39m, \u001b[38;5;241m*\u001b[39margs, data\u001b[38;5;241m=\u001b[39mdata, \u001b[38;5;241m*\u001b[39m\u001b[38;5;241m*\u001b[39mkwargs)]\n\u001b[0;32m   1722\u001b[0m \u001b[38;5;28;01mfor\u001b[39;00m line \u001b[38;5;129;01min\u001b[39;00m lines:\n\u001b[0;32m   1723\u001b[0m     \u001b[38;5;28mself\u001b[39m\u001b[38;5;241m.\u001b[39madd_line(line)\n",
      "File \u001b[1;32m~\\anaconda3\\Lib\\site-packages\\matplotlib\\axes\\_base.py:303\u001b[0m, in \u001b[0;36m_process_plot_var_args.__call__\u001b[1;34m(self, axes, data, *args, **kwargs)\u001b[0m\n\u001b[0;32m    301\u001b[0m     this \u001b[38;5;241m+\u001b[39m\u001b[38;5;241m=\u001b[39m args[\u001b[38;5;241m0\u001b[39m],\n\u001b[0;32m    302\u001b[0m     args \u001b[38;5;241m=\u001b[39m args[\u001b[38;5;241m1\u001b[39m:]\n\u001b[1;32m--> 303\u001b[0m \u001b[38;5;28;01myield from\u001b[39;00m \u001b[38;5;28mself\u001b[39m\u001b[38;5;241m.\u001b[39m_plot_args(\n\u001b[0;32m    304\u001b[0m     axes, this, kwargs, ambiguous_fmt_datakey\u001b[38;5;241m=\u001b[39mambiguous_fmt_datakey)\n",
      "File \u001b[1;32m~\\anaconda3\\Lib\\site-packages\\matplotlib\\axes\\_base.py:499\u001b[0m, in \u001b[0;36m_process_plot_var_args._plot_args\u001b[1;34m(self, axes, tup, kwargs, return_kwargs, ambiguous_fmt_datakey)\u001b[0m\n\u001b[0;32m    496\u001b[0m     axes\u001b[38;5;241m.\u001b[39myaxis\u001b[38;5;241m.\u001b[39mupdate_units(y)\n\u001b[0;32m    498\u001b[0m \u001b[38;5;28;01mif\u001b[39;00m x\u001b[38;5;241m.\u001b[39mshape[\u001b[38;5;241m0\u001b[39m] \u001b[38;5;241m!=\u001b[39m y\u001b[38;5;241m.\u001b[39mshape[\u001b[38;5;241m0\u001b[39m]:\n\u001b[1;32m--> 499\u001b[0m     \u001b[38;5;28;01mraise\u001b[39;00m \u001b[38;5;167;01mValueError\u001b[39;00m(\u001b[38;5;124mf\u001b[39m\u001b[38;5;124m\"\u001b[39m\u001b[38;5;124mx and y must have same first dimension, but \u001b[39m\u001b[38;5;124m\"\u001b[39m\n\u001b[0;32m    500\u001b[0m                      \u001b[38;5;124mf\u001b[39m\u001b[38;5;124m\"\u001b[39m\u001b[38;5;124mhave shapes \u001b[39m\u001b[38;5;132;01m{\u001b[39;00mx\u001b[38;5;241m.\u001b[39mshape\u001b[38;5;132;01m}\u001b[39;00m\u001b[38;5;124m and \u001b[39m\u001b[38;5;132;01m{\u001b[39;00my\u001b[38;5;241m.\u001b[39mshape\u001b[38;5;132;01m}\u001b[39;00m\u001b[38;5;124m\"\u001b[39m)\n\u001b[0;32m    501\u001b[0m \u001b[38;5;28;01mif\u001b[39;00m x\u001b[38;5;241m.\u001b[39mndim \u001b[38;5;241m>\u001b[39m \u001b[38;5;241m2\u001b[39m \u001b[38;5;129;01mor\u001b[39;00m y\u001b[38;5;241m.\u001b[39mndim \u001b[38;5;241m>\u001b[39m \u001b[38;5;241m2\u001b[39m:\n\u001b[0;32m    502\u001b[0m     \u001b[38;5;28;01mraise\u001b[39;00m \u001b[38;5;167;01mValueError\u001b[39;00m(\u001b[38;5;124mf\u001b[39m\u001b[38;5;124m\"\u001b[39m\u001b[38;5;124mx and y can be no greater than 2D, but have \u001b[39m\u001b[38;5;124m\"\u001b[39m\n\u001b[0;32m    503\u001b[0m                      \u001b[38;5;124mf\u001b[39m\u001b[38;5;124m\"\u001b[39m\u001b[38;5;124mshapes \u001b[39m\u001b[38;5;132;01m{\u001b[39;00mx\u001b[38;5;241m.\u001b[39mshape\u001b[38;5;132;01m}\u001b[39;00m\u001b[38;5;124m and \u001b[39m\u001b[38;5;132;01m{\u001b[39;00my\u001b[38;5;241m.\u001b[39mshape\u001b[38;5;132;01m}\u001b[39;00m\u001b[38;5;124m\"\u001b[39m)\n",
      "\u001b[1;31mValueError\u001b[0m: x and y must have same first dimension, but have shapes (4,) and (3,)"
     ]
    },
    {
     "data": {
      "image/png": "[encoded data removed]",
      "text/plain": [
       "<Figure size 640x480 with 1 Axes>"
      ]
     },
     "metadata": {},
     "output_type": "display_data"
    }
   ],
   "source": [
    "plt.semilogy(circuit_depth_array, qDRIFT_error_array, label=\"Directly Measured Error\", marker = '+')\n",
    "plt.semilogy(circuit_depth_array, error_array,  label=\"Richardson Extrapolation\", marker = 'x')\n",
    "\n",
    "plt.xlabel('Number of Trotter Steps')\n",
    "plt.ylabel('Observable Error')\n",
    "plt.legend()\n",
    "plt.title(\"Error at Different Circuit Depths\")"
   ]
  },
  {
   "cell_type": "markdown",
   "id": "72e10ffb-09d2-4b3a-ab1a-134c50e4d164",
   "metadata": {},
   "source": [
    "## Graph A Generation"
   ]
  },
  {
   "cell_type": "code",
   "execution_count": 847,
   "id": "ffed3516-e142-4a6e-b9e5-b51be5f7dd0b",
   "metadata": {},
   "outputs": [
    {
     "name": "stdout",
     "output_type": "stream",
     "text": [
      "[0.14644660940672624] Sampled points [204.0]\n",
      "qDRIFT value: 2.9982777022863267\n",
      "Depth array [204.0]\n",
      "coefficient array: [1.]\n",
      "qFLO Estimate 2.99838202864841\n",
      "[0.03806023374435662] Sampled points [1275.0]\n",
      "[0.03806023374435662, 0.3086582838174551] Sampled points [1275.0, 204.0]\n",
      "qDRIFT value: 2.998387907636165\n",
      "qDRIFT value: 2.9982727553007367\n",
      "Depth array [1275.0, 204.0]\n",
      "coefficient array: [ 1.19047619 -0.19047619]\n",
      "qFLO Estimate 2.99838202864841\n",
      "[0.01703708685546585] Sampled points [3599.0]\n",
      "[0.01703708685546585, 0.14644660940672624] Sampled points [3599.0, 523.0]\n",
      "[0.01703708685546585, 0.14644660940672624, 0.37059047744873963] Sampled points [3599.0, 523.0, 204.0]\n",
      "qDRIFT value: 2.998402792002511\n",
      "qDRIFT value: 2.99833411484135\n",
      "qDRIFT value: 2.998190332054274\n",
      "Depth array [3599.0, 523.0, 204.0]\n",
      "coefficient array: [ 1.24033096 -0.27875737  0.03842642]\n",
      "qFLO Estimate 2.99838202864841\n"
     ]
    }
   ],
   "source": [
    "error_array_graph_A = []\n",
    "circuit_depth_array_graph_A = []\n",
    "shot_no = 100\n",
    "max_order = 3\n",
    "\n",
    "for order in range(1,max_order+1):\n",
    "    [Heis_qFLO_estimate_est, max_circuit_depth] = richardson_estimate(order, s_min, new_Heis_rep, state, time, local_obs, nqubits , shot_no, circuit_depth_flag=1, matrix_flag = 1)\n",
    "    print(\"qFLO Estimate\", Heis_qFLO_estimate)\n",
    "    circuit_depth_array_graph_A.append(max_circuit_depth)\n",
    "    error = abs(perfect_Heis_val - Heis_qFLO_estimate_est)\n",
    "    error_array_graph_A.append(error)\n",
    "\n"
   ]
  },
  {
   "cell_type": "code",
   "execution_count": 848,
   "id": "d97ff8ab-7606-4cbc-bdd1-d670112c6e05",
   "metadata": {},
   "outputs": [],
   "source": [
    "## qDRIFT generation\n",
    "qDRIFT_graph_A_errors = []\n",
    "#qDRIFT_graph_A_values = [2.998320519650663, 2.9983760736584992, 2.998415755658372]\n",
    "#qDRIFT_graph_A_values = [2.998331181628076,2.9983631377251116,2.998393266586436]\n",
    "qDRIFT_graph_A_values = [2.9982777022863267,2.998387907636165,2.998402792002511]\n",
    "\n",
    "for val in qDRIFT_graph_A_values:\n",
    "    qDRIFT_graph_A_errors.append(abs(val - perfect_Heis_val) )\n",
    "    "
   ]
  },
  {
   "cell_type": "code",
   "execution_count": 849,
   "id": "02a6ce70-6582-476e-b9e0-563ba247877f",
   "metadata": {},
   "outputs": [
    {
     "ename": "ValueError",
     "evalue": "x and y must have same first dimension, but have shapes (11,) and (3,)",
     "output_type": "error",
     "traceback": [
      "\u001b[1;31m---------------------------------------------------------------------------\u001b[0m",
      "\u001b[1;31mValueError\u001b[0m                                Traceback (most recent call last)",
      "Cell \u001b[1;32mIn[849], line 6\u001b[0m\n\u001b[0;32m      1\u001b[0m \u001b[38;5;66;03m## Including generate the \u001b[39;00m\n\u001b[0;32m      2\u001b[0m \n\u001b[0;32m      3\u001b[0m \u001b[38;5;66;03m#graph_A_circuit_depths = [204, 1275, 3599]\u001b[39;00m\n\u001b[1;32m----> 6\u001b[0m plt\u001b[38;5;241m.\u001b[39msemilogy(graph_A_circuit_depths, error_array_graph_A, label\u001b[38;5;241m=\u001b[39m\u001b[38;5;124m\"\u001b[39m\u001b[38;5;124mqFLO, 100 shots\u001b[39m\u001b[38;5;124m\"\u001b[39m, marker \u001b[38;5;241m=\u001b[39m \u001b[38;5;124m'\u001b[39m\u001b[38;5;124m+\u001b[39m\u001b[38;5;124m'\u001b[39m)\n\u001b[0;32m      7\u001b[0m plt\u001b[38;5;241m.\u001b[39msemilogy(graph_A_circuit_depths, qDRIFT_graph_A_errors, label\u001b[38;5;241m=\u001b[39m\u001b[38;5;124m\"\u001b[39m\u001b[38;5;124mqDRIFT, 100 shots\u001b[39m\u001b[38;5;124m\"\u001b[39m, marker \u001b[38;5;241m=\u001b[39m \u001b[38;5;124m'\u001b[39m\u001b[38;5;124m+\u001b[39m\u001b[38;5;124m'\u001b[39m)\n\u001b[0;32m     10\u001b[0m plt\u001b[38;5;241m.\u001b[39mxlabel(\u001b[38;5;124m'\u001b[39m\u001b[38;5;124mNumber of Trotter Steps\u001b[39m\u001b[38;5;124m'\u001b[39m)\n",
      "File \u001b[1;32m~\\anaconda3\\Lib\\site-packages\\matplotlib\\pyplot.py:3717\u001b[0m, in \u001b[0;36msemilogy\u001b[1;34m(*args, **kwargs)\u001b[0m\n\u001b[0;32m   3715\u001b[0m \u001b[38;5;129m@_copy_docstring_and_deprecators\u001b[39m(Axes\u001b[38;5;241m.\u001b[39msemilogy)\n\u001b[0;32m   3716\u001b[0m \u001b[38;5;28;01mdef\u001b[39;00m \u001b[38;5;21msemilogy\u001b[39m(\u001b[38;5;241m*\u001b[39margs, \u001b[38;5;241m*\u001b[39m\u001b[38;5;241m*\u001b[39mkwargs) \u001b[38;5;241m-\u001b[39m\u001b[38;5;241m>\u001b[39m \u001b[38;5;28mlist\u001b[39m[Line2D]:\n\u001b[1;32m-> 3717\u001b[0m     \u001b[38;5;28;01mreturn\u001b[39;00m gca()\u001b[38;5;241m.\u001b[39msemilogy(\u001b[38;5;241m*\u001b[39margs, \u001b[38;5;241m*\u001b[39m\u001b[38;5;241m*\u001b[39mkwargs)\n",
      "File \u001b[1;32m~\\anaconda3\\Lib\\site-packages\\matplotlib\\axes\\_axes.py:1956\u001b[0m, in \u001b[0;36mAxes.semilogy\u001b[1;34m(self, *args, **kwargs)\u001b[0m\n\u001b[0;32m   1952\u001b[0m d \u001b[38;5;241m=\u001b[39m {k: v \u001b[38;5;28;01mfor\u001b[39;00m k, v \u001b[38;5;129;01min\u001b[39;00m kwargs\u001b[38;5;241m.\u001b[39mitems()\n\u001b[0;32m   1953\u001b[0m      \u001b[38;5;28;01mif\u001b[39;00m k \u001b[38;5;129;01min\u001b[39;00m [\u001b[38;5;124m'\u001b[39m\u001b[38;5;124mbase\u001b[39m\u001b[38;5;124m'\u001b[39m, \u001b[38;5;124m'\u001b[39m\u001b[38;5;124msubs\u001b[39m\u001b[38;5;124m'\u001b[39m, \u001b[38;5;124m'\u001b[39m\u001b[38;5;124mnonpositive\u001b[39m\u001b[38;5;124m'\u001b[39m,\n\u001b[0;32m   1954\u001b[0m               \u001b[38;5;124m'\u001b[39m\u001b[38;5;124mbasey\u001b[39m\u001b[38;5;124m'\u001b[39m, \u001b[38;5;124m'\u001b[39m\u001b[38;5;124msubsy\u001b[39m\u001b[38;5;124m'\u001b[39m, \u001b[38;5;124m'\u001b[39m\u001b[38;5;124mnonposy\u001b[39m\u001b[38;5;124m'\u001b[39m]}\n\u001b[0;32m   1955\u001b[0m \u001b[38;5;28mself\u001b[39m\u001b[38;5;241m.\u001b[39mset_yscale(\u001b[38;5;124m'\u001b[39m\u001b[38;5;124mlog\u001b[39m\u001b[38;5;124m'\u001b[39m, \u001b[38;5;241m*\u001b[39m\u001b[38;5;241m*\u001b[39md)\n\u001b[1;32m-> 1956\u001b[0m \u001b[38;5;28;01mreturn\u001b[39;00m \u001b[38;5;28mself\u001b[39m\u001b[38;5;241m.\u001b[39mplot(\n\u001b[0;32m   1957\u001b[0m     \u001b[38;5;241m*\u001b[39margs, \u001b[38;5;241m*\u001b[39m\u001b[38;5;241m*\u001b[39m{k: v \u001b[38;5;28;01mfor\u001b[39;00m k, v \u001b[38;5;129;01min\u001b[39;00m kwargs\u001b[38;5;241m.\u001b[39mitems() \u001b[38;5;28;01mif\u001b[39;00m k \u001b[38;5;129;01mnot\u001b[39;00m \u001b[38;5;129;01min\u001b[39;00m d})\n",
      "File \u001b[1;32m~\\anaconda3\\Lib\\site-packages\\matplotlib\\axes\\_axes.py:1721\u001b[0m, in \u001b[0;36mAxes.plot\u001b[1;34m(self, scalex, scaley, data, *args, **kwargs)\u001b[0m\n\u001b[0;32m   1478\u001b[0m \u001b[38;5;250m\u001b[39m\u001b[38;5;124;03m\"\"\"\u001b[39;00m\n\u001b[0;32m   1479\u001b[0m \u001b[38;5;124;03mPlot y versus x as lines and/or markers.\u001b[39;00m\n\u001b[0;32m   1480\u001b[0m \n\u001b[1;32m   (...)\u001b[0m\n\u001b[0;32m   1718\u001b[0m \u001b[38;5;124;03m(``'green'``) or hex strings (``'#008000'``).\u001b[39;00m\n\u001b[0;32m   1719\u001b[0m \u001b[38;5;124;03m\"\"\"\u001b[39;00m\n\u001b[0;32m   1720\u001b[0m kwargs \u001b[38;5;241m=\u001b[39m cbook\u001b[38;5;241m.\u001b[39mnormalize_kwargs(kwargs, mlines\u001b[38;5;241m.\u001b[39mLine2D)\n\u001b[1;32m-> 1721\u001b[0m lines \u001b[38;5;241m=\u001b[39m [\u001b[38;5;241m*\u001b[39m\u001b[38;5;28mself\u001b[39m\u001b[38;5;241m.\u001b[39m_get_lines(\u001b[38;5;28mself\u001b[39m, \u001b[38;5;241m*\u001b[39margs, data\u001b[38;5;241m=\u001b[39mdata, \u001b[38;5;241m*\u001b[39m\u001b[38;5;241m*\u001b[39mkwargs)]\n\u001b[0;32m   1722\u001b[0m \u001b[38;5;28;01mfor\u001b[39;00m line \u001b[38;5;129;01min\u001b[39;00m lines:\n\u001b[0;32m   1723\u001b[0m     \u001b[38;5;28mself\u001b[39m\u001b[38;5;241m.\u001b[39madd_line(line)\n",
      "File \u001b[1;32m~\\anaconda3\\Lib\\site-packages\\matplotlib\\axes\\_base.py:303\u001b[0m, in \u001b[0;36m_process_plot_var_args.__call__\u001b[1;34m(self, axes, data, *args, **kwargs)\u001b[0m\n\u001b[0;32m    301\u001b[0m     this \u001b[38;5;241m+\u001b[39m\u001b[38;5;241m=\u001b[39m args[\u001b[38;5;241m0\u001b[39m],\n\u001b[0;32m    302\u001b[0m     args \u001b[38;5;241m=\u001b[39m args[\u001b[38;5;241m1\u001b[39m:]\n\u001b[1;32m--> 303\u001b[0m \u001b[38;5;28;01myield from\u001b[39;00m \u001b[38;5;28mself\u001b[39m\u001b[38;5;241m.\u001b[39m_plot_args(\n\u001b[0;32m    304\u001b[0m     axes, this, kwargs, ambiguous_fmt_datakey\u001b[38;5;241m=\u001b[39mambiguous_fmt_datakey)\n",
      "File \u001b[1;32m~\\anaconda3\\Lib\\site-packages\\matplotlib\\axes\\_base.py:499\u001b[0m, in \u001b[0;36m_process_plot_var_args._plot_args\u001b[1;34m(self, axes, tup, kwargs, return_kwargs, ambiguous_fmt_datakey)\u001b[0m\n\u001b[0;32m    496\u001b[0m     axes\u001b[38;5;241m.\u001b[39myaxis\u001b[38;5;241m.\u001b[39mupdate_units(y)\n\u001b[0;32m    498\u001b[0m \u001b[38;5;28;01mif\u001b[39;00m x\u001b[38;5;241m.\u001b[39mshape[\u001b[38;5;241m0\u001b[39m] \u001b[38;5;241m!=\u001b[39m y\u001b[38;5;241m.\u001b[39mshape[\u001b[38;5;241m0\u001b[39m]:\n\u001b[1;32m--> 499\u001b[0m     \u001b[38;5;28;01mraise\u001b[39;00m \u001b[38;5;167;01mValueError\u001b[39;00m(\u001b[38;5;124mf\u001b[39m\u001b[38;5;124m\"\u001b[39m\u001b[38;5;124mx and y must have same first dimension, but \u001b[39m\u001b[38;5;124m\"\u001b[39m\n\u001b[0;32m    500\u001b[0m                      \u001b[38;5;124mf\u001b[39m\u001b[38;5;124m\"\u001b[39m\u001b[38;5;124mhave shapes \u001b[39m\u001b[38;5;132;01m{\u001b[39;00mx\u001b[38;5;241m.\u001b[39mshape\u001b[38;5;132;01m}\u001b[39;00m\u001b[38;5;124m and \u001b[39m\u001b[38;5;132;01m{\u001b[39;00my\u001b[38;5;241m.\u001b[39mshape\u001b[38;5;132;01m}\u001b[39;00m\u001b[38;5;124m\"\u001b[39m)\n\u001b[0;32m    501\u001b[0m \u001b[38;5;28;01mif\u001b[39;00m x\u001b[38;5;241m.\u001b[39mndim \u001b[38;5;241m>\u001b[39m \u001b[38;5;241m2\u001b[39m \u001b[38;5;129;01mor\u001b[39;00m y\u001b[38;5;241m.\u001b[39mndim \u001b[38;5;241m>\u001b[39m \u001b[38;5;241m2\u001b[39m:\n\u001b[0;32m    502\u001b[0m     \u001b[38;5;28;01mraise\u001b[39;00m \u001b[38;5;167;01mValueError\u001b[39;00m(\u001b[38;5;124mf\u001b[39m\u001b[38;5;124m\"\u001b[39m\u001b[38;5;124mx and y can be no greater than 2D, but have \u001b[39m\u001b[38;5;124m\"\u001b[39m\n\u001b[0;32m    503\u001b[0m                      \u001b[38;5;124mf\u001b[39m\u001b[38;5;124m\"\u001b[39m\u001b[38;5;124mshapes \u001b[39m\u001b[38;5;132;01m{\u001b[39;00mx\u001b[38;5;241m.\u001b[39mshape\u001b[38;5;132;01m}\u001b[39;00m\u001b[38;5;124m and \u001b[39m\u001b[38;5;132;01m{\u001b[39;00my\u001b[38;5;241m.\u001b[39mshape\u001b[38;5;132;01m}\u001b[39;00m\u001b[38;5;124m\"\u001b[39m)\n",
      "\u001b[1;31mValueError\u001b[0m: x and y must have same first dimension, but have shapes (11,) and (3,)"
     ]
    },
    {
     "data": {
      "image/png": "[encoded data removed]",
      "text/plain": [
       "<Figure size 640x480 with 1 Axes>"
      ]
     },
     "metadata": {},
     "output_type": "display_data"
    }
   ],
   "source": [
    "## Including generate the \n",
    "\n",
    "#graph_A_circuit_depths = [204, 1275, 3599]\n",
    "\n",
    "\n",
    "plt.semilogy(graph_A_circuit_depths, error_array_graph_A, label=\"qFLO, 100 shots\", marker = '+')\n",
    "plt.semilogy(graph_A_circuit_depths, qDRIFT_graph_A_errors, label=\"qDRIFT, 100 shots\", marker = '+')\n",
    "\n",
    "\n",
    "plt.xlabel('Number of Trotter Steps')\n",
    "plt.ylabel('Observable Error')\n",
    "plt.legend()\n",
    "plt.title(\"Error at Different Circuit Depths\")"
   ]
  },
  {
   "cell_type": "code",
   "execution_count": 846,
   "id": "394c6fcf-e099-43f7-a365-a88abcb6b2ea",
   "metadata": {},
   "outputs": [],
   "source": [
    "### Print the data to file ###\n",
    "\n",
    "### Export data to Excel for future use:\n",
    "list_of_arrays = []\n",
    "# Make string out of state description.\n",
    "initial_state_string = ''\n",
    "initial_state_string = [initial_state_string + str(k) for k in sparse_bitstring([nqubits//2], nqubits)]\n",
    "initial_state_string = ''.join(initial_state_string)\n",
    "\n",
    "# Initialise arrays.\n",
    "List_Params   = [None] * max(len(circuit_depth_array), nqubits)\n",
    "Params_Values = [None] * max(len(circuit_depth_array), nqubits)\n",
    "hlist_string  = [None] * max(len(circuit_depth_array), nqubits)\n",
    "obs_string    = [None] * max(len(circuit_depth_array), nqubits)\n",
    "\n",
    "# Put hlist in correctly formatted array.\n",
    "for k in range(len(hlist)):\n",
    "    hlist_string[k] = hlist[k]\n",
    "    \n",
    "# Put obs_string in correctly formatted array.    \n",
    "for k in range(len(local_obs_array)):\n",
    "    obs_string[k] = local_obs_array[k]\n",
    "\n",
    "# Input the values of the parameters.    \n",
    "List_Params[0] = 'Simulation Time'\n",
    "List_Params[1] = 'Number Qubits'\n",
    "List_Params[2] = 'Initial State String'\n",
    "List_Params[3] = 'Shot Number'\n",
    "Params_Values[0] = time\n",
    "Params_Values[1] = nqubits\n",
    "Params_Values[2] = initial_state_string\n",
    "Params_Values[3] = shot_no\n",
    "\n",
    "list_of_arrays = list_of_arrays + [graph_A_circuit_depths, error_array_graph_A, qDRIFT_graph_A_errors, hlist_string, obs_string, List_Params, Params_Values ]\n",
    "padded_arrays  = padding_function(list_of_arrays)\n",
    "\n",
    "# Print data:\n",
    "data = {'Trotter_Depth_qFLO': padded_arrays[0],\n",
    "        'Richardson_Extrapolated_Error': padded_arrays[1],\n",
    "        'qDRIFT': padded_arrays[2],\n",
    "        'hlist': padded_arrays[3], \n",
    "        'Observable Strings': padded_arrays[4], \n",
    "        'List_of_Parameters': padded_arrays[5],\n",
    "        'Parameter_Values': padded_arrays[6],\n",
    "        }\n",
    "\n",
    "df = pd.DataFrame(data)\n",
    "\n",
    "now = datetime.now()\n",
    "current_time = now.strftime(\"%H.%M.%S\")\n",
    "\n",
    "file_location_name = r'Data_Sheets\\A_qFLO_Heisenberg'+'_'+str(date.today())+'_'+current_time+'.csv'\n",
    "#df.to_excel(file_location_name, index=False)\n",
    "df.to_csv(file_location_name, index=False)"
   ]
  },
  {
   "cell_type": "markdown",
   "id": "13e9a6e5-7ff6-4df3-a60e-a82ef9d99ebf",
   "metadata": {},
   "source": [
    "## Other Stuff"
   ]
  },
  {
   "cell_type": "code",
   "execution_count": 632,
   "id": "a3731a6d-0bec-47b9-b6f2-d6479ebf9800",
   "metadata": {},
   "outputs": [],
   "source": [
    "## Now plot vanilla qDRIFT.\n",
    "qDRIFT_error_array = []\n",
    "\n",
    "qDRIFT_array = [2.9984003685712626, ]\n",
    "for element in qDRIFT_array:\n",
    "    qDRIFT_error_array.append(abs(element - perfect_Heis_val))\n",
    "    "
   ]
  },
  {
   "cell_type": "code",
   "execution_count": 753,
   "id": "be5a3e4f-f3d3-47c7-aaba-1a9ca1249a10",
   "metadata": {},
   "outputs": [
    {
     "data": {
      "image/png": "[encoded data removed]",
      "text/plain": [
       "<Figure size 640x480 with 1 Axes>"
      ]
     },
     "metadata": {},
     "output_type": "display_data"
    },
    {
     "data": {
      "image/png": "[encoded data removed]",
      "text/plain": [
       "<Figure size 640x480 with 1 Axes>"
      ]
     },
     "metadata": {},
     "output_type": "display_data"
    }
   ],
   "source": [
    "import matplotlib.pyplot as plt\n",
    "\n",
    "fig = plt.plot(circuit_depth_array, error_array)  # Plot the chart\n",
    "fig = plt.figure()\n",
    "ax = fig.add_subplot(2,1,1)\n",
    "\n",
    "line, = ax.semilogy(circuit_depth_array,error_array, color='blue', lw=2)"
   ]
  },
  {
   "cell_type": "markdown",
   "id": "064730e1-a98b-453c-87e7-64d0980aebb2",
   "metadata": {},
   "source": [
    "## Graph C Generation"
   ]
  },
  {
   "cell_type": "code",
   "execution_count": 816,
   "id": "ba90e474-942a-43bf-bbec-a6733218dfb8",
   "metadata": {},
   "outputs": [],
   "source": [
    "## Now plot vanilla qDRIFT.\n",
    "qDRIFT_array_100 = []\n",
    "error_array_100 = []\n",
    "\n",
    "#qDRIFT_array   = [2.9984003685712626, 2.9983999495873745, 2.9983972873620814, 2.9983795108895626]\n",
    "#qDRIFT_array   = [2.9983873288687737, 2.998395098595048, 2.998390458978316, 2.9983998707590693]\n",
    "#qDRIFT_array_3 = [2.998403940079874, 2.9983977228437872, 2.99840516960022,2.998403170314654]\n",
    "\n",
    "qDRIFT_100 = [2.9983873288687737, 2.998395098595048, 2.998390458978316, 2.9983998707590693]\n",
    "#qFLO_100 = [2.99838202864841, 2.99838202864841, 2.99838202864841, 2.99838202864841]\n",
    "qFLO_100 = [2.9983873288687737, 2.998395098595048*1.19044944 -2.9983822107615836*0.19044944, 2.998390458978316*1.24009633 -   0.27860758*2.9983840990253814 +0.03851125*2.998391427864963, 2.9983998707590693*1.22912547 - 0.28803556*2.998392476709777+ 0.06830672*2.9983880523273254 -0.00939663*2.998375557374063]\n",
    "\n",
    "for element in qDRIFT_100:\n",
    "    qDRIFT_array_100.append(abs(element - perfect_Heis_val))\n",
    "\n",
    "for element in qFLO_100:\n",
    "    error_array_100.append(abs(element - perfect_Heis_val))\n",
    "\n",
    "\n",
    "qDRIFT_array_10000 = [2.1373454322848318e-05, 3.5969818039660595e-06, 9.347565108619449e-07, 5.157726228333104e-07]\n",
    "\n",
    "#error_array_100 = [2.1373454322848318e-05, 1.2413519501208725e-07, 2.2577578547778103e-07, 6.573681510246843e-08]\n",
    "#error_array_100 = \n",
    "error_array_10000 = [2.1373454322848318e-05, 1.2413519501208725e-07, 3.9577578547778103e-07, 6.573681510246843e-08] \n",
    "\n",
    "#qDRIFT_error_array_2.reverse()\n"
   ]
  },
  {
   "cell_type": "code",
   "execution_count": 817,
   "id": "eea2d412-bb89-4c3a-b8a8-5741931bd6b4",
   "metadata": {},
   "outputs": [
    {
     "data": {
      "text/plain": [
       "Text(0.5, 1.0, 'Error at Different Circuit Depths')"
      ]
     },
     "execution_count": 817,
     "metadata": {},
     "output_type": "execute_result"
    },
    {
     "data": {
      "image/png": "[encoded data removed]",
      "text/plain": [
       "<Figure size 640x480 with 1 Axes>"
      ]
     },
     "metadata": {},
     "output_type": "display_data"
    }
   ],
   "source": [
    "circuit_depth_aray = [38675.0, 4775.0, 1808.0, 1017.0]\n",
    "\n",
    "plt.semilogy(circuit_depth_array, qDRIFT_array_100, label=\"Directly Measured qDRIFT, 100 shots\", marker = '+')\n",
    "plt.semilogy(circuit_depth_array, qDRIFT_array_10000, label=\"Directly Measured qDRIFT, 10000 shots\", marker = '+')\n",
    "plt.semilogy(circuit_depth_array, error_array_10000,  label=\"Richardson Extrapolation 10000, shots\", marker = 'x')\n",
    "plt.semilogy(circuit_depth_array, error_array_100,  label=\"Richardson Extrapolation 100, shots\", marker = 'x')\n",
    "\n",
    "plt.xlabel('Number of Trotter Steps')\n",
    "plt.ylabel('Observable Error')\n",
    "plt.legend()\n",
    "plt.title(\"Error at Different Circuit Depths\")"
   ]
  },
  {
   "cell_type": "code",
   "execution_count": 768,
   "id": "5c843939-b0d6-4d6e-b83f-454a5d4eb936",
   "metadata": {},
   "outputs": [],
   "source": [
    "### Print the data to file ###\n",
    "\n",
    "### Export data to Excel for future use:\n",
    "list_of_arrays = []\n",
    "# Make string out of state description.\n",
    "initial_state_string = ''\n",
    "initial_state_string = [initial_state_string + str(k) for k in sparse_bitstring([nqubits//2], nqubits)]\n",
    "initial_state_string = ''.join(initial_state_string)\n",
    "\n",
    "# Initialise arrays.\n",
    "List_Params   = [None] * max(len(circuit_depth_array), nqubits)\n",
    "Params_Values = [None] * max(len(circuit_depth_array), nqubits)\n",
    "hlist_string  = [None] * max(len(circuit_depth_array), nqubits)\n",
    "obs_string    = [None] * max(len(circuit_depth_array), nqubits)\n",
    "\n",
    "# Put hlist in correctly formatted array.\n",
    "for k in range(len(hlist)):\n",
    "    hlist_string[k] = hlist[k]\n",
    "    \n",
    "# Put obs_string in correctly formatted array.    \n",
    "for k in range(len(local_obs_array)):\n",
    "    obs_string[k] = local_obs_array[k]\n",
    "\n",
    "# Input the values of the parameters.    \n",
    "List_Params[0] = 'Simulation Time'\n",
    "List_Params[1] = 'Number Qubits'\n",
    "List_Params[2] = 'Initial State String'\n",
    "List_Params[3] = 'Shot Number'\n",
    "Params_Values[0] = time\n",
    "Params_Values[1] = nqubits\n",
    "Params_Values[2] = initial_state_string\n",
    "Params_Values[3] = shot\n",
    "\n",
    "list_of_arrays = list_of_arrays + [circuit_depth_array,error_array, qDRIFT_error_array_2, hlist_string, obs_string, List_Params, Params_Values ]\n",
    "padded_arrays  = padding_function(list_of_arrays)\n",
    "\n",
    "# Print data:\n",
    "data = {'Trotter_Depth_qFLO': padded_arrays[0],\n",
    "        'Richardson_Extrapolated_Error': padded_arrays[1],\n",
    "        'qDRIFT': padded_arrays[2],\n",
    "        'hlist': padded_arrays[3], \n",
    "        'Observable Strings': padded_arrays[4], \n",
    "        'List_of_Parameters': padded_arrays[5],\n",
    "        'Parameter_Values': padded_arrays[6],\n",
    "        }\n",
    "\n",
    "df = pd.DataFrame(data)\n",
    "\n",
    "now = datetime.now()\n",
    "current_time = now.strftime(\"%H.%M.%S\")\n",
    "\n",
    "file_location_name = r'Data_Sheets\\B_qFLO_Heisenberg_Precision_Limited'+'_'+str(date.today())+'_'+current_time+'.csv'\n",
    "#df.to_excel(file_location_name, index=False)\n",
    "df.to_csv(file_location_name, index=False)"
   ]
  },
  {
   "cell_type": "code",
   "execution_count": 820,
   "id": "edbe5287-a245-49e2-a44a-139183d109fa",
   "metadata": {},
   "outputs": [],
   "source": [
    "### Print the multi-shot number values to a file:\n",
    "\n",
    "### Print the data to file ###\n",
    "\n",
    "### Export data to Excel for future use:\n",
    "list_of_arrays = []\n",
    "# Make string out of state description.\n",
    "initial_state_string = ''\n",
    "initial_state_string = [initial_state_string + str(k) for k in sparse_bitstring([nqubits//2], nqubits)]\n",
    "initial_state_string = ''.join(initial_state_string)\n",
    "\n",
    "# Initialise arrays.\n",
    "List_Params   = [None] * max(len(circuit_depth_array), nqubits)\n",
    "Params_Values = [None] * max(len(circuit_depth_array), nqubits)\n",
    "hlist_string  = [None] * max(len(circuit_depth_array), nqubits)\n",
    "obs_string    = [None] * max(len(circuit_depth_array), nqubits)\n",
    "\n",
    "# Put hlist in correctly formatted array.\n",
    "for k in range(len(hlist)):\n",
    "    hlist_string[k] = hlist[k]\n",
    "    \n",
    "# Put obs_string in correctly formatted array.    \n",
    "for k in range(len(local_obs_array)):\n",
    "    obs_string[k] = local_obs_array[k]\n",
    "\n",
    "# Input the values of the parameters.    \n",
    "List_Params[0] = 'Simulation Time'\n",
    "List_Params[1] = 'Number Qubits'\n",
    "List_Params[2] = 'Initial State String'\n",
    "#List_Params[3] = 'Shot Number'\n",
    "Params_Values[0] = time\n",
    "Params_Values[1] = nqubits\n",
    "Params_Values[2] = initial_state_string\n",
    "#Params_Values[3] = shot_no\n",
    "\n",
    "list_of_arrays = list_of_arrays + [circuit_depth_array,error_array_100, error_array_10000,qDRIFT_array_100, qDRIFT_array_10000, hlist_string, obs_string, List_Params, Params_Values ]\n",
    "padded_arrays  = padding_function(list_of_arrays)\n",
    "\n",
    "# Print data:\n",
    "data = {'Trotter_Depth_qFLO': padded_arrays[0],\n",
    "        'qFLO_100': padded_arrays[1],\n",
    "        'qFLO_10000': padded_arrays[2],\n",
    "        'qDRIFT_100': padded_arrays[3],\n",
    "        'qDRIFT_10000': padded_arrays[4],\n",
    "        'hlist': padded_arrays[5], \n",
    "        'Observable Strings': padded_arrays[6], \n",
    "        'List_of_Parameters': padded_arrays[7],\n",
    "        'Parameter_Values': padded_arrays[8],\n",
    "        }\n",
    "\n",
    "df = pd.DataFrame(data)\n",
    "\n",
    "now = datetime.now()\n",
    "current_time = now.strftime(\"%H.%M.%S\")\n",
    "\n",
    "file_location_name = r'Data_Sheets\\C_qFLO_Heisenberg_Precision_Comparison'+'_'+str(date.today())+'_'+current_time+'.csv'\n",
    "#df.to_excel(file_location_name, index=False)\n",
    "df.to_csv(file_location_name, index=False)"
   ]
  },
  {
   "cell_type": "markdown",
   "id": "92732ec7-35d2-4a8a-8ad5-b647def7be87",
   "metadata": {},
   "source": [
    "## Generating Graphs for Paper"
   ]
  },
  {
   "cell_type": "code",
   "execution_count": 623,
   "id": "10446783-6f7d-49e3-964c-bfc384411403",
   "metadata": {},
   "outputs": [],
   "source": [
    "### Functions that are useful for outputting the graph. \n",
    "\n",
    "# This ensures all lists are output with the same length.\n",
    "def padding_function(list_of_arrays):\n",
    "\n",
    "    max_length = max([len(x) for x in list_of_arrays])\n",
    "\n",
    "    for element in list_of_arrays:\n",
    "        while len(element) < max_length:\n",
    "            element.append(None)\n",
    "\n",
    "    return list_of_arrays\n",
    "    \n",
    "        "
   ]
  },
  {
   "cell_type": "code",
   "execution_count": 754,
   "id": "1a3954a8-07a1-4272-852d-982abcf780d5",
   "metadata": {},
   "outputs": [],
   "source": [
    "### Print the data to file ###\n",
    "\n",
    "### Export data to Excel for future use:\n",
    "list_of_arrays = []\n",
    "# Make string out of state description.\n",
    "initial_state_string = ''\n",
    "initial_state_string = [initial_state_string + str(k) for k in sparse_bitstring([nqubits//2], nqubits)]\n",
    "initial_state_string = ''.join(initial_state_string)\n",
    "\n",
    "# Initialise arrays.\n",
    "List_Params   = [None] * max(len(circuit_depth_array), nqubits)\n",
    "Params_Values = [None] * max(len(circuit_depth_array), nqubits)\n",
    "hlist_string  = [None] * max(len(circuit_depth_array), nqubits)\n",
    "obs_string    = [None] * max(len(circuit_depth_array), nqubits)\n",
    "\n",
    "# Put hlist in correctly formatted array.\n",
    "for k in range(len(hlist)):\n",
    "    hlist_string[k] = hlist[k]\n",
    "    \n",
    "# Put obs_string in correctly formatted array.    \n",
    "for k in range(len(local_obs_array)):\n",
    "    obs_string[k] = local_obs_array[k]\n",
    "\n",
    "# Input the values of the parameters.    \n",
    "List_Params[0] = 'Simulation Time'\n",
    "List_Params[1] = 'Number Qubits'\n",
    "List_Params[2] = 'Initial State String'\n",
    "Params_Values[0] = time\n",
    "Params_Values[1] = nqubits\n",
    "Params_Values[2] = initial_state_string\n",
    "\n",
    "list_of_arrays = list_of_arrays + [circuit_depth_array,error_array,hlist_string, obs_string, List_Params, Params_Values ]\n",
    "padded_arrays  = padding_function(list_of_arrays)\n",
    "\n",
    "# Print data:\n",
    "data = {'Trotter_Depth_qFLO': padded_arrays[0],\n",
    "        'Richardson_Extrapolated_Error': padded_arrays[1],\n",
    "        'hlist': padded_arrays[2], \n",
    "        'Observable Strings': padded_arrays[3], \n",
    "        'List_of_Parameters': padded_arrays[4],\n",
    "        'Parameter_Values': padded_arrays[5],\n",
    "        }\n",
    "\n",
    "df = pd.DataFrame(data)\n",
    "\n",
    "now = datetime.now()\n",
    "current_time = now.strftime(\"%H.%M.%S\")\n",
    "\n",
    "file_location_name = r'Data_Sheets\\A_qFLO_Heisenberg'+'_'+str(date.today())+'_'+current_time+'.csv'\n",
    "#df.to_excel(file_location_name, index=False)\n",
    "df.to_csv(file_location_name, index=False)"
   ]
  },
  {
   "cell_type": "code",
   "execution_count": null,
   "id": "55f6159c-0331-4b0a-929b-d2e654f0b6aa",
   "metadata": {},
   "outputs": [],
   "source": []
  },
  {
   "cell_type": "code",
   "execution_count": 649,
   "id": "92c4e7a8-6af5-497f-8026-63e4b2155c0a",
   "metadata": {},
   "outputs": [
    {
     "name": "stdout",
     "output_type": "stream",
     "text": [
      "[0.14644660940672624] Sampled points [204.0]\n"
     ]
    },
    {
     "ename": "KeyboardInterrupt",
     "evalue": "",
     "output_type": "error",
     "traceback": [
      "\u001b[1;31m---------------------------------------------------------------------------\u001b[0m",
      "\u001b[1;31mKeyboardInterrupt\u001b[0m                         Traceback (most recent call last)",
      "Cell \u001b[1;32mIn[649], line 8\u001b[0m\n\u001b[0;32m      5\u001b[0m time \u001b[38;5;241m=\u001b[39m \u001b[38;5;241m0.01\u001b[39m\n\u001b[0;32m      7\u001b[0m \u001b[38;5;28;01mfor\u001b[39;00m order \u001b[38;5;129;01min\u001b[39;00m \u001b[38;5;28mrange\u001b[39m(\u001b[38;5;241m1\u001b[39m,max_order\u001b[38;5;241m+\u001b[39m\u001b[38;5;241m1\u001b[39m):\n\u001b[1;32m----> 8\u001b[0m     [Heis_qFLO_estimate, max_circuit_depth] \u001b[38;5;241m=\u001b[39m richardson_estimate(order, s_min, new_Heis_rep, state, time, local_obs, nqubits , shot_no, circuit_depth_flag\u001b[38;5;241m=\u001b[39m\u001b[38;5;241m1\u001b[39m, matrix_flag \u001b[38;5;241m=\u001b[39m \u001b[38;5;241m1\u001b[39m)\n\u001b[0;32m      9\u001b[0m     \u001b[38;5;28mprint\u001b[39m(\u001b[38;5;124m\"\u001b[39m\u001b[38;5;124mqFLO Estimate\u001b[39m\u001b[38;5;124m\"\u001b[39m, Heis_qFLO_estimate)\n\u001b[0;32m     10\u001b[0m     circuit_depth_array\u001b[38;5;241m.\u001b[39mappend(max_circuit_depth)\n",
      "Cell \u001b[1;32mIn[608], line 49\u001b[0m, in \u001b[0;36mrichardson_estimate\u001b[1;34m(order, s_min, Hamiltonian_local_rep, initial_state, time, observable, nqubits, shot_no, circuit_depth_flag, matrix_flag)\u001b[0m\n\u001b[0;32m     47\u001b[0m points_array\u001b[38;5;241m.\u001b[39mappend(no_timesteps)\n\u001b[0;32m     48\u001b[0m \u001b[38;5;28;01mif\u001b[39;00m matrix_flag \u001b[38;5;241m==\u001b[39m \u001b[38;5;241m1\u001b[39m:\n\u001b[1;32m---> 49\u001b[0m     qDRIFT_val   \u001b[38;5;241m=\u001b[39m qDRIFT_average( Hamiltonian_local_rep, initial_state, observable, nqubits, time, no_timesteps, shot_no, matrix_input \u001b[38;5;241m=\u001b[39m \u001b[38;5;241m1\u001b[39m )\n\u001b[0;32m     50\u001b[0m \u001b[38;5;28;01melif\u001b[39;00m matrix_flag \u001b[38;5;241m==\u001b[39m \u001b[38;5;241m0\u001b[39m:\n\u001b[0;32m     51\u001b[0m     qDRIFT_val   \u001b[38;5;241m=\u001b[39m qDRIFT_average( Hamiltonian_local_rep, initial_state, observable, nqubits, time, no_timesteps, shot_no, matrix_input \u001b[38;5;241m=\u001b[39m \u001b[38;5;241m0\u001b[39m )\n",
      "Cell \u001b[1;32mIn[610], line 80\u001b[0m, in \u001b[0;36mqDRIFT_average\u001b[1;34m(local_rep_Hamiltonian, initial_state, observable, nqubits, time, no_timesteps, shot_no, matrix_input)\u001b[0m\n\u001b[0;32m     78\u001b[0m j \u001b[38;5;241m=\u001b[39m \u001b[38;5;241m0\u001b[39m\n\u001b[0;32m     79\u001b[0m \u001b[38;5;28;01mwhile\u001b[39;00m j\u001b[38;5;241m<\u001b[39m\u001b[38;5;241m=\u001b[39m shot_no:\n\u001b[1;32m---> 80\u001b[0m     results_array\u001b[38;5;241m.\u001b[39mappend(qDRIFT_observable(local_rep_Hamiltonian, initial_state, observable, nqubits, time, no_timesteps, matrix_input \u001b[38;5;241m=\u001b[39m matrix_input))\n\u001b[0;32m     81\u001b[0m     j \u001b[38;5;241m+\u001b[39m\u001b[38;5;241m=\u001b[39m \u001b[38;5;241m1\u001b[39m\n\u001b[0;32m     83\u001b[0m mean \u001b[38;5;241m=\u001b[39m \u001b[38;5;28msum\u001b[39m(results_array)\u001b[38;5;241m/\u001b[39m\u001b[38;5;28mlen\u001b[39m(results_array)\n",
      "Cell \u001b[1;32mIn[610], line 65\u001b[0m, in \u001b[0;36mqDRIFT_observable\u001b[1;34m(local_rep_Hamiltonian, initial_state, observable, nqubits, time, no_timesteps, matrix_input)\u001b[0m\n\u001b[0;32m     62\u001b[0m timestep \u001b[38;5;241m=\u001b[39m time\u001b[38;5;241m/\u001b[39mno_timesteps\n\u001b[0;32m     64\u001b[0m \u001b[38;5;28;01mfor\u001b[39;00m index \u001b[38;5;129;01min\u001b[39;00m list_of_indicies:\n\u001b[1;32m---> 65\u001b[0m     state \u001b[38;5;241m=\u001b[39m sla\u001b[38;5;241m.\u001b[39mexpm(\u001b[38;5;241m-\u001b[39m(\u001b[38;5;241m1\u001b[39mj)\u001b[38;5;241m*\u001b[39mtimestep\u001b[38;5;241m*\u001b[39mlambda_param\u001b[38;5;241m*\u001b[39mnp\u001b[38;5;241m.\u001b[39msign(local_mat_rep[index][\u001b[38;5;241m0\u001b[39m])\u001b[38;5;241m*\u001b[39m(local_mat_rep[index][\u001b[38;5;241m1\u001b[39m])) \u001b[38;5;241m@\u001b[39m state\n\u001b[0;32m     67\u001b[0m expectation \u001b[38;5;241m=\u001b[39m expectation_value(state, observable)\n\u001b[0;32m     69\u001b[0m \u001b[38;5;28;01mreturn\u001b[39;00m expectation\n",
      "File \u001b[1;32m~\\anaconda3\\Lib\\site-packages\\scipy\\linalg\\_matfuncs.py:213\u001b[0m, in \u001b[0;36mexpm\u001b[1;34m(A)\u001b[0m\n\u001b[0;32m    209\u001b[0m     \u001b[38;5;28;01melse\u001b[39;00m:\n\u001b[0;32m    210\u001b[0m         \u001b[38;5;28;01mreturn\u001b[39;00m F, errest\n\u001b[1;32m--> 213\u001b[0m \u001b[38;5;28;01mdef\u001b[39;00m \u001b[38;5;21mexpm\u001b[39m(A):\n\u001b[0;32m    214\u001b[0m \u001b[38;5;250m    \u001b[39m\u001b[38;5;124;03m\"\"\"Compute the matrix exponential of an array.\u001b[39;00m\n\u001b[0;32m    215\u001b[0m \n\u001b[0;32m    216\u001b[0m \u001b[38;5;124;03m    Parameters\u001b[39;00m\n\u001b[1;32m   (...)\u001b[0m\n\u001b[0;32m    277\u001b[0m \n\u001b[0;32m    278\u001b[0m \u001b[38;5;124;03m    \"\"\"\u001b[39;00m\n\u001b[0;32m    279\u001b[0m     a \u001b[38;5;241m=\u001b[39m np\u001b[38;5;241m.\u001b[39masarray(A)\n",
      "\u001b[1;31mKeyboardInterrupt\u001b[0m: "
     ]
    }
   ],
   "source": [
    "error_array = []\n",
    "circuit_depth_array = []\n",
    "max_order = 4\n",
    "shot_no = 100000\n",
    "time = 0.01\n",
    "\n",
    "for order in range(1,max_order+1):\n",
    "    [Heis_qFLO_estimate, max_circuit_depth] = richardson_estimate(order, s_min, new_Heis_rep, state, time, local_obs, nqubits , shot_no, circuit_depth_flag=1, matrix_flag = 1)\n",
    "    print(\"qFLO Estimate\", Heis_qFLO_estimate)\n",
    "    circuit_depth_array.append(max_circuit_depth)\n",
    "    error = abs(perfect_Heis_val - Heis_qFLO_estimate)\n",
    "    error_array.append(error)"
   ]
  },
  {
   "cell_type": "code",
   "execution_count": 648,
   "id": "603514da-f736-41de-b72c-5b511ec6010c",
   "metadata": {},
   "outputs": [
    {
     "data": {
      "image/png": "[encoded data removed]",
      "text/plain": [
       "<Figure size 640x480 with 1 Axes>"
      ]
     },
     "metadata": {},
     "output_type": "display_data"
    },
    {
     "data": {
      "image/png": "[encoded data removed]",
      "text/plain": [
       "<Figure size 640x480 with 1 Axes>"
      ]
     },
     "metadata": {},
     "output_type": "display_data"
    }
   ],
   "source": [
    "import matplotlib.pyplot as plt\n",
    "\n",
    "fig = plt.plot(circuit_depth_array, error_array)  # Plot the chart\n",
    "fig = plt.figure()\n",
    "ax = fig.add_subplot(2,1,1)\n",
    "\n",
    "line, = ax.semilogy(circuit_depth_array,error_array, color='blue', lw=2)"
   ]
  },
  {
   "cell_type": "code",
   "execution_count": 723,
   "id": "9b942555-2beb-4356-a9af-08678b2095e0",
   "metadata": {},
   "outputs": [
    {
     "name": "stdout",
     "output_type": "stream",
     "text": [
      "[0.14644660940672624] Sampled points [204.0]\n",
      "qDRIFT value: 2.8393902153574637\n",
      "Depth array [204.0]\n",
      "coefficient array: [1.]\n",
      "qFLO Estimate 2.8393902153574637\n",
      "[0.03806023374435662] Sampled points [510.0]\n",
      "[0.03806023374435662, 0.3086582838174551] Sampled points [510.0, 204.0]\n",
      "qDRIFT value: 2.8442027211629584\n",
      "qDRIFT value: 2.8366754891805432\n",
      "Depth array [510.0, 204.0]\n",
      "coefficient array: [ 1.66666667 -0.66666667]\n",
      "qFLO Estimate 2.8492208758179016\n",
      "[0.01703708685546585] Sampled points [857.0]\n",
      "[0.01703708685546585, 0.14644660940672624] Sampled points [857.0, 327.0]\n",
      "[0.01703708685546585, 0.14644660940672624, 0.37059047744873963] Sampled points [857.0, 327.0, 204.0]\n",
      "qDRIFT value: 2.8462375190796316\n",
      "qDRIFT value: 2.841461033993585\n",
      "qDRIFT value: 2.838865241296325\n",
      "Depth array [857.0, 327.0, 204.0]\n",
      "coefficient array: [ 2.12213297 -1.64026691  0.51813394]\n",
      "qFLO Estimate 2.8502524021810753\n"
     ]
    }
   ],
   "source": [
    "## Using a different set of sampling points\n",
    "\n",
    "time = 0.1\n",
    "epsilon = 0.001\n",
    "no_timesteps = np.ceil( 2*time**2*lambda_param**2/epsilon )\n",
    "s_min   = 1/no_timesteps\n",
    "# Choose local observable and initial state\n",
    "state = sparse_bitstring([nqubits//2], nqubits)\n",
    "shot_no = 1000\n",
    "#local_obs = Htot \n",
    "\n",
    "\n",
    "error_array_short = []\n",
    "circuit_depth_array_short = []\n",
    "max_order = 3\n",
    "\n",
    "for order in range(1,max_order+1):\n",
    "    [Heis_qFLO_estimate, max_circuit_depth] = richardson_estimate(order, s_min, new_Heis_rep, state, time, local_obs, nqubits , shot_no, sample_points = \"short\", circuit_depth_flag=1, matrix_flag = 1)\n",
    "    print(\"qFLO Estimate\", Heis_qFLO_estimate)\n",
    "    circuit_depth_array_short.append(max_circuit_depth)\n",
    "    error = abs(perfect_Heis_val - Heis_qFLO_estimate)\n",
    "    error_array_short.append(error)"
   ]
  },
  {
   "cell_type": "code",
   "execution_count": 724,
   "id": "36cd0d2d-6103-4332-a65f-2cfda503bf62",
   "metadata": {},
   "outputs": [
    {
     "data": {
      "image/png": "[encoded data removed]",
      "text/plain": [
       "<Figure size 640x480 with 1 Axes>"
      ]
     },
     "metadata": {},
     "output_type": "display_data"
    },
    {
     "data": {
      "image/png": "[encoded data removed]",
      "text/plain": [
       "<Figure size 640x480 with 1 Axes>"
      ]
     },
     "metadata": {},
     "output_type": "display_data"
    }
   ],
   "source": [
    "import matplotlib.pyplot as plt\n",
    "\n",
    "fig = plt.plot(circuit_depth_array_short, error_array_short)  # Plot the chart\n",
    "fig = plt.figure()\n",
    "ax = fig.add_subplot(2,1,1)\n",
    "\n",
    "line, = ax.semilogy(circuit_depth_array_short,error_array_short, color='blue', lw=2)"
   ]
  },
  {
   "cell_type": "code",
   "execution_count": null,
   "id": "1f25f149-c965-4ef4-8647-2f38e19c1c78",
   "metadata": {},
   "outputs": [],
   "source": []
  }
 ],
 "metadata": {
  "kernelspec": {
   "display_name": "Python 3 (ipykernel)",
   "language": "python",
   "name": "python3"
  },
  "language_info": {
   "codemirror_mode": {
    "name": "ipython",
    "version": 3
   },
   "file_extension": ".py",
   "mimetype": "text/x-python",
   "name": "python",
   "nbconvert_exporter": "python",
   "pygments_lexer": "ipython3",
   "version": "3.11.7"
  }
 },
 "nbformat": 4,
 "nbformat_minor": 5
}

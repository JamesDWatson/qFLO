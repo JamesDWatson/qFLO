{
 "cells": [
  {
   "cell_type": "markdown",
   "id": "5e1ec53a-2f53-4efc-815d-794e77d665d1",
   "metadata": {},
   "source": [
    "# Implementation for the qFLO Algorithm"
   ]
  },
  {
   "cell_type": "markdown",
   "id": "dbf984ec-04ff-41bd-b96c-e90bf51bbc86",
   "metadata": {},
   "source": [
    "### James D. Watson"
   ]
  },
  {
   "cell_type": "markdown",
   "id": "1c9a1223-fa1d-42fa-895f-92142a569e5d",
   "metadata": {},
   "source": [
    "# Table of contents\n",
    "1. [Introduction](#introduction)\n",
    "2. [Methods](#methods)\n",
    "    1. [Linear Algebra Functions](#linalg)\n",
    "    2. [Simulation Functions](#simulation)\n",
    "    3. [Local Observables](#observable)\n",
    "3. [Hamiltonian Input from OpenFermion](#openfermion)\n",
    "4. [qDRIFT Implementation](#qDRIFT)\n",
    "5. [qFLO Implementation](#qFLO)\n",
    "    1. [qFLO Example](#linalg)"
   ]
  },
  {
   "cell_type": "markdown",
   "id": "865a454b-918c-42d0-a483-3c097a123e56",
   "metadata": {},
   "source": [
    "# Introduction <a name=\"introduction\"></a>"
   ]
  },
  {
   "cell_type": "markdown",
   "id": "eb525f6c-ca46-4d2e-9a14-7ff8de4a5c8f",
   "metadata": {},
   "source": [
    "Here we give explicit code for the qFLO algorithm given in https://arxiv.org/abs/2411.04240"
   ]
  },
  {
   "cell_type": "markdown",
   "id": "a9499ddf-6410-43ba-b9fa-2f65b71dd014",
   "metadata": {},
   "source": [
    "# Methods <a name=\"methods\"></a>"
   ]
  },
  {
   "cell_type": "markdown",
   "id": "f4b61024-d16c-4c35-84be-86399cb00133",
   "metadata": {},
   "source": [
    "## Useful Pauli and Qubit Manipulations"
   ]
  },
  {
   "cell_type": "code",
   "execution_count": 1,
   "id": "ba323fb2-e683-4f36-acbc-da831b6fbe93",
   "metadata": {},
   "outputs": [
    {
     "name": "stderr",
     "output_type": "stream",
     "text": [
      "C:\\Users\\05wat\\anaconda3\\Lib\\site-packages\\scipy\\__init__.py:155: UserWarning: A NumPy version >=1.18.5 and <1.26.0 is required for this version of SciPy (detected version 1.26.4\n",
      "  warnings.warn(f\"A NumPy version >={np_minversion} and <{np_maxversion}\"\n"
     ]
    }
   ],
   "source": [
    "# Imports\n",
    "\n",
    "import numpy as np\n",
    "import scipy.interpolate as interp\n",
    "import scipy.linalg as sla\n",
    "import numpy.linalg as nla\n",
    "import matplotlib.pyplot as plt\n",
    "import random as rand\n",
    "import pandas as pd\n",
    "from mpmath import *\n",
    "from datetime import datetime\n",
    "from datetime import date"
   ]
  },
  {
   "cell_type": "code",
   "execution_count": 389,
   "id": "c28e3d02-3672-4267-bee2-488e2f5f0ee9",
   "metadata": {},
   "outputs": [],
   "source": [
    "# Computes Kronecker (tensor) product of a list of matrices\n",
    "# Example:\n",
    "# Input: [X,Y,Z,Y]\n",
    "# Return: X \\ox Y \\ox Z \\ox Y\n",
    "def kron_list(matrix_list):\n",
    "    result = matrix_list[0]\n",
    "    for i in range(1,len(matrix_list)):\n",
    "        result = np.kron(result,matrix_list[i])\n",
    "        \n",
    "    return result\n",
    "\n",
    "# Pauli matrices\n",
    "I = np.array([[1.,0],[0,1.]], dtype='complex')\n",
    "X = np.array([[0,1.],[1.,0]], dtype='complex')\n",
    "Y = np.array([[0,-1.j],[1.j,0]], dtype='complex')\n",
    "Z = np.array([[1.,0],[0,-1.]], dtype='complex')\n",
    "\n",
    "# Converts string representation of paulis to list of matrices,\n",
    "# Example:\n",
    "# Input: \"XYZY\"\n",
    "# Return: [X,Y,Z,Y]\n",
    "def paulistring_to_list(paulistring): \n",
    "    matrix_list = list(paulistring)\n",
    "    translate = {'I':I, 'X':X, 'Y':Y, 'Z':Z}\n",
    "    for p in range(len(paulistring)):\n",
    "        matrix_list[p] = translate[matrix_list[p]]\n",
    "    return matrix_list\n",
    "\n",
    "# Computes generalized pauli matrix, given a string in standard form,\n",
    "# Example:\n",
    "# Input: \"XYZY\"\n",
    "# Return: X \\ox Y \\ox Z \\ox Y\n",
    "def pauli_matrix(paulistring):\n",
    "    return kron_list(paulistring_to_list(paulistring))\n",
    "\n",
    "# Computes generalized pauli matrix, specified by non-identity pieces. Nonidentities encoded as dictionary\n",
    "# of the form {k:'P', ..., } where k is the integer location and P is a pauli\n",
    "# Example:\n",
    "# Input: {0: 'X', 3:'Z', 5:'X'}, 6\n",
    "# Return: X\\ox I \\ox  Z \\ox I \\ox I \\ox X\n",
    "def sparse_pauli(nonidentities, nqubits):\n",
    "    #starting string is all identity\n",
    "    paulilist = []\n",
    "    for i in range(0, nqubits):\n",
    "        paulilist.append('I')\n",
    "    \n",
    "    #Change string to paulis specified by dictionary\n",
    "    for key in nonidentities:\n",
    "        paulilist[key] = nonidentities[key]\n",
    "    paulistring = ''.join(paulilist)\n",
    "    \n",
    "    return pauli_matrix(paulistring) \n",
    "\n",
    "# Returns the matrix of \\sigma . \\sigma between sites i and j\n",
    "# Example:\n",
    "# Input: 0,1,4\n",
    "# Return: X\\ox X \\ox I \\ox I + Y\\ox Y \\ox I \\ox I + Z\\ox Z \\ox I \\ox I\n",
    "def sigma_dot_sigma(i,j,nqubits):\n",
    "    return sparse_pauli({i:'X',j:'X'},nqubits) + sparse_pauli({i:'Y',j:'Y'},nqubits) + sparse_pauli({i:'Z',j:'Z'},nqubits)\n",
    "\n",
    "# Qubit computational basis\n",
    "zero = np.array([1.,0], dtype ='complex')\n",
    "one = np.array([0,1.], dtype ='complex')\n",
    "\n",
    "# Converts a bitstring to list of single-qubit kets\n",
    "# Example: \n",
    "# Input: \"0101\"\n",
    "# Output: list( (1,0), (0,1), (1,0), (0,1) )\n",
    "def bitstring_to_list(bitstring):\n",
    "    bitlist = list(bitstring)\n",
    "    translate = {'0':zero, '1':one}\n",
    "    for b in range(len(bitstring)):\n",
    "        bitlist[b] = translate[bitlist[b]]\n",
    "    return bitlist\n",
    "\n",
    "# Converts a bitstring to full vector/array describing each qubit.\n",
    "# Example: \n",
    "# Input: \"0101\"\n",
    "# Output:  (1,0) \\ox (0,1) \\ox (1,0) \\ox (0,1) \n",
    "def basis_ket(bitstring):\n",
    "    return kron_list(bitstring_to_list(bitstring))\n",
    "\n",
    "\n",
    "# Outputs a bit string with certain positions set to 1, and otherwise set to zero.\n",
    "# Example: \n",
    "# Input: [0,1,2],3\n",
    "# Output:  (0,0,0,0,0,0,0,0,1)\n",
    "def sparse_bitstring(ones, nqubits):\n",
    "    bitlist = ['0']*nqubits\n",
    "    \n",
    "    #Flip certain bits to one, as specified by list of qubit indices\n",
    "    for qubit in ones:\n",
    "        bitlist[qubit] = '1'\n",
    "    \n",
    "    # Convert list to bitstring\n",
    "    bitstring = ''.join(bitlist)\n",
    "    \n",
    "    return basis_ket(bitstring)"
   ]
  },
  {
   "cell_type": "markdown",
   "id": "13d60868-0d43-40c1-bda1-026ff26e4a77",
   "metadata": {},
   "source": [
    "## Linear Algebra Functions <a name=\"linalg\"></a>"
   ]
  },
  {
   "cell_type": "code",
   "execution_count": 3,
   "id": "668054dc-a2b3-4f23-937f-19d38e0538cd",
   "metadata": {},
   "outputs": [],
   "source": [
    "## We are working with large matrix powers. Here we use diagonalisation rather than the repeated square method to compute\n",
    "## large exponents.\n",
    "## Code taken from: https://saturncloud.io/blog/numpys-matrixpower-function-understanding-and-addressing-incorrect-results-for-large-exponents/\n",
    "\n",
    "# Computer n^th power of square, diagonalisable matrix A:\n",
    "def matrix_power_eigenvalue(A, n):\n",
    "    #Adjust precision\n",
    "    #mp.dps = 20\n",
    "    \n",
    "    ## Use in-built hi-precision function:\n",
    "    output =  np.array(mp.powm(A, n).tolist(), dtype=complex)\n",
    "    \n",
    "    return output\n",
    "\n",
    "def matrix_power_eigenvalue_precise(A, n, precision=20):\n",
    "    #Adjust precision\n",
    "    mp.dps = precision\n",
    "    \n",
    "    \n",
    "    ## Use in-built hi-precision function:\n",
    "    #output =  np.array(mp.powm(A, n).tolist(), dtype=complex)\n",
    "    output =  mp.powm(A, n)\n",
    "   \n",
    "    return output\n",
    "\n",
    "# The old function\n",
    "def matrix_power_eigenvalue_old(A, n):\n",
    "   \n",
    "    \n",
    "    eigenvalues, eigenvectors = np.linalg.eig(A)\n",
    "    D = np.diag(eigenvalues**n)\n",
    "    print(D)\n",
    "    output = fp.matrix( eigenvectors @ D @ np.linalg.inv(eigenvectors))\n",
    "    \n",
    "    \n",
    "    return output"
   ]
  },
  {
   "cell_type": "markdown",
   "id": "23adf0a1-b723-475f-b436-639aa560b74f",
   "metadata": {},
   "source": [
    "### Simulation Functions <a name=\"simulation\"></a>"
   ]
  },
  {
   "cell_type": "code",
   "execution_count": 4,
   "id": "cf6b1937-766a-4e00-8175-c4877e2bd08a",
   "metadata": {},
   "outputs": [],
   "source": [
    "# Given: a positive integer, nqubits, and a list of n floats, hlist\n",
    "# Generates the 1D Heisenberg chain Hamiltonian specified in the introduction.\n",
    "def heisenbergH(nqubits, hlist):\n",
    "    H = sigma_dot_sigma(0,1,nqubits) + hlist[0]*sparse_pauli({0:'Z'}, nqubits)\n",
    "    for j in range(1, nqubits):\n",
    "        H += sigma_dot_sigma(j, (j+1)%nqubits, nqubits) + hlist[j]*sparse_pauli({j:'Z'}, nqubits)\n",
    "    return H\n",
    "\n",
    "# Given a square matrix H and float T\n",
    "# Returns the exact time evolution operator e^{-i H T} \n",
    "def Uexact(H, T):\n",
    "    return sla.expm(-1.j*H*T)\n",
    "\n",
    "## Returns the matrix with high precision exponentiation.\n",
    "def Uexact_precise(H, T):\n",
    "    \n",
    "    #Adjust precision\n",
    "    mp.dps = 20\n",
    "    \n",
    "    Uexact = mp.expm( -1.j*H*T , method='taylor')\n",
    "    \n",
    "    \n",
    "    ## Use in-built hi-precision function:\n",
    "    output =  np.array(Uexact.tolist(), dtype=complex)\n",
    "    \n",
    "    return output\n",
    "\n",
    "\n",
    "# Computes a single time step of first or second order Trotter\n",
    "# Terms in Hterms are applied to the state in increasing index (0,1,...,m)\n",
    "def Utrot_short(Hterms, t, order = 1):\n",
    "    m = len(Hterms) # number of terms\n",
    "    result = sla.expm(-1.j*Hterms[m-1]*t)\n",
    "    if order == 1:  \n",
    "        for k in range(m-2,-1,-1):\n",
    "            result = result @ sla.expm(-1.j*Hterms[k]*t)\n",
    "    \n",
    "    elif order == 2: \n",
    "        for k in range(m-2, -1, -1):\n",
    "            result = sla.expm(-1.j*Hterms[k]*t/2) @ result @ sla.expm(-1.j*Hterms[k]*t/2)\n",
    "    else:\n",
    "        raise ValueError(\"Not a valid order of Trotter formula: must be 1 or 2\")\n",
    "    return result\n",
    "\n",
    "# Computes a single time step of first or second order Trotter\n",
    "# Terms in Hterms are applied to the state in increasing index (0,1,...,m)\n",
    "def Utrot_short_precise(Hterms, t, order = 1, precision =20):\n",
    "    \n",
    "    #Adjust precision\n",
    "    mp.dps = precision\n",
    "    \n",
    "    m = len(Hterms) # number of terms\n",
    "    result = mp.expm(-1.j*Hterms[m-1]*t)\n",
    "    if order == 1:  \n",
    "        for k in range(m-2,-1,-1):\n",
    "            result = result @ mp.expm(-1.j*Hterms[k]*t)\n",
    "    \n",
    "    elif order == 2: \n",
    "        for k in range(m-2, -1, -1):\n",
    "            result = mp.expm(-1.j*Hterms[k]*t/2) @ result @ mp.expm(-1.j*Hterms[k]*t/2)\n",
    "    else:\n",
    "        raise ValueError(\"Not a valid order of Trotter formula: must be 1 or 2\")\n",
    "    return result\n",
    "    \n",
    "# Given: a list Hterms of square matrices of same dimension, float T, a (possibly noninteger) number of steps, and order =1,2\n",
    "# Returns a Trotter evolution of given order and step number, for time T\n",
    "def Utrot_long(Hterms, T, steps, order = 1):\n",
    "    single_step = Utrot_short(Hterms, T/steps, order)\n",
    "    \n",
    "    integer_steps = int( np.floor(steps) )\n",
    "    fractional_step = steps - integer_steps\n",
    "    \n",
    "    integer_step_evolve = matrix_power_eigenvalue(single_step, integer_steps)\n",
    "    fractional_step_evolve = sla.fractional_matrix_power(single_step, fractional_step)\n",
    "    \n",
    "    total_evolution = integer_step_evolve @ fractional_step_evolve \n",
    "    \n",
    "    return total_evolution\n",
    "\n",
    "## Above, but high precision\n",
    "def Utrot_long_precise(Hterms, T, steps, order = 1, precision =20):\n",
    "    \n",
    "    #Adjust precision\n",
    "    mp.dps = precision\n",
    "    \n",
    "    \n",
    "    single_step = Utrot_short_precise(Hterms, T/steps, order)\n",
    "    \n",
    "    step_evolve = matrix_power_eigenvalue(single_step, steps)\n",
    "    #fractional_step_evolve = sla.fractional_matrix_power(single_step, fractional_step)\n",
    "    \n",
    "    total_evolution = step_evolve \n",
    "    \n",
    "    return total_evolution"
   ]
  },
  {
   "cell_type": "markdown",
   "id": "29c76831-c8d2-4e7e-9186-efb1abff757c",
   "metadata": {},
   "source": [
    "# Local Observable and Expectation Value Functions <a name=\"observable\"></a>"
   ]
  },
  {
   "cell_type": "code",
   "execution_count": 388,
   "id": "d07226d1-c87a-4db6-89cc-9932ca0ba854",
   "metadata": {},
   "outputs": [],
   "source": [
    "## Define a Local Observable:\n",
    "\n",
    "## Computes  Hermitian observable, specified by Pauli strings. Input is a list of dictionaries: nonidentities encoded as dictionary\n",
    "## of the form {k:'P', ..., } where k is the integer location and P is a pauli. Pauli strings are then input as list.\n",
    "# Example:\n",
    "# Input: [{0: 'X', 3:'Z', 5:'X'}, {1: 'X'}], 6\n",
    "# Return: X\\ox I \\ox  Z \\ox I \\ox I \\ox X + I\\ox X \\ox  I \\ox I \\ox I \\ox I\n",
    "def intialise_observable(List_Pauli_strings, nqubits):\n",
    "\n",
    "    local_observable = 0\n",
    "    for k in range(len(List_Pauli_strings)):\n",
    "        local_observable +=  sparse_pauli( List_Pauli_strings[k], nqubits )\n",
    "    \n",
    "    return local_observable\n",
    "\n",
    "## Take expectation value of 'observable' with respect to to 'state'\n",
    "# Example:\n",
    "# Input: sparse_bitstring([0], 1), observable([{0: 'Z'}], 1) \n",
    "# Output: -1\n",
    "def expectation_value(state, observable):\n",
    "    \n",
    "    normalisation =   np.vdot(state, state )  \n",
    "    # Throw an exception if the state is not normalised.\n",
    "    if (normalisation -1) > 0.00001:\n",
    "        raise ValueError(\"State is not normalised\")\n",
    "    \n",
    "    # Calculate the expectation of the state. Use vdot to get complex conjugate.\n",
    "    expectation = np.vdot(state, observable.dot(state) )\n",
    "    \n",
    "    # Throw an exception if there is a significant imaginary part to the expectation value.\n",
    "    if np.abs(expectation.imag) > 0.00001:\n",
    "        raise ValueError(\"Expectation value should be entirely real\")\n",
    "        \n",
    "    # Return only the real part of the expectation value (imaginary part should be zero).\n",
    "    return np.real(expectation)\n",
    "\n",
    "## Finds the expectation value with respect to the Trotterized time evolution. Define the function in terms of s = 1/steps.\n",
    "# Example: \n",
    "# Input: [Even, Odd, Potential], sparse_bitstring([0,1], 2), 10, 0.01, observable([{0: 'Z'}], 2) \n",
    "# Output: -1 + 0.j\n",
    "def Trotterized_Expectation(Hterms, initial_state, time, s, observable, order = 1):\n",
    "    \n",
    "    steps = 1/s\n",
    "    \n",
    "    # Calculate the Trotterized time-evolution operator and apply to the initial state.\n",
    "    Trotterized_evolution_operator = Utrot_long(Hterms, time, steps, order)\n",
    "    time_evolved_state = Trotterized_evolution_operator @ initial_state\n",
    "    \n",
    "    return expectation_value(time_evolved_state, observable)\n",
    "\n",
    "## High Precision Version of above.\n",
    "def Trotterized_Expectation_precise(Hterms, initial_state, time, s, observable, order = 1):\n",
    "    \n",
    "    steps = 1/s\n",
    "    \n",
    "    # Calculate the Trotterized time-evolution operator and apply to the initial state.\n",
    "    Trotterized_evolution_operator = Utrot_long_precise(Hterms, time, steps, order)\n",
    "    time_evolved_state = Trotterized_evolution_operator @ initial_state\n",
    "    \n",
    "    return expectation_value(time_evolved_state, observable)\n",
    "    \n",
    "## Computes the time-evolved expectation value from the *exact* evolution.  \n",
    "# Example: \n",
    "# Input: heisenbergH(nqubits, hlist), sparse_bitstring([0,1], 2), 10, observable([{0: 'Z'}], 2) \n",
    "# Output: -1 + 0.j\n",
    "def Exact_Expectation(Hamiltonian, initial_state, time, observable):\n",
    "    \n",
    "    # Calculate the exact evolution operator.\n",
    "    evolution_operator = Uexact(Hamiltonian, time)\n",
    "    # Apply the exact evolution to the initial state.\n",
    "    time_evolved_state = evolution_operator @ initial_state\n",
    "    \n",
    "    return expectation_value(time_evolved_state, observable)\n",
    "\n",
    "\n",
    "## Precise version of the above.\n",
    "def Exact_Expectation_Precise(Hamiltonian, initial_state, time, observable):\n",
    "    \n",
    "    # Calculate the exact evolution operator.\n",
    "    evolution_operator = Uexact_precise(Hamiltonian, time)\n",
    "    # Apply the exact evolution to the initial state.\n",
    "    time_evolved_state = evolution_operator @ initial_state\n",
    "    \n",
    "    return expectation_value(time_evolved_state, observable)\n",
    "\n",
    "\n",
    "## Computes the magnetisation as a matrix.\n",
    "# Example:\n",
    "# Input: 5\n",
    "# Output: (1/5)\\sum_{i=1}^5 Z_i\n",
    "def Magnetisation(nqubits):\n",
    "    \n",
    "    magnetisation_list = []\n",
    "    \n",
    "    # For each qubit we want to measure Z on that qubit and then add them together. Generate the Pauli string\n",
    "    # representing this operator.\n",
    "    for k in range(nqubits):\n",
    "        magnetisation_list.append( { k : 'Z'} )\n",
    "        \n",
    "    # Calculate the matrix form of the local observable.\n",
    "    magnetisation_matrix = (1/nqubits)*observable(magnetisation_list, nqubits)\n",
    "    \n",
    "    return magnetisation_matrix"
   ]
  },
  {
   "cell_type": "markdown",
   "id": "d2c51716-b5ea-436b-ae36-4f191b633481",
   "metadata": {},
   "source": [
    "# Hamiltonian Input from OpenFermion <a name=\"openfermion\"></a>"
   ]
  },
  {
   "cell_type": "code",
   "execution_count": 6,
   "id": "a9a30073-b517-4929-981b-3d887b9f8c07",
   "metadata": {},
   "outputs": [],
   "source": [
    "### This takes the values stored without going through OpenFermion\n",
    "\n",
    "#H2\n",
    "H2_operator = [['-0.16733398905695251', ''], ['-0.046156695889015324', 'X0 X1 Y2 Y3'], ['0.046156695889015324', 'X0 Y1 Y2 X3'], ['0.046156695889015324', 'Y0 X1 X2 Y3'], ['-0.046156695889015324', 'Y0 Y1 X2 X3'], ['0.16251648748871642', 'Z0'], ['0.16583253721590402', 'Z0 Z1'], ['0.11720364720195847', 'Z0 Z2'], ['0.1633603430909738', 'Z0 Z3'], ['0.16251648748871642', 'Z1'], ['0.1633603430909738', 'Z1 Z2'], ['0.11720364720195847', 'Z1 Z3'], ['-0.19744293699755816', 'Z2'], ['0.17169788392286725', 'Z2 Z3'], ['-0.19744293699755816', 'Z3']]\n",
    "\n",
    "#LiH\n",
    "LiH_operator = [['-7.49894690201071', ''], ['-0.0029329964409502266', 'X0 X1 Y2 Y3'], ['0.0029329964409502266', 'X0 Y1 Y2 X3'], ['0.01291078027311749', 'X0 Z1 X2'], ['-0.0013743761078958677', 'X0 Z1 X2 Z3'], ['0.011536413200774975', 'X0 X2'], ['0.0029329964409502266', 'Y0 X1 X2 Y3'], ['-0.0029329964409502266', 'Y0 Y1 X2 X3'], ['0.01291078027311749', 'Y0 Z1 Y2'], ['-0.0013743761078958677', 'Y0 Z1 Y2 Z3'], ['0.011536413200774975', 'Y0 Y2'], ['0.16199475388004184', 'Z0'], ['0.011536413200774975', 'Z0 X1 Z2 X3'], ['0.011536413200774975', 'Z0 Y1 Z2 Y3'], ['0.12444770133137588', 'Z0 Z1'], ['0.054130445793298836', 'Z0 Z2'], ['0.05706344223424907', 'Z0 Z3'], ['0.012910780273117487', 'X1 Z2 X3'], ['-0.0013743761078958677', 'X1 X3'], ['0.012910780273117487', 'Y1 Z2 Y3'], ['-0.0013743761078958677', 'Y1 Y3'], ['0.16199475388004186', 'Z1'], ['0.05706344223424907', 'Z1 Z2'], ['0.054130445793298836', 'Z1 Z3'], ['-0.013243698330265966', 'Z2'], ['0.08479609543670981', 'Z2 Z3'], ['-0.013243698330265952', 'Z3']]"
   ]
  },
  {
   "cell_type": "code",
   "execution_count": 7,
   "id": "58c74cc7-6b59-4d1b-944e-de01883ae0c2",
   "metadata": {},
   "outputs": [],
   "source": [
    "## Functions for converting outputs of the Hamiltonian to the \n",
    "\n",
    "# Remove the identity terms to get only the non-trivial terms.\n",
    "def remove_identity(Hamiltonian):\n",
    "    reduced_Hamiltonian = Hamiltonian\n",
    "    for element in reduced_Hamiltonian:\n",
    "        if element[1]=='':\n",
    "            reduced_Hamiltonian.remove(element)\n",
    "\n",
    "    return reduced_Hamiltonian\n",
    "            \n",
    "# Convert the openfermion operator to our form.\n",
    "# Input: [['-0.5', 'X0 X1 Y2 Y3'], ['2', 'X0 Y1 Y2 X3']]\n",
    "# Output: [[-0.5, {0: 'X', 1: 'X', 2: 'Y', 3: 'Y'}], [2, {0: 'X', 1: 'Y', 2: 'Y', 3: 'X'}]]\n",
    "def openfermion_to_local_rep(of_Hamiltonian):\n",
    "    local_representation = []\n",
    "    for element in of_Hamiltonian:\n",
    "        coefficient     = float(element[0]) \n",
    "        element_strings = element[1].split(' ')\n",
    "        local_operator  = {}\n",
    "        for op_string in element_strings:\n",
    "            local_operator[int(op_string[1])]=op_string[0]\n",
    "\n",
    "        local_representation.append( [ coefficient, local_operator  ] )\n",
    "\n",
    "    return local_representation\n",
    "\n",
    "# Transforms into explicit matrix representation.\n",
    "# Takes input from openfermion_to_local_rep\n",
    "def local_matrix_representation(local_rep_Hamiltonian, nqubits):\n",
    "    matrix_representation = []\n",
    "    for element in local_rep_Hamiltonian:\n",
    "        matrix_representation.append( [element[0], sparse_pauli(element[1], nqubits)])\n",
    "\n",
    "    return matrix_representation\n",
    "\n",
    "# Generates the full explicit matrix of the Hamiltonian.\n",
    "def explicit_Hamiltonian_matrix(local_matrix_representation):\n",
    "    Hamiltonian_matrix = 0\n",
    "    for element in local_matrix_representation:\n",
    "        Hamiltonian_matrix += element[0]*element[1]\n",
    "\n",
    "    return Hamiltonian_matrix\n"
   ]
  },
  {
   "cell_type": "code",
   "execution_count": 8,
   "id": "461f56c5-fe5a-4185-9f7c-1b71386c5bbc",
   "metadata": {},
   "outputs": [],
   "source": [
    "## Tests\n",
    "test_op = remove_identity(H2_operator)\n",
    "\n",
    "new_rep = openfermion_to_local_rep(test_op)\n",
    "\n",
    "local_mat_rep = local_matrix_representation(new_rep, 4)\n",
    "\n",
    "Hamiltonian_matrix = explicit_Hamiltonian_matrix(local_mat_rep)\n",
    "#print(len(test_op))\n",
    "#print(Hamiltonian_matrix)"
   ]
  },
  {
   "cell_type": "markdown",
   "id": "40b2c59d-fc56-4d26-8bff-46bf52deb51d",
   "metadata": {},
   "source": [
    "# qDRIFT Implementation <a name=\"qDRIFT\"></a>"
   ]
  },
  {
   "cell_type": "code",
   "execution_count": 610,
   "id": "ba898ec5-06b9-4101-a39e-5b6003e54307",
   "metadata": {},
   "outputs": [],
   "source": [
    "import random\n",
    "\n",
    "## Takes a list of coefficients and terms and then sums them cummulatively.\n",
    "def cumulative_Hamiltonian_rep(local_rep_Hamiltonian):\n",
    "    running_total = 0\n",
    "    cumulative_representation = []\n",
    "    \n",
    "    for element in local_rep_Hamiltonian:\n",
    "        running_total += np.abs( element[0] )\n",
    "        cumulative_representation.append( [ running_total,  element[1] ] )\n",
    "\n",
    "    return cumulative_representation\n",
    "\n",
    "\n",
    "# Samples an index with probability proportional to weight.\n",
    "def sample_local_index(local_rep_Hamiltonian, no_samples):\n",
    "    \"\"\"\n",
    "    Samples an index from the array with a probability proportional to the absolute value of the number.\n",
    "\n",
    "    Parameters:\n",
    "        arr (list): List of numbers (can be positive or negative).\n",
    "\n",
    "    Returns:\n",
    "        int: Index of the sampled number.\n",
    "    \"\"\"\n",
    "    \n",
    "    # Compute the absolute values\n",
    "    abs_values = [abs(x[0]) for x in local_rep_Hamiltonian]\n",
    "    \n",
    "\n",
    "    # Compute the total sum of absolute values\n",
    "    total_abs = sum(abs_values)\n",
    "\n",
    "    if total_abs == 0:\n",
    "        raise ValueError(\"The sum of absolute values in the array must not be zero.\")\n",
    "\n",
    "    # Compute probabilities\n",
    "    probabilities = [value / total_abs for value in abs_values]\n",
    "\n",
    "    # Sample an index based on probabilities\n",
    "    sampled_index = random.choices(range(len(abs_values)), weights=probabilities, k=no_samples)\n",
    "\n",
    "    return sampled_index \n",
    "\n",
    "\n",
    "# Single shot calculation of expectation values.\n",
    "def qDRIFT_observable(local_rep_Hamiltonian, initial_state, observable, nqubits, time, no_timesteps, matrix_input = 0):\n",
    "\n",
    "    if matrix_input == 1:\n",
    "        local_mat_rep = local_rep_Hamiltonian\n",
    "    elif matrix_input ==0:\n",
    "        #local_mat_rep = local_rep_Hamiltonian \n",
    "        local_mat_rep = local_matrix_representation(local_rep_Hamiltonian, nqubits)\n",
    "               \n",
    "    temp = [abs(element[0]) for element in local_mat_rep]\n",
    "    lambda_param = sum(temp)\n",
    "    \n",
    "    # Now generate the corresponding terms.\n",
    "    list_of_indicies = sample_local_index(local_mat_rep, int(no_timesteps) )\n",
    "\n",
    "    state = initial_state\n",
    "    timestep = time/no_timesteps\n",
    "    \n",
    "    for index in list_of_indicies:\n",
    "        state = sla.expm(-(1j)*timestep*lambda_param*np.sign(local_mat_rep[index][0])*(local_mat_rep[index][1])) @ state\n",
    "\n",
    "    expectation = expectation_value(state, observable)\n",
    "\n",
    "    return expectation\n",
    "\n",
    "\n",
    "# Average the qDRIFT values over multiple runs.\n",
    "def qDRIFT_average(local_rep_Hamiltonian, initial_state, observable, nqubits, time, no_timesteps, shot_no, matrix_input = 0):\n",
    "    \"\"\"\n",
    "    Takes average over multiple qDRIFT runs.\n",
    "    \"\"\"\n",
    "    results_array = []\n",
    "    j = 0\n",
    "    while j<= shot_no:\n",
    "        results_array.append(qDRIFT_observable(local_rep_Hamiltonian, initial_state, observable, nqubits, time, no_timesteps, matrix_input = matrix_input))\n",
    "        j += 1\n",
    "\n",
    "    mean = sum(results_array)/len(results_array)\n",
    "\n",
    "    return mean\n",
    "\n",
    "    "
   ]
  },
  {
   "cell_type": "markdown",
   "id": "702c0054-79a4-4732-9226-6208848bded1",
   "metadata": {},
   "source": [
    "#### Short Test Case for qDRIFT"
   ]
  },
  {
   "cell_type": "code",
   "execution_count": 585,
   "id": "ac5eb6d3-a6e6-4602-82ab-f75732c1b257",
   "metadata": {},
   "outputs": [
    {
     "name": "stdout",
     "output_type": "stream",
     "text": [
      "avg: -0.0016808581142105116\n"
     ]
    }
   ],
   "source": [
    "### Implement H2 Time evolution.\n",
    "\n",
    "H2_operator  = remove_identity(H2_operator)\n",
    "H2_local_rep = openfermion_to_local_rep(H2_operator)\n",
    "\n",
    "\n",
    "cumulative_H2_Hamiltonian = cumulative_Hamiltonian_rep(H2_local_rep)\n",
    "lambda_param = cumulative_H2_Hamiltonian[-1][0]\n",
    "\n",
    "nqubits = 4\n",
    "time =0.5\n",
    "#observable = intialise_observable([{0: 'X', 2:'Z', 3:'Z'}, {1: 'X'}, {2:'Y'},{3:'Y'}, {3:'Z'}, {0:'Z', 1:'X'}, {0:'Z', 2:'Z'}], nqubits)\n",
    "observable = intialise_observable([{0:'Y', 1:'Y'}, {1:'Z'}, {2:'Y', 3:'Z'}, {3:'Z'}], nqubits)\n",
    "#state = (1/np.sqrt(2))*np.array(sparse_bitstring([nqubits//2], nqubits))+ (1/np.sqrt(2))*np.array(sparse_bitstring([1], nqubits))\n",
    "state = (1/np.sqrt(2))*np.array(sparse_bitstring([0,2], 4))+(1/np.sqrt(2))*np.array(sparse_bitstring([1,3], 4))\n",
    "#state  = np.array(sparse_bitstring([0,2], 4))\n",
    "epsilon = 0.03\n",
    "no_timesteps = np.ceil( 2*time**2*lambda_param**2/epsilon )\n",
    "\n",
    "\n",
    "#test_val = qDRIFT_observable(H2_local_rep , state, observable, nqubits, time, no_timesteps )\n",
    "\n",
    "test_avg = qDRIFT_average(H2_local_rep , state, observable, nqubits, time, no_timesteps, 50 )\n",
    "print(\"avg:\", test_avg)"
   ]
  },
  {
   "cell_type": "code",
   "execution_count": 586,
   "id": "56d34f39-2f6e-4e40-a610-23118cc90c44",
   "metadata": {},
   "outputs": [
    {
     "name": "stdout",
     "output_type": "stream",
     "text": [
      "Ideal value: 2.0816681711721685e-17\n"
     ]
    }
   ],
   "source": [
    "## True value from perfect evolution:\n",
    "#state = (1/np.sqrt(2))*np.array(sparse_bitstring([nqubits//2], nqubits))+ (1/np.sqrt(2))*np.array(sparse_bitstring([1], nqubits))\n",
    "#state = np.array(sparse_bitstring([0,2], 4))\n",
    "state = (1/np.sqrt(2))*np.array(sparse_bitstring([0,2], 4))+(1/np.sqrt(2))*np.array(sparse_bitstring([1,3], 4))\n",
    "full_H2_Hamiltonian = 0\n",
    "H2_list = local_matrix_representation(H2_local_rep, nqubits)\n",
    "for element in H2_list:\n",
    "    full_H2_Hamiltonian += element[0]*element[1]\n",
    "\n",
    "\n",
    "final_state = sla.expm(-(1j)*time*np.matrix(full_H2_Hamiltonian)) @ state\n",
    "perfect_val  = expectation_value(final_state, observable)\n",
    "\n",
    "print(\"Ideal value:\", perfect_val)"
   ]
  },
  {
   "cell_type": "code",
   "execution_count": 98,
   "id": "fed32214-d8f5-4b4e-b007-7463bd85f9de",
   "metadata": {},
   "outputs": [
    {
     "name": "stdout",
     "output_type": "stream",
     "text": [
      "Value from Trotterization: 4.812955589628132e-12\n"
     ]
    }
   ],
   "source": [
    "## Check against Trotterisation\n",
    "\n",
    "hterms = [ x[0]*x[1] for x in  local_mat_rep ]\n",
    "\n",
    "print(\"Value from Trotterization:\", Trotterized_Expectation(hterms, state, time, 1/no_timesteps, observable, order = 1))"
   ]
  },
  {
   "cell_type": "markdown",
   "id": "675faf7f-6d54-41bf-82ba-bd75055b2823",
   "metadata": {},
   "source": [
    "# qFLO Implementation <a name=\"qFLO\"></a>"
   ]
  },
  {
   "cell_type": "code",
   "execution_count": 608,
   "id": "3d2370cd-4964-4f2e-8441-f3b16f886f32",
   "metadata": {},
   "outputs": [],
   "source": [
    "### Here implement the qFLO procedure.    \n",
    "def richardson_points(order, s_min):\n",
    "    \n",
    "    #Generate the array of points we wish to use:\n",
    "    points_array = []\n",
    "    values_array = []\n",
    "    coefficient_array = []\n",
    "    estimate_array = []\n",
    "    estimate = 0\n",
    "    x_array = []\n",
    "    y_array = []\n",
    "    R_scale = np.sqrt(8)*order/np.pi\n",
    "\n",
    "    for j in range( order):\n",
    "        counter = j+1\n",
    "        #Generate points to be sampled from.\n",
    "        ## Define parameters used for rescaling:\n",
    "        x0 = (np.sin(np.pi*(2*order-1)/(4*2*order) ))**2\n",
    "        y0 = np.ceil( np.ceil(  R_scale/np.sqrt(x0))**2 )\n",
    "    \n",
    "        # Calculate the points to sample from.\n",
    "        x_array.append( (np.sin(np.pi*(2*counter-1)/(4*2*order) ))**2 )\n",
    "        y_array.append( np.ceil( (1/s_min)*np.ceil(  R_scale/np.sqrt(x_array[j]) )**2 /y0  )) \n",
    "        print(x_array, \"Sampled points\",y_array)\n",
    "        #Generate expectation values at those points.\n",
    "\n",
    "    return y_array\n",
    "\n",
    "def richardson_estimate(order, s_min, Hamiltonian_local_rep, initial_state, time, observable, nqubits , shot_no, circuit_depth_flag= 0, matrix_flag  = 0):\n",
    "    '''\n",
    "    Construct a Richardson estimator using the terms starting from s_min. \n",
    "    '''\n",
    "    #Generate the array of points we wish to use:\n",
    "    points_array = []\n",
    "    values_array = []\n",
    "    coefficient_array = []\n",
    "    estimate_array = []\n",
    "    estimate = 0\n",
    "    x_array = []\n",
    "    y_array = []\n",
    "    R_scale = np.sqrt(8)*order/np.pi\n",
    "\n",
    "    # Evaluate function at generated points\n",
    "    y_array = richardson_points(order, s_min)\n",
    "    for no_timesteps in y_array:\n",
    "        #print(\"Number timesteps:\", no_timesteps)\n",
    "        points_array.append(no_timesteps)\n",
    "        if matrix_flag == 1:\n",
    "            qDRIFT_val   = qDRIFT_average( Hamiltonian_local_rep, initial_state, observable, nqubits, time, no_timesteps, shot_no, matrix_input = 1 )\n",
    "        elif matrix_flag == 0:\n",
    "            qDRIFT_val   = qDRIFT_average( Hamiltonian_local_rep, initial_state, observable, nqubits, time, no_timesteps, shot_no, matrix_input = 0 )\n",
    "        print(\"qDRIFT value:\",qDRIFT_val)\n",
    "        values_array.append( qDRIFT_val )\n",
    "        maximum_circuit_depth = max(points_array)\n",
    "    \n",
    "    #Now generate the coefficients (b_j)\n",
    "    coefficient_array = Richardson_coefficient_finder(points_array, order)\n",
    "    #print(\"Coeff array\", coefficient_array)\n",
    "    print(\"Depth array\",points_array)\n",
    "    '''\n",
    "    #Now generate the coefficients (b_j).\n",
    "    for j in range(order):\n",
    "        counter = j+1\n",
    "        coefficient = 1\n",
    "        for k in range(order):\n",
    "            if k != j:\n",
    "                print(y_array[k],y_array[j])\n",
    "                coefficient = coefficient*(1/(1-y_array[k]/y_array[j]))\n",
    "        coefficient_array.append( coefficient )\n",
    "    '''\n",
    "\n",
    "    # Compute the Richardson estimator.\n",
    "    for j in range(order):\n",
    "        estimate += coefficient_array[j]*values_array[j]\n",
    "        estimate_array.append(estimate)\n",
    "\n",
    "    print(\"coefficient array:\", coefficient_array)\n",
    "    \n",
    "    if circuit_depth_flag == 0:\n",
    "        return estimate\n",
    "\n",
    "    if circuit_depth_flag == 1:\n",
    "        return [estimate, maximum_circuit_depth]\n",
    "\n",
    "\n",
    "# Given a list of sample points, returns the Vandermode matrix.\n",
    "def Vandermode_generator(points_list, order):\n",
    "\n",
    "    Vandermode_matrix = []\n",
    "\n",
    "    inverse_list = [1/x for x in points_list]\n",
    "    \n",
    "    # Now fill in the samples.\n",
    "    for j in range(order):\n",
    "        Vandermode_matrix.append([])\n",
    "        [Vandermode_matrix[j].append(x**(j)) for x in inverse_list ]\n",
    "\n",
    "    Vandermode_matrix = np.array( Vandermode_matrix )\n",
    "    return Vandermode_matrix\n",
    "\n",
    "\n",
    "# Find Richardson extrapolation coefficients.\n",
    "def Richardson_coefficient_finder(points_list, order):\n",
    "    \n",
    "    # Generate the Vandermode matrix.\n",
    "    V = Vandermode_generator(points_list, order)\n",
    "\n",
    "    # Now solve for vector of a's.\n",
    "    single_element    = [0]*order\n",
    "    single_element[0] = 1\n",
    "    single_element    = np.array(single_element)\n",
    "\n",
    "    a_array = np.linalg.inv(V) @ single_element\n",
    "\n",
    "    return a_array"
   ]
  },
  {
   "cell_type": "markdown",
   "id": "3e9873a2-8037-460f-b11a-de41edea1c31",
   "metadata": {},
   "source": [
    "## Alternative Implementation using code from ChatGPT"
   ]
  },
  {
   "cell_type": "code",
   "execution_count": 342,
   "id": "1dcae21a-739c-4765-a987-00b23a6d503e",
   "metadata": {},
   "outputs": [],
   "source": [
    "## From chatgpt\n",
    "\n",
    "def richardson_extrapolation_gpt(x_values, f_values):\n",
    "    \"\"\"\n",
    "    Estimate the value of f(0) using Richardson extrapolation.\n",
    "\n",
    "    Parameters:\n",
    "        x_values (list or numpy array): Non-zero x values.\n",
    "        f_values (list or numpy array): Corresponding evaluations of f(x).\n",
    "\n",
    "    Returns:\n",
    "        float: The estimated value of f(0).\n",
    "    \"\"\"\n",
    "  \n",
    "    \n",
    "    if len(x_values) != len(f_values):\n",
    "        raise ValueError(\"x_values and f_values must have the same length.\")\n",
    "\n",
    "    n = len(x_values)\n",
    "    if n < 2:\n",
    "        raise ValueError(\"At least two points are required for Richardson extrapolation.\")\n",
    "\n",
    "    # Sort x_values and f_values by the absolute value of x_values\n",
    "    indices = np.argsort(np.abs(x_values))\n",
    "    x_values = np.array(x_values)[indices]\n",
    "    f_values = np.array(f_values)[indices]\n",
    "\n",
    "    # Create a matrix for extrapolation\n",
    "    table = np.zeros((n, n))\n",
    "    table[:, 0] = f_values\n",
    "\n",
    "    for j in range(1, n):\n",
    "        for i in range(n - j):\n",
    "            factor = (x_values[i + j] / x_values[i])**(2 * j)\n",
    "            table[i, j] = (factor * table[i + 1, j - 1] - table[i, j - 1]) / (factor - 1)\n",
    "\n",
    "    # The top-left corner of the table is the extrapolated value for f(0)\n",
    "    return table[0, n - 1]\n",
    "\n",
    "\n",
    "## Generates the samples\n",
    "def gpt_estimator(order, s_min, Hamiltonian_local_rep, initial_state, time, observable, nqubits , shot_no, circuit_depth_flag= 0):\n",
    "\n",
    "    #Generate the array of points we wish to use:\n",
    "    points_array = []\n",
    "    values_array = []\n",
    "    coefficient_array = []\n",
    "    estimate_array = []\n",
    "    estimate = 0\n",
    "    x_array = []\n",
    "    y_array = []\n",
    "    R_scale = np.sqrt(8)*order/np.pi\n",
    "\n",
    "    # Evaluate function at generated points\n",
    "    y_array = richardson_points(order, s_min)\n",
    "    for no_timesteps in y_array:\n",
    "        print(\"Number timesteps:\", no_timesteps)\n",
    "        points_array.append(no_timesteps)\n",
    "        qDRIFT_val   = qDRIFT_average( Hamiltonian_local_rep, initial_state, observable, nqubits, time, no_timesteps, shot_no )\n",
    "        print(\"qDRIFT value:\",qDRIFT_val)\n",
    "        values_array.append( qDRIFT_val )\n",
    "        maximum_circuit_depth = max(points_array)\n",
    "\n",
    "    x_values = y_array\n",
    "    f_values = values_array\n",
    "\n",
    "    estimator = richardson_extrapolation_gpt(x_values, f_values)\n",
    "    return estimator\n",
    "    "
   ]
  },
  {
   "cell_type": "code",
   "execution_count": 587,
   "id": "529fe21a-a633-42e0-af9e-586e3e80baae",
   "metadata": {},
   "outputs": [
    {
     "name": "stdout",
     "output_type": "stream",
     "text": [
      "[0.01703708685546585] Sampled points [971.0]\n",
      "[0.01703708685546585, 0.14644660940672624] Sampled points [971.0, 141.0]\n",
      "[0.01703708685546585, 0.14644660940672624, 0.37059047744873963] Sampled points [971.0, 141.0, 55.0]\n",
      "coefficient array: [ 1.24012338 -0.2785234   0.03840002]\n",
      "coefficient array: [ 1.24012338 -0.2785234   0.03840002]\n",
      "coefficient array: [ 1.24012338 -0.2785234   0.03840002]\n",
      "qFLO Estimate: -0.0004963381839750306\n"
     ]
    }
   ],
   "source": [
    "# Test Richardson Extrapolation with H2 Hamiltonian.\n",
    "no_timesteps = np.ceil( 2*time**2*lambda_param**2/epsilon )\n",
    "s_min   = 10/no_timesteps\n",
    "shot_no = 70\n",
    "order = 3\n",
    "#state = (1/np.sqrt(2))*np.array(sparse_bitstring([nqubits//2], nqubits))+ (1/np.sqrt(2))*np.array(sparse_bitstring([1], nqubits))\n",
    "state = (1/np.sqrt(2))*np.array(sparse_bitstring([0,2], 4))+(1/np.sqrt(2))*np.array(sparse_bitstring([1,3], 4))\n",
    "\n",
    "\n",
    "qFLO_estimate = richardson_estimate(order, s_min, H2_local_rep, state, time, observable, nqubits , shot_no)\n",
    "print(\"qFLO Estimate:\", qFLO_estimate)"
   ]
  },
  {
   "cell_type": "markdown",
   "id": "6da146c7-0c5d-49c0-9fbc-ef4b369a6f45",
   "metadata": {},
   "source": [
    "## qFLO Example Usage: LiH <a name=\"example\"></a>"
   ]
  },
  {
   "cell_type": "code",
   "execution_count": 539,
   "id": "acc10407-08f3-457b-bf9c-65d7870f9aea",
   "metadata": {},
   "outputs": [
    {
     "name": "stdout",
     "output_type": "stream",
     "text": [
      "Ideal value: 4.163336342344337e-17\n"
     ]
    }
   ],
   "source": [
    "# Here we provide an example with the correct parameters to evaluate performance.\n",
    "\n",
    "LiH_operator  = remove_identity(LiH_operator)\n",
    "LiH_local_rep = openfermion_to_local_rep(LiH_operator)\n",
    "cumulative_LiH_Hamiltonian = cumulative_Hamiltonian_rep(LiH_local_rep)\n",
    "lambda_param = cumulative_LiH_Hamiltonian[-1][0]\n",
    "\n",
    "## Parameters to use.\n",
    "qubits = 4\n",
    "epsilon = 0.05\n",
    "time    = 1\n",
    "shot_no = 200\n",
    "#shot_no = 1/epsilon**2\n",
    "s_min   = 10/np.ceil( 2*time**2*lambda_param**2/epsilon )\n",
    "observable = intialise_observable([{0: 'X', 2:'Z', 3:'Z'}, {1: 'X'}, {2:'X'},{3:'X'}, {3:'Z'}, {0:'Z', 1:'X'}], nqubits)\n",
    "#state   = (1/np.sqrt(2))*np.array(sparse_bitstring([nqubits//2], nqubits))+ (1/np.sqrt(2))*np.array(sparse_bitstring([1], nqubits))\n",
    "state = (1/np.sqrt(2))*np.array(sparse_bitstring([0,2], 4))+(1/np.sqrt(2))*np.array(sparse_bitstring([1,3], 4))\n",
    "max_order = 3\n",
    "\n",
    "\n",
    "\n",
    "## Compute ideal expectation value:\n",
    "state   = (1/np.sqrt(2))*np.array(sparse_bitstring([nqubits//2], nqubits))+ (1/np.sqrt(2))*np.array(sparse_bitstring([1], nqubits))\n",
    "state = (1/np.sqrt(2))*np.array(sparse_bitstring([0,2], 4))+(1/np.sqrt(2))*np.array(sparse_bitstring([1,3], 4))\n",
    "full_LiH_Hamiltonian = 0\n",
    "for element in H2_list:\n",
    "    full_LiH_Hamiltonian += element[0]*element[1]\n",
    "\n",
    "final_state  = sla.expm(-(1j)*time*np.matrix(full_LiH_Hamiltonian)) @ state\n",
    "perfect_val  = expectation_value(final_state, observable)\n",
    "\n",
    "print(\"Ideal value:\", perfect_val)"
   ]
  },
  {
   "cell_type": "code",
   "execution_count": 594,
   "id": "6dfa666f-6042-4fb1-9f38-73aa1328042a",
   "metadata": {},
   "outputs": [
    {
     "name": "stdout",
     "output_type": "stream",
     "text": [
      "[0.14644660940672624] Sampled points [55.0]\n",
      "qDRIFT value: 3.119388847522246e-05\n",
      "Depth array [55.0]\n",
      "coefficient array: [1.]\n",
      "qFLO Estimate 3.119388847522246e-05\n",
      "[0.03806023374435662] Sampled points [344.0]\n",
      "[0.03806023374435662, 0.3086582838174551] Sampled points [344.0, 55.0]\n",
      "qDRIFT value: 6.247929352592489e-05\n",
      "qDRIFT value: 0.00015175381763628867\n",
      "Depth array [344.0, 55.0]\n",
      "coefficient array: [ 1.19031142 -0.19031142]\n",
      "qFLO Estimate 4.5489332190042514e-05\n",
      "[0.01703708685546585] Sampled points [971.0]\n",
      "[0.01703708685546585, 0.14644660940672624] Sampled points [971.0, 141.0]\n",
      "[0.01703708685546585, 0.14644660940672624, 0.37059047744873963] Sampled points [971.0, 141.0, 55.0]\n",
      "qDRIFT value: 5.239527452530886e-06\n",
      "qDRIFT value: -9.319328342113872e-05\n",
      "qDRIFT value: -7.381536411799847e-05\n",
      "Depth array [971.0, 141.0, 55.0]\n",
      "coefficient array: [ 1.24012338 -0.2785234   0.03840002]\n",
      "qFLO Estimate 2.9619658763982345e-05\n"
     ]
    }
   ],
   "source": [
    "error_array = []\n",
    "circuit_depth_array = []\n",
    "\n",
    "for order in range(1,max_order+1):\n",
    "    [LiH_qFLO_estimate, max_circuit_depth] = richardson_estimate(order, s_min, LiH_local_rep, state, time, observable, nqubits , shot_no, circuit_depth_flag=1)\n",
    "    print(\"qFLO Estimate\", LiH_qFLO_estimate)\n",
    "    circuit_depth_array.append(max_circuit_depth)\n",
    "    error = abs(perfect_val - LiH_qFLO_estimate)\n",
    "    error_array.append(error)"
   ]
  },
  {
   "cell_type": "code",
   "execution_count": 590,
   "id": "4887f98b-c392-48d3-90ab-d8afed35d590",
   "metadata": {},
   "outputs": [
    {
     "data": {
      "image/png": "[encoded data removed]",
      "text/plain": [
       "<Figure size 640x480 with 1 Axes>"
      ]
     },
     "metadata": {},
     "output_type": "display_data"
    },
    {
     "data": {
      "image/png": "[encoded data removed]",
      "text/plain": [
       "<Figure size 640x480 with 1 Axes>"
      ]
     },
     "metadata": {},
     "output_type": "display_data"
    }
   ],
   "source": [
    "import matplotlib.pyplot as plt\n",
    "\n",
    "fig = plt.plot(circuit_depth_array, error_array)  # Plot the chart\n",
    "fig = plt.figure()\n",
    "ax = fig.add_subplot(2,1,1)\n",
    "\n",
    "line, = ax.semilogy(circuit_depth_array,error_array, color='blue', lw=2)\n"
   ]
  },
  {
   "cell_type": "code",
   "execution_count": 372,
   "id": "68f01df1-55f3-4913-8ec2-5a0bea465299",
   "metadata": {},
   "outputs": [
    {
     "name": "stdout",
     "output_type": "stream",
     "text": [
      "0.9619397662556434 53.0 0.9619397662556434 53.0 4.0\n"
     ]
    }
   ],
   "source": [
    "counter = 4\n",
    "order = 4\n",
    "R_scale = np.sqrt(8)*order/np.pi\n",
    "x0 = (np.sin(np.pi*(2*order-1)/(4*order) ))**2\n",
    "y0 = np.ceil( (1/s_min)*np.ceil(  R_scale/x0)**2 )\n",
    "x= (np.sin(np.pi*(2*counter-1)/(4*order) ))**2\n",
    "y = np.ceil( (1/s_min)*np.ceil(  R_scale/x)**2 ) \n",
    "\n",
    "y_correct = np.ceil( (1/s_min)*np.ceil( np.ceil(  R_scale/x)**2 )/np.ceil( np.ceil(  R_scale/x0)**2 ) )\n",
    "\n",
    "print(x,y, x0, y0, y_correct) ## Smaller counter values give larger numbers of steps."
   ]
  },
  {
   "cell_type": "code",
   "execution_count": 198,
   "id": "7bb265d1-501d-4f88-9ca7-6c7589dfca22",
   "metadata": {},
   "outputs": [
    {
     "data": {
      "text/plain": [
       "[0.09916416691917962, 0.004802578630002996, 0.0025557835151219788]"
      ]
     },
     "execution_count": 198,
     "metadata": {},
     "output_type": "execute_result"
    }
   ],
   "source": [
    "error_array"
   ]
  },
  {
   "cell_type": "code",
   "execution_count": 199,
   "id": "af25912d-3fd3-4132-bbaf-40a9d7be38e2",
   "metadata": {},
   "outputs": [],
   "source": [
    "### Does not appear to give better results..."
   ]
  },
  {
   "cell_type": "code",
   "execution_count": 205,
   "id": "69d077b5-9bc0-4792-8a3f-a252ae751772",
   "metadata": {},
   "outputs": [
    {
     "data": {
      "text/plain": [
       "33.0"
      ]
     },
     "execution_count": 205,
     "metadata": {},
     "output_type": "execute_result"
    }
   ],
   "source": [
    "np.ceil( 2*time**2*lambda_param**2/epsilon )"
   ]
  },
  {
   "cell_type": "code",
   "execution_count": 207,
   "id": "fe7f9a18-7e9b-47e8-9068-313de15d46d3",
   "metadata": {},
   "outputs": [
    {
     "data": {
      "text/plain": [
       "[1.0]"
      ]
     },
     "execution_count": 207,
     "metadata": {},
     "output_type": "execute_result"
    }
   ],
   "source": [
    "circuit_depth_array ## Something has gone wrong between these two numbesr. The minimum number of steps should be s_min"
   ]
  },
  {
   "cell_type": "code",
   "execution_count": 211,
   "id": "e7c47c47-7683-4262-9fa9-04d3b79b1471",
   "metadata": {},
   "outputs": [
    {
     "name": "stdout",
     "output_type": "stream",
     "text": [
      "33.0\n"
     ]
    }
   ],
   "source": [
    "\n",
    "\n",
    "\n",
    "x0 = (np.sin(np.pi*(2*order-1)/(4*order) ))**2\n",
    "y0 =  np.ceil( np.ceil(  R_scale/x0)**2 )\n",
    "\n",
    "# Calculate the points to sample from.\n",
    "x=(np.sin(np.pi*(2*counter-1)/(4*order) ))**2 \n",
    "y= np.ceil( (1/s_min)*np.ceil( np.ceil(  R_scale/x)**2 )/y0  ) \n",
    "\n",
    "print(y)"
   ]
  },
  {
   "cell_type": "code",
   "execution_count": 227,
   "id": "35541f57-be68-42db-8316-eccee3239b38",
   "metadata": {},
   "outputs": [
    {
     "data": {
      "text/plain": [
       "[0.0032639971573619198, 0.0026811819855505625, 0.0026235616575915888]"
      ]
     },
     "execution_count": 227,
     "metadata": {},
     "output_type": "execute_result"
    }
   ],
   "source": [
    "error_array"
   ]
  },
  {
   "cell_type": "code",
   "execution_count": 245,
   "id": "a063a711-4f16-4701-99e9-a22cba593313",
   "metadata": {},
   "outputs": [],
   "source": [
    "## The qFLO algorithm seems to be failing. Try to use the explicit Vandermode matrix inversion from the Trotterised case."
   ]
  },
  {
   "cell_type": "markdown",
   "id": "394027be-9f23-4375-8f55-d32265fe4e3e",
   "metadata": {},
   "source": [
    "## Defining Heisenberg Hamiltonian"
   ]
  },
  {
   "cell_type": "code",
   "execution_count": 381,
   "id": "1e9e3378-5f27-44b6-aeae-8375646447d4",
   "metadata": {},
   "outputs": [],
   "source": [
    "## Define the even, odd and potential terms for an arbitrary nunber of qubits and a given hlist.\n",
    "\n",
    "def Even_Heisenberg_Terms(nqubits):\n",
    "    Even = sigma_dot_sigma(0, 1, nqubits)\n",
    "    for j in range(2,nqubits,2):\n",
    "        Even += sigma_dot_sigma(j, (j+1)%nqubits, nqubits)\n",
    "        \n",
    "    return Even\n",
    "\n",
    "def Odd_Heisenberg_Terms(nqubits):\n",
    "    \n",
    "    Odd = sigma_dot_sigma(1, 2%nqubits, nqubits)\n",
    "    for j in range(3,nqubits,2):\n",
    "        Odd += sigma_dot_sigma(j, (j+1)%nqubits, nqubits)\n",
    "        \n",
    "        \n",
    "    return Odd\n",
    "\n",
    "def Potential_Heisenberg_Terms(nqubits, hlist):\n",
    "    \n",
    "    Potential = np.sum([hlist[j]*sparse_pauli({j:'Z'}, nqubits) for j in range(nqubits)], axis = 0)\n",
    "        \n",
    "    return Potential\n",
    "\n",
    "\n",
    "\n"
   ]
  },
  {
   "cell_type": "markdown",
   "id": "1500aace-6f07-4fce-b1d9-6f7773689190",
   "metadata": {},
   "source": [
    "# Trial With Heisenberg Hamiltonian"
   ]
  },
  {
   "cell_type": "markdown",
   "id": "7e661a41-57ed-41a9-b223-77eeb0d59da5",
   "metadata": {},
   "source": [
    "## Initialise the Heisenberg Hamiltonian"
   ]
  },
  {
   "cell_type": "code",
   "execution_count": 436,
   "id": "e86455f5-ff81-469a-8dc4-7076eb12d67a",
   "metadata": {},
   "outputs": [],
   "source": [
    "## Initialise a set of Hamiltonian \n",
    "\n",
    "# System parameters.\n",
    "nqubits = 4\n",
    "h = 3 # Maximum single qubit potential strength\n",
    "\n",
    "# Define the Hamiltonian and the groupings of its terms.\n",
    "hlist = (np.random.rand(nqubits)*2 -1)*h\n",
    "Hterms_Heisenberg = [Even_Heisenberg_Terms(nqubits), Odd_Heisenberg_Terms(nqubits), Potential_Heisenberg_Terms(nqubits, hlist)]\n",
    "Htot = np.sum(Hterms_Heisenberg, axis = 0)\n",
    "\n",
    "\n",
    "# Choose local observable and initial state\n",
    "state = sparse_bitstring([nqubits//2], nqubits)\n",
    "#local_obs = Htot \n",
    "\n",
    "local_obs_array1= [{0: 'Z'},{nqubits-1: 'Z'}, {1: 'X'} ]\n",
    "local_obs_array2= [{0: 'X'}, {1:'Y'}, {nqubits-1: 'I'}]\n",
    "local_obs = intialise_observable(local_obs_array1, nqubits) + intialise_observable(local_obs_array2, nqubits)\n",
    "#local_obs_array= [{0: 'X'}, {1:'Y'}, {nqubits-1: 'I'}]\n",
    "#local_obs = intialise_observable(local_obs_array, nqubits)"
   ]
  },
  {
   "cell_type": "code",
   "execution_count": 568,
   "id": "e5857f02-8e9d-4a99-9be4-8862dc1f604f",
   "metadata": {},
   "outputs": [
    {
     "name": "stdout",
     "output_type": "stream",
     "text": [
      "Ideal value: 0.9442397580616217\n"
     ]
    }
   ],
   "source": [
    "time = 0.4\n",
    "\n",
    "final_state = sla.expm(-(1j)*time*np.array(Htot2)) @ state\n",
    "perfect_val_Heisenberg  = expectation_value(final_state, local_obs)\n",
    "\n",
    "print(\"Ideal value:\", perfect_val_Heisenberg) "
   ]
  },
  {
   "cell_type": "code",
   "execution_count": 567,
   "id": "b347cbc0-454d-4b70-bb53-b2edab73154a",
   "metadata": {},
   "outputs": [
    {
     "name": "stdout",
     "output_type": "stream",
     "text": [
      "Value from Trotterization: 0.944167563013554\n"
     ]
    }
   ],
   "source": [
    "## Check against Trotterisation\n",
    "lambda_param = 0\n",
    "for element in Heisenberg_matrix_rep:\n",
    "    lambda_param += element[0]\n",
    "\n",
    "time = 0.4\n",
    "no_timesteps = np.ceil( 2*time**2*lambda_param**2/epsilon )\n",
    "s_min   = 1/no_timesteps\n",
    "\n",
    "\n",
    "print(\"Value from Trotterization:\", Trotterized_Expectation(Hterms_Heisenberg, state, time, 1/no_timesteps, local_obs, order = 1))"
   ]
  },
  {
   "cell_type": "markdown",
   "id": "2bdea198-c6d1-431a-9283-766238b15c84",
   "metadata": {},
   "source": [
    "## Give an alternative Hamiltonian breakdown"
   ]
  },
  {
   "cell_type": "code",
   "execution_count": 496,
   "id": "e53555da-aa9a-471a-9451-3407668ecb03",
   "metadata": {},
   "outputs": [],
   "source": [
    "## qDRIFT Simulation Attempt 2\n",
    "# Add the Heisenberg terms separately to the list (i.e. using the standard qDRIFT representation).\n",
    "\n",
    "new_Heis_rep = []\n",
    "for j in range(nqubits):\n",
    "    new_Heis_rep.append(  [1 ,sparse_pauli({j:'X',(j+1)%nqubits:'X'},nqubits)])\n",
    "    new_Heis_rep.append([1 ,sparse_pauli({j:'Y',(j+1)%nqubits:'Y'},nqubits)])\n",
    "    new_Heis_rep.append([1 ,sparse_pauli({j:'Z',(j+1)%nqubits:'Z'},nqubits)])\n",
    "\n",
    "counter = 0\n",
    "for entry in hlist:\n",
    "    new_Heis_rep.append( [entry, sparse_pauli({counter:'Z'},nqubits)] )\n",
    "    counter += 1\n"
   ]
  },
  {
   "cell_type": "code",
   "execution_count": 569,
   "id": "c7ae5c04-90c9-4478-85c9-acbabb634ba9",
   "metadata": {},
   "outputs": [
    {
     "name": "stdout",
     "output_type": "stream",
     "text": [
      "qDRIFT Value: 0.9493105281995075\n"
     ]
    }
   ],
   "source": [
    "shot_no = 100\n",
    "lambda_param = 0\n",
    "for element in new_Heis_rep:\n",
    "    lambda_param += abs(element[0])\n",
    "\n",
    "Heis_val_new = qDRIFT_average(new_Heis_rep, state, local_obs, nqubits, time, no_timesteps, shot_no, matrix_input = 1)\n",
    "\n",
    "\n",
    "print(\"qDRIFT Value:\", Heis_val_new)"
   ]
  },
  {
   "cell_type": "code",
   "execution_count": 570,
   "id": "c6a2fe9e-4674-4cda-ad63-bba11c9258b2",
   "metadata": {},
   "outputs": [
    {
     "name": "stdout",
     "output_type": "stream",
     "text": [
      "Value from Trotterization: 0.9440304423054544\n"
     ]
    }
   ],
   "source": [
    "# Compare the above to Trotterized Implementation\n",
    "\n",
    "Heis_terms_Trotter = [ term[0]*term[1] for term in new_Heis_rep]\n",
    "\n",
    "trotter_val_2 = Trotterized_Expectation(Heis_terms_Trotter, state, time, 1/no_timesteps, local_obs, order = 1)\n",
    "print(\"Value from Trotterization:\", trotter_val_2)"
   ]
  },
  {
   "cell_type": "code",
   "execution_count": 543,
   "id": "ec9015e1-05da-4c6c-ba45-35d0d4687853",
   "metadata": {},
   "outputs": [
    {
     "name": "stdout",
     "output_type": "stream",
     "text": [
      "Ideal value: 0.5509855913784292\n"
     ]
    }
   ],
   "source": [
    "# Compare with the idealised evolution.\n",
    "\n",
    "Htot3 = np.sum(Heis_terms_Trotter, axis = 0)\n",
    "\n",
    "final_state = sla.expm(-(1j)*time*np.array(Htot3)) @ state\n",
    "perfect_Heis_val  = expectation_value(final_state, local_obs)\n",
    "\n",
    "print(\"Ideal value:\", perfect_Heis_val) "
   ]
  },
  {
   "cell_type": "markdown",
   "id": "314fbaff-5177-4b4f-8642-e42ef4d6704f",
   "metadata": {},
   "source": [
    "## qFLO Applied to Heisenberg Model"
   ]
  },
  {
   "cell_type": "code",
   "execution_count": 613,
   "id": "a60c4cb2-d557-41a5-8aac-de42b39111b7",
   "metadata": {},
   "outputs": [
    {
     "name": "stdout",
     "output_type": "stream",
     "text": [
      "Ideal value: 2.921863106747768\n"
     ]
    }
   ],
   "source": [
    "lambda_param = 0\n",
    "for element in Heisenberg_matrix_rep:\n",
    "    lambda_param += element[0]\n",
    "\n",
    "time = 0.1\n",
    "no_timesteps = np.ceil( 2*time**2*lambda_param**2/epsilon )\n",
    "s_min   = 1/no_timesteps\n",
    "# Choose local observable and initial state\n",
    "state = sparse_bitstring([nqubits//2], nqubits)\n",
    "#local_obs = Htot \n",
    "\n",
    "Htot3 = np.sum(Heis_terms_Trotter, axis = 0)\n",
    "\n",
    "final_state = sla.expm(-(1j)*time*np.array(Htot3)) @ state\n",
    "perfect_Heis_val  = expectation_value(final_state, local_obs)\n",
    "\n",
    "print(\"Ideal value:\", perfect_Heis_val) "
   ]
  },
  {
   "cell_type": "code",
   "execution_count": 621,
   "id": "6c663ee0-aca1-4952-9ed6-42ddfc24bce7",
   "metadata": {},
   "outputs": [
    {
     "name": "stdout",
     "output_type": "stream",
     "text": [
      "[0.14644660940672624] Sampled points [204.0]\n",
      "qDRIFT value: 2.9102622394974325\n",
      "Depth array [204.0]\n",
      "coefficient array: [1.]\n",
      "qFLO Estimate 2.9102622394974325\n",
      "[0.03806023374435662] Sampled points [1275.0]\n",
      "[0.03806023374435662, 0.3086582838174551] Sampled points [1275.0, 204.0]\n",
      "qDRIFT value: 2.919237275595624\n",
      "qDRIFT value: 2.9116108428241594\n",
      "Depth array [1275.0, 204.0]\n",
      "coefficient array: [ 1.19047619 -0.19047619]\n",
      "qFLO Estimate 2.9206899294568553\n",
      "[0.01703708685546585] Sampled points [3599.0]\n",
      "[0.01703708685546585, 0.14644660940672624] Sampled points [3599.0, 523.0]\n",
      "[0.01703708685546585, 0.14644660940672624, 0.37059047744873963] Sampled points [3599.0, 523.0, 204.0]\n",
      "qDRIFT value: 2.9212271351475865\n",
      "qDRIFT value: 2.9176509551195267\n",
      "qDRIFT value: 2.909773405233681\n",
      "Depth array [3599.0, 523.0, 204.0]\n",
      "coefficient array: [ 1.24033096 -0.27875737  0.03842642]\n",
      "qFLO Estimate 2.9217838959151905\n"
     ]
    }
   ],
   "source": [
    "error_array = []\n",
    "circuit_depth_array = []\n",
    "shot_no = 1000\n",
    "max_order = 3\n",
    "\n",
    "for order in range(1,max_order+1):\n",
    "    [Heis_qFLO_estimate, max_circuit_depth] = richardson_estimate(order, s_min, new_Heis_rep, state, time, local_obs, nqubits , shot_no, circuit_depth_flag=1, matrix_flag = 1)\n",
    "    print(\"qFLO Estimate\", Heis_qFLO_estimate)\n",
    "    circuit_depth_array.append(max_circuit_depth)\n",
    "    error = abs(perfect_Heis_val - Heis_qFLO_estimate)\n",
    "    error_array.append(error)"
   ]
  },
  {
   "cell_type": "code",
   "execution_count": 622,
   "id": "be5a3e4f-f3d3-47c7-aaba-1a9ca1249a10",
   "metadata": {},
   "outputs": [
    {
     "data": {
      "image/png": "[encoded data removed]",
      "text/plain": [
       "<Figure size 640x480 with 1 Axes>"
      ]
     },
     "metadata": {},
     "output_type": "display_data"
    },
    {
     "data": {
      "image/png": "[encoded data removed]",
      "text/plain": [
       "<Figure size 640x480 with 1 Axes>"
      ]
     },
     "metadata": {},
     "output_type": "display_data"
    }
   ],
   "source": [
    "import matplotlib.pyplot as plt\n",
    "\n",
    "fig = plt.plot(circuit_depth_array, error_array)  # Plot the chart\n",
    "fig = plt.figure()\n",
    "ax = fig.add_subplot(2,1,1)\n",
    "\n",
    "line, = ax.semilogy(circuit_depth_array,error_array, color='blue', lw=2)"
   ]
  },
  {
   "cell_type": "markdown",
   "id": "92732ec7-35d2-4a8a-8ad5-b647def7be87",
   "metadata": {},
   "source": [
    "## Generating Graphs for Paper"
   ]
  },
  {
   "cell_type": "code",
   "execution_count": 623,
   "id": "10446783-6f7d-49e3-964c-bfc384411403",
   "metadata": {},
   "outputs": [],
   "source": [
    "### Functions that are useful for outputting the graph. \n",
    "\n",
    "# This ensures all lists are output with the same length.\n",
    "def padding_function(list_of_arrays):\n",
    "\n",
    "    max_length = max([len(x) for x in list_of_arrays])\n",
    "\n",
    "    for element in list_of_arrays:\n",
    "        while len(element) < max_length:\n",
    "            element.append(None)\n",
    "\n",
    "    return list_of_arrays\n",
    "    \n",
    "        "
   ]
  },
  {
   "cell_type": "code",
   "execution_count": 628,
   "id": "1a3954a8-07a1-4272-852d-982abcf780d5",
   "metadata": {},
   "outputs": [],
   "source": [
    "### Print the data to file ###\n",
    "\n",
    "### Export data to Excel for future use:\n",
    "list_of_arrays = []\n",
    "# Make string out of state description.\n",
    "initial_state_string = ''\n",
    "initial_state_string = [initial_state_string + str(k) for k in sparse_bitstring([nqubits//2], nqubits)]\n",
    "initial_state_string = ''.join(initial_state_string)\n",
    "\n",
    "# Initialise arrays.\n",
    "List_Params   = [None] * max(len(circuit_depth_array), nqubits)\n",
    "Params_Values = [None] * max(len(circuit_depth_array), nqubits)\n",
    "hlist_string  = [None] * max(len(circuit_depth_array), nqubits)\n",
    "obs_string    = [None] * max(len(circuit_depth_array), nqubits)\n",
    "\n",
    "# Put hlist in correctly formatted array.\n",
    "for k in range(len(hlist)):\n",
    "    hlist_string[k] = hlist[k]\n",
    "    \n",
    "# Put obs_string in correctly formatted array.    \n",
    "for k in range(len(local_obs_array)):\n",
    "    obs_string[k] = local_obs_array[k]\n",
    "\n",
    "# Input the values of the parameters.    \n",
    "List_Params[0] = 'Simulation Time'\n",
    "List_Params[1] = 'Number Qubits'\n",
    "List_Params[2] = 'Initial State String'\n",
    "Params_Values[0] = time\n",
    "Params_Values[1] = nqubits\n",
    "Params_Values[2] = initial_state_string\n",
    "\n",
    "#for array in degree_list:\n",
    "#    list_of_arrays.append(array)\n",
    "#for array in time_error_array_generic:\n",
    "#    list_of_arrays.append(array)\n",
    "#for array in time_best_val_error_array_Richardson:\n",
    "#    list_of_arrays.append(array)\n",
    "\n",
    "list_of_arrays = list_of_arrays + [circuit_depth_array,error_array,hlist_string, obs_string, List_Params, Params_Values ]\n",
    "padded_arrays  = padding_function(list_of_arrays)\n",
    "\n",
    "# Print data:\n",
    "data = {'Trotter_Depth_qFLO': padded_arrays[0],\n",
    "        'Richardson_Extrapolated_Error': padded_arrays[1],\n",
    "        'hlist': padded_arrays[2], \n",
    "        'Observable Strings': padded_arrays[3], \n",
    "        'List_of_Parameters': padded_arrays[4],\n",
    "        'Parameter_Values': padded_arrays[5],\n",
    "        }\n",
    "\n",
    "df = pd.DataFrame(data)\n",
    "\n",
    "now = datetime.now()\n",
    "current_time = now.strftime(\"%H.%M.%S\")\n",
    "\n",
    "file_location_name = r'Data_Sheets\\A_qFLO_Heisenberg'+'_'+str(date.today())+'_'+current_time+'.xlsx'\n",
    "df.to_excel(file_location_name, index=False)"
   ]
  },
  {
   "cell_type": "code",
   "execution_count": null,
   "id": "55f6159c-0331-4b0a-929b-d2e654f0b6aa",
   "metadata": {},
   "outputs": [],
   "source": []
  }
 ],
 "metadata": {
  "kernelspec": {
   "display_name": "Python 3 (ipykernel)",
   "language": "python",
   "name": "python3"
  },
  "language_info": {
   "codemirror_mode": {
    "name": "ipython",
    "version": 3
   },
   "file_extension": ".py",
   "mimetype": "text/x-python",
   "name": "python",
   "nbconvert_exporter": "python",
   "pygments_lexer": "ipython3",
   "version": "3.11.7"
  }
 },
 "nbformat": 4,
 "nbformat_minor": 5
}

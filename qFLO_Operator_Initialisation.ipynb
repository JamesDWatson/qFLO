{
 "cells": [
  {
   "cell_type": "markdown",
   "id": "3533c386-1738-42aa-a008-44aa2d8312fc",
   "metadata": {},
   "source": [
    "# Straightforward input data without OpenFermion"
   ]
  },
  {
   "cell_type": "code",
   "execution_count": 7,
   "id": "5a76f9c2-c9df-482f-b7cc-0739a1990b13",
   "metadata": {},
   "outputs": [],
   "source": [
    "### This takes the values stored without going through OpenFermion\n",
    "\n",
    "#H2\n",
    "H2_operator = [['-0.16733398905695251', ''], ['-0.046156695889015324', 'X0 X1 Y2 Y3'], ['0.046156695889015324', 'X0 Y1 Y2 X3'], ['0.046156695889015324', 'Y0 X1 X2 Y3'], ['-0.046156695889015324', 'Y0 Y1 X2 X3'], ['0.16251648748871642', 'Z0'], ['0.16583253721590402', 'Z0 Z1'], ['0.11720364720195847', 'Z0 Z2'], ['0.1633603430909738', 'Z0 Z3'], ['0.16251648748871642', 'Z1'], ['0.1633603430909738', 'Z1 Z2'], ['0.11720364720195847', 'Z1 Z3'], ['-0.19744293699755816', 'Z2'], ['0.17169788392286725', 'Z2 Z3'], ['-0.19744293699755816', 'Z3']]\n",
    "\n",
    "#LiH\n",
    "LiH_operator = [['-7.49894690201071', ''], ['-0.0029329964409502266', 'X0 X1 Y2 Y3'], ['0.0029329964409502266', 'X0 Y1 Y2 X3'], ['0.01291078027311749', 'X0 Z1 X2'], ['-0.0013743761078958677', 'X0 Z1 X2 Z3'], ['0.011536413200774975', 'X0 X2'], ['0.0029329964409502266', 'Y0 X1 X2 Y3'], ['-0.0029329964409502266', 'Y0 Y1 X2 X3'], ['0.01291078027311749', 'Y0 Z1 Y2'], ['-0.0013743761078958677', 'Y0 Z1 Y2 Z3'], ['0.011536413200774975', 'Y0 Y2'], ['0.16199475388004184', 'Z0'], ['0.011536413200774975', 'Z0 X1 Z2 X3'], ['0.011536413200774975', 'Z0 Y1 Z2 Y3'], ['0.12444770133137588', 'Z0 Z1'], ['0.054130445793298836', 'Z0 Z2'], ['0.05706344223424907', 'Z0 Z3'], ['0.012910780273117487', 'X1 Z2 X3'], ['-0.0013743761078958677', 'X1 X3'], ['0.012910780273117487', 'Y1 Z2 Y3'], ['-0.0013743761078958677', 'Y1 Y3'], ['0.16199475388004186', 'Z1'], ['0.05706344223424907', 'Z1 Z2'], ['0.054130445793298836', 'Z1 Z3'], ['-0.013243698330265966', 'Z2'], ['0.08479609543670981', 'Z2 Z3'], ['-0.013243698330265952', 'Z3']]"
   ]
  },
  {
   "cell_type": "code",
   "execution_count": null,
   "id": "34b3ecb8-c335-4002-9315-472a6147e95a",
   "metadata": {},
   "outputs": [],
   "source": []
  },
  {
   "cell_type": "markdown",
   "id": "520df7df-1de1-4daa-8658-27bc20201a26",
   "metadata": {},
   "source": [
    "# Initialise OpenFermion Operators"
   ]
  },
  {
   "cell_type": "markdown",
   "id": "b2fed2d3-b87a-4f44-840e-7f481df3d0d6",
   "metadata": {},
   "source": [
    "## For H2"
   ]
  },
  {
   "cell_type": "code",
   "execution_count": 8,
   "id": "68d25612-1cbf-48a1-9b76-b836aa2e5af4",
   "metadata": {},
   "outputs": [
    {
     "ename": "ModuleNotFoundError",
     "evalue": "No module named 'openfermionpyscf'",
     "output_type": "error",
     "traceback": [
      "\u001b[1;31m---------------------------------------------------------------------------\u001b[0m",
      "\u001b[1;31mModuleNotFoundError\u001b[0m                       Traceback (most recent call last)",
      "Cell \u001b[1;32mIn[8], line 1\u001b[0m\n\u001b[1;32m----> 1\u001b[0m \u001b[38;5;28;01mimport\u001b[39;00m \u001b[38;5;21;01mopenfermionpyscf\u001b[39;00m \u001b[38;5;28;01mas\u001b[39;00m \u001b[38;5;21;01mofpyscf\u001b[39;00m\n\u001b[0;32m      2\u001b[0m \u001b[38;5;28;01mimport\u001b[39;00m \u001b[38;5;21;01mopenfermion\u001b[39;00m\n\u001b[0;32m      4\u001b[0m \u001b[38;5;66;03m# Set molecule parameters\u001b[39;00m\n",
      "\u001b[1;31mModuleNotFoundError\u001b[0m: No module named 'openfermionpyscf'"
     ]
    }
   ],
   "source": [
    "import openfermionpyscf as ofpyscf\n",
    "import openfermion\n",
    "import re\n",
    "\n",
    "# Set molecule parameters\n",
    "geometry = [(\"H\", (0.0, 0.0, 0.0)), (\"H\", (0.0, 0.0, 0.8))]\n",
    "basis = \"sto-3g\"\n",
    "multiplicity = 1\n",
    "charge = 0\n",
    "\n",
    "# Perform electronic structure calculations and\n",
    "# obtain Hamiltonian as an InteractionOperator\n",
    "hamiltonian = ofpyscf.generate_molecular_hamiltonian(\n",
    "    geometry, basis, multiplicity, charge\n",
    ")\n",
    "\n",
    "# Convert to a FermionOperator\n",
    "hamiltonian_ferm_op = openfermion.get_fermion_operator(hamiltonian)\n",
    "\n",
    "H2_JW = openfermion.jordan_wigner(hamiltonian_ferm_op)\n",
    "print(H2_JW)"
   ]
  },
  {
   "cell_type": "code",
   "execution_count": null,
   "id": "edd9fa5a-83e7-4922-be13-fd7b095a7fd8",
   "metadata": {},
   "outputs": [],
   "source": [
    "temp = str(H2_JW).split(' +\\n')\n",
    "H2_operator_array = []\n",
    "counter = 0\n",
    "for element in temp:\n",
    "    operator    = re.findall(r'\\[.*?\\]', element)\n",
    "    coefficient = re.findall(r'\\(.*?\\)', element)\n",
    "    coefficient = coefficient[0][1:-4]    #-4 to remove the ``+0j)'' part.\n",
    "    operator    = operator[0][1:-1]\n",
    "    H2_operator_array.append([coefficient, operator])\n",
    "\n",
    "print(H2_operator_array)"
   ]
  },
  {
   "cell_type": "markdown",
   "id": "a0cc64d1-2072-48d8-b18d-5c79a673904e",
   "metadata": {},
   "source": [
    "## For LiH "
   ]
  },
  {
   "cell_type": "code",
   "execution_count": 9,
   "id": "52762570-550d-4da5-862d-6e552d1b9c5f",
   "metadata": {},
   "outputs": [
    {
     "ename": "NameError",
     "evalue": "name 'openfermion' is not defined",
     "output_type": "error",
     "traceback": [
      "\u001b[1;31m---------------------------------------------------------------------------\u001b[0m",
      "\u001b[1;31mNameError\u001b[0m                                 Traceback (most recent call last)",
      "Cell \u001b[1;32mIn[9], line 10\u001b[0m\n\u001b[0;32m      7\u001b[0m active_space_stop \u001b[38;5;241m=\u001b[39m \u001b[38;5;241m3\u001b[39m\n\u001b[0;32m      9\u001b[0m \u001b[38;5;66;03m# Generate and populate instance of MolecularData.\u001b[39;00m\n\u001b[1;32m---> 10\u001b[0m molecule \u001b[38;5;241m=\u001b[39m openfermion\u001b[38;5;241m.\u001b[39mMolecularData(geometry, basis, multiplicity, description\u001b[38;5;241m=\u001b[39m\u001b[38;5;124m\"\u001b[39m\u001b[38;5;124m1.45\u001b[39m\u001b[38;5;124m\"\u001b[39m)\n\u001b[0;32m     11\u001b[0m molecule\u001b[38;5;241m.\u001b[39mload()\n\u001b[0;32m     13\u001b[0m \u001b[38;5;66;03m# Get the Hamiltonian in an active space.\u001b[39;00m\n",
      "\u001b[1;31mNameError\u001b[0m: name 'openfermion' is not defined"
     ]
    }
   ],
   "source": [
    "# Set Hamiltonian parameters for LiH simulation in active space.\n",
    "diatomic_bond_length = 1.45\n",
    "geometry = [('Li', (0., 0., 0.)), ('H', (0., 0., diatomic_bond_length))]\n",
    "basis = 'sto-3g'\n",
    "multiplicity = 1\n",
    "active_space_start = 1\n",
    "active_space_stop = 3\n",
    "\n",
    "# Generate and populate instance of MolecularData.\n",
    "molecule = openfermion.MolecularData(geometry, basis, multiplicity, description=\"1.45\")\n",
    "molecule.load()\n",
    "\n",
    "# Get the Hamiltonian in an active space.\n",
    "molecular_hamiltonian = molecule.get_molecular_hamiltonian(\n",
    "    occupied_indices=range(active_space_start),\n",
    "    active_indices=range(active_space_start, active_space_stop))\n",
    "print(str(openfermion.get_fermion_operator(molecular_hamiltonian)))"
   ]
  },
  {
   "cell_type": "code",
   "execution_count": null,
   "id": "be6f0a94-14ff-4cb3-81df-7bbaf7b77232",
   "metadata": {},
   "outputs": [],
   "source": [
    "temp_op=openfermion.get_fermion_operator(molecular_hamiltonian)"
   ]
  },
  {
   "cell_type": "code",
   "execution_count": null,
   "id": "a4a31b90-3c05-4a8c-91a1-be65f155118b",
   "metadata": {},
   "outputs": [],
   "source": [
    "import re\n",
    "\n",
    "#Now decompose the string into separate components.\n",
    "\n",
    "temp = string_op.split(' +\\n')\n",
    "operator_array = []\n",
    "counter = 0\n",
    "for element in temp:\n",
    "    operator    = re.findall(r'\\[.*?\\]', element)\n",
    "    coefficient = re.findall(r'\\(.*?\\)', element)\n",
    "    coefficient = coefficient[0][1:-4]    #-4 to remove the ``+0j)'' part.\n",
    "    operator    = operator[0][1:-1]\n",
    "    operator_array.append([coefficient, operator])\n",
    "\n",
    "print(operator_array)"
   ]
  }
 ],
 "metadata": {
  "kernelspec": {
   "display_name": "Python 3 (ipykernel)",
   "language": "python",
   "name": "python3"
  },
  "language_info": {
   "codemirror_mode": {
    "name": "ipython",
    "version": 3
   },
   "file_extension": ".py",
   "mimetype": "text/x-python",
   "name": "python",
   "nbconvert_exporter": "python",
   "pygments_lexer": "ipython3",
   "version": "3.11.7"
  }
 },
 "nbformat": 4,
 "nbformat_minor": 5
}
